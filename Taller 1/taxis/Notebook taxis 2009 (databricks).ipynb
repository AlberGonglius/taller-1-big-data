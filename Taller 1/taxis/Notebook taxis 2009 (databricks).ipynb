{
 "cells": [
  {
   "cell_type": "markdown",
   "metadata": {},
   "source": [
    "# Archivo para generar el cruce con geopandas en databricks"
   ]
  },
  {
   "cell_type": "code",
   "execution_count": 0,
   "metadata": {
    "application/vnd.databricks.v1+cell": {
     "cellMetadata": {
      "byteLimit": 2048000,
      "rowLimit": 10000
     },
     "inputWidgets": {},
     "nuid": "d12d0a13-4793-48fa-9d9a-697bc859f0be",
     "showTitle": false,
     "title": ""
    }
   },
   "outputs": [],
   "source": [
    "#dbutils.fs.put(\"/FileStore/my-stuff/my-file.txt\", \"This is the actual text that will be saved to disk. Like a 'Hello world!' example\")"
   ]
  },
  {
   "cell_type": "code",
   "execution_count": 0,
   "metadata": {
    "application/vnd.databricks.v1+cell": {
     "cellMetadata": {
      "byteLimit": 2048000,
      "rowLimit": 10000
     },
     "inputWidgets": {},
     "nuid": "5583abfc-3651-46c9-ad3c-e906ffa987ea",
     "showTitle": false,
     "title": ""
    }
   },
   "outputs": [
    {
     "name": "stderr",
     "output_type": "stream",
     "text": [
      "/databricks/spark/python/pyspark/sql/context.py:117: FutureWarning: Deprecated in 3.0.0. Use SparkSession.builder.getOrCreate() instead.\n",
      "  warnings.warn(\n"
     ]
    }
   ],
   "source": [
    "from pyspark.sql import SparkSession\n",
    "from pyspark import SparkConf\n",
    "from pyspark.sql import functions as f\n",
    "from pyspark.sql.types import StringType\n",
    "from pyspark.sql.functions import year, month, dayofmonth, concat_ws, lpad\n",
    "from pyspark.sql.functions import col\n",
    "from pyspark.sql.functions import count, sum\n",
    "import pandas as pd\n",
    "#import seaborn as sns\n",
    "import pyarrow.parquet as pq\n",
    "from pyspark.sql import SQLContext\n",
    "\n",
    "\n",
    "# SparkConf().set(\"spark.jars.packages\",\"org.apache.hadoop:hadoop-aws:3.0.0-alpha3\")\n",
    "sc = SparkSession.builder.getOrCreate()\n",
    "\n",
    "sqlContext = SQLContext(sc)\n",
    "sqlContext.setConf(\"spark.sql.shuffle.partitions\", \"auto\")\n",
    "sqlContext.setConf(\"spark.sql.execution.arrow.pyspark.enabled\", \"true\")\n",
    "#spark.conf.set(\"spark.sql.adaptive.shuffle.partitions\", True)\n",
    "#sqlContext = SQLContext(sc)\n",
    "\n",
    "#df2 = sqlContext.read.parquet(\"s3://taxisabd2023/yellow_tripdata_2009-01.parquet\")"
   ]
  },
  {
   "cell_type": "code",
   "execution_count": 0,
   "metadata": {
    "application/vnd.databricks.v1+cell": {
     "cellMetadata": {
      "byteLimit": 2048000,
      "rowLimit": 10000
     },
     "inputWidgets": {},
     "nuid": "8313c54d-d1fd-4297-bad4-a07fe4691e42",
     "showTitle": false,
     "title": ""
    }
   },
   "outputs": [
    {
     "data": {
      "text/plain": [
       "'auto'"
      ]
     },
     "execution_count": 44,
     "metadata": {},
     "output_type": "execute_result"
    }
   ],
   "source": [
    "spark.conf.get(\"spark.sql.shuffle.partitions\")"
   ]
  },
  {
   "cell_type": "code",
   "execution_count": 0,
   "metadata": {
    "application/vnd.databricks.v1+cell": {
     "cellMetadata": {
      "byteLimit": 2048000,
      "rowLimit": 10000
     },
     "inputWidgets": {},
     "nuid": "85c7e609-ab75-46f0-aac8-2fda0608e157",
     "showTitle": false,
     "title": ""
    }
   },
   "outputs": [],
   "source": [
    "#Función para el geojoin \n",
    "from pyspark.sql.types import StringType\n",
    "from pyspark.sql.functions import col, pandas_udf\n",
    "\n",
    "def create_sjoin_udf(gdf_with_poly,join_column_name):\n",
    "    def sjoin_settlement(x, y):\n",
    "        gdf_temp = gpd.GeoDataFrame(data = [[x] for x in range(len(x))],geometry=gpd.points_from_xy(x,y),columns=['id'])\n",
    "        settlement = gpd.sjoin(gdf_temp,gdf_with_poly[['borough','geometry']],how='left')#.fillna(np.nan)\n",
    "        \n",
    "        return settlement.groupby('id').agg({'borough':lambda x: list(x)}).reset_index().sort_values(by='id').loc[:,join_column_name].astype('str').str.strip('[]').str.strip(\"'\")# if pd.isnull(sum(x)) == False else np.nan}).reset_index().sort_values(by='id').loc[:,join_column_name]\n",
    "    return pandas_udf(sjoin_settlement, returnType=StringType())\n",
    "sjoin_udf = create_sjoin_udf(zone_gdf,'borough')"
   ]
  },
  {
   "cell_type": "code",
   "execution_count": 0,
   "metadata": {
    "application/vnd.databricks.v1+cell": {
     "cellMetadata": {
      "byteLimit": 2048000,
      "rowLimit": 10000
     },
     "inputWidgets": {},
     "nuid": "401fa81c-1661-4a66-922a-73e90809589e",
     "showTitle": false,
     "title": ""
    }
   },
   "outputs": [],
   "source": [
    "import requests \n",
    "import geopandas as gpd\n",
    "request = requests.get('https://raw.githubusercontent.com/AlberGonglius/taller-1-big-data/main/NYCTaxiZones.json')\n",
    "geojson = request.json()\n",
    "zone_gdf = gpd.GeoDataFrame.from_features(geojson['features'])"
   ]
  },
  {
   "cell_type": "code",
   "execution_count": 0,
   "metadata": {
    "application/vnd.databricks.v1+cell": {
     "cellMetadata": {
      "byteLimit": 2048000,
      "rowLimit": 10000
     },
     "inputWidgets": {},
     "nuid": "19572063-11d0-44b1-8556-c27e1b8ab59b",
     "showTitle": false,
     "title": ""
    }
   },
   "outputs": [
    {
     "data": {
      "text/html": [
       "<div>\n",
       "<style scoped>\n",
       "    .dataframe tbody tr th:only-of-type {\n",
       "        vertical-align: middle;\n",
       "    }\n",
       "\n",
       "    .dataframe tbody tr th {\n",
       "        vertical-align: top;\n",
       "    }\n",
       "\n",
       "    .dataframe thead th {\n",
       "        text-align: right;\n",
       "    }\n",
       "</style>\n",
       "<table border=\"1\" class=\"dataframe\">\n",
       "  <thead>\n",
       "    <tr style=\"text-align: right;\">\n",
       "      <th></th>\n",
       "      <th>geometry</th>\n",
       "      <th>shape_area</th>\n",
       "      <th>objectid</th>\n",
       "      <th>shape_leng</th>\n",
       "      <th>location_id</th>\n",
       "      <th>zone</th>\n",
       "      <th>borough</th>\n",
       "    </tr>\n",
       "  </thead>\n",
       "  <tbody>\n",
       "    <tr>\n",
       "      <th>0</th>\n",
       "      <td>MULTIPOLYGON (((-74.18445 40.69500, -74.18449 ...</td>\n",
       "      <td>0.0007823067885</td>\n",
       "      <td>1</td>\n",
       "      <td>0.116357453189</td>\n",
       "      <td>1</td>\n",
       "      <td>Newark Airport</td>\n",
       "      <td>EWR</td>\n",
       "    </tr>\n",
       "    <tr>\n",
       "      <th>1</th>\n",
       "      <td>MULTIPOLYGON (((-73.82338 40.63899, -73.82277 ...</td>\n",
       "      <td>0.00486634037837</td>\n",
       "      <td>2</td>\n",
       "      <td>0.43346966679</td>\n",
       "      <td>2</td>\n",
       "      <td>Jamaica Bay</td>\n",
       "      <td>Queens</td>\n",
       "    </tr>\n",
       "    <tr>\n",
       "      <th>2</th>\n",
       "      <td>MULTIPOLYGON (((-73.84793 40.87134, -73.84725 ...</td>\n",
       "      <td>0.000314414156821</td>\n",
       "      <td>3</td>\n",
       "      <td>0.0843411059012</td>\n",
       "      <td>3</td>\n",
       "      <td>Allerton/Pelham Gardens</td>\n",
       "      <td>Bronx</td>\n",
       "    </tr>\n",
       "    <tr>\n",
       "      <th>3</th>\n",
       "      <td>MULTIPOLYGON (((-73.97177 40.72582, -73.97179 ...</td>\n",
       "      <td>0.000111871946192</td>\n",
       "      <td>4</td>\n",
       "      <td>0.0435665270921</td>\n",
       "      <td>4</td>\n",
       "      <td>Alphabet City</td>\n",
       "      <td>Manhattan</td>\n",
       "    </tr>\n",
       "    <tr>\n",
       "      <th>4</th>\n",
       "      <td>MULTIPOLYGON (((-74.17422 40.56257, -74.17349 ...</td>\n",
       "      <td>0.000497957489363</td>\n",
       "      <td>5</td>\n",
       "      <td>0.0921464898574</td>\n",
       "      <td>5</td>\n",
       "      <td>Arden Heights</td>\n",
       "      <td>Staten Island</td>\n",
       "    </tr>\n",
       "    <tr>\n",
       "      <th>...</th>\n",
       "      <td>...</td>\n",
       "      <td>...</td>\n",
       "      <td>...</td>\n",
       "      <td>...</td>\n",
       "      <td>...</td>\n",
       "      <td>...</td>\n",
       "      <td>...</td>\n",
       "    </tr>\n",
       "    <tr>\n",
       "      <th>258</th>\n",
       "      <td>MULTIPOLYGON (((-73.95834 40.71331, -73.95681 ...</td>\n",
       "      <td>0.000168611097013</td>\n",
       "      <td>256</td>\n",
       "      <td>0.0679149669603</td>\n",
       "      <td>256</td>\n",
       "      <td>Williamsburg (South Side)</td>\n",
       "      <td>Brooklyn</td>\n",
       "    </tr>\n",
       "    <tr>\n",
       "      <th>259</th>\n",
       "      <td>MULTIPOLYGON (((-73.85107 40.91037, -73.85207 ...</td>\n",
       "      <td>0.000394552487366</td>\n",
       "      <td>259</td>\n",
       "      <td>0.126750305191</td>\n",
       "      <td>259</td>\n",
       "      <td>Woodlawn/Wakefield</td>\n",
       "      <td>Bronx</td>\n",
       "    </tr>\n",
       "    <tr>\n",
       "      <th>260</th>\n",
       "      <td>MULTIPOLYGON (((-73.90175 40.76078, -73.90147 ...</td>\n",
       "      <td>0.000422345326907</td>\n",
       "      <td>260</td>\n",
       "      <td>0.133514154636</td>\n",
       "      <td>260</td>\n",
       "      <td>Woodside</td>\n",
       "      <td>Queens</td>\n",
       "    </tr>\n",
       "    <tr>\n",
       "      <th>261</th>\n",
       "      <td>MULTIPOLYGON (((-74.01333 40.70503, -74.01327 ...</td>\n",
       "      <td>0.0000343423231652</td>\n",
       "      <td>261</td>\n",
       "      <td>0.0271204563616</td>\n",
       "      <td>261</td>\n",
       "      <td>World Trade Center</td>\n",
       "      <td>Manhattan</td>\n",
       "    </tr>\n",
       "    <tr>\n",
       "      <th>262</th>\n",
       "      <td>MULTIPOLYGON (((-73.94383 40.78286, -73.94376 ...</td>\n",
       "      <td>0.000122330270966</td>\n",
       "      <td>262</td>\n",
       "      <td>0.0490636231541</td>\n",
       "      <td>262</td>\n",
       "      <td>Yorkville East</td>\n",
       "      <td>Manhattan</td>\n",
       "    </tr>\n",
       "  </tbody>\n",
       "</table>\n",
       "<p>263 rows × 7 columns</p>\n",
       "</div>"
      ],
      "text/plain": [
       "                                              geometry  ...        borough\n",
       "0    MULTIPOLYGON (((-74.18445 40.69500, -74.18449 ...  ...            EWR\n",
       "1    MULTIPOLYGON (((-73.82338 40.63899, -73.82277 ...  ...         Queens\n",
       "2    MULTIPOLYGON (((-73.84793 40.87134, -73.84725 ...  ...          Bronx\n",
       "3    MULTIPOLYGON (((-73.97177 40.72582, -73.97179 ...  ...      Manhattan\n",
       "4    MULTIPOLYGON (((-74.17422 40.56257, -74.17349 ...  ...  Staten Island\n",
       "..                                                 ...  ...            ...\n",
       "258  MULTIPOLYGON (((-73.95834 40.71331, -73.95681 ...  ...       Brooklyn\n",
       "259  MULTIPOLYGON (((-73.85107 40.91037, -73.85207 ...  ...          Bronx\n",
       "260  MULTIPOLYGON (((-73.90175 40.76078, -73.90147 ...  ...         Queens\n",
       "261  MULTIPOLYGON (((-74.01333 40.70503, -74.01327 ...  ...      Manhattan\n",
       "262  MULTIPOLYGON (((-73.94383 40.78286, -73.94376 ...  ...      Manhattan\n",
       "\n",
       "[263 rows x 7 columns]"
      ]
     },
     "execution_count": 66,
     "metadata": {},
     "output_type": "execute_result"
    }
   ],
   "source": [
    "zone_gdf"
   ]
  },
  {
   "cell_type": "code",
   "execution_count": 0,
   "metadata": {
    "application/vnd.databricks.v1+cell": {
     "cellMetadata": {
      "byteLimit": 2048000,
      "rowLimit": 10000
     },
     "inputWidgets": {},
     "nuid": "907ab263-7cdd-4211-99b2-5ac0297052af",
     "showTitle": false,
     "title": ""
    }
   },
   "outputs": [
    {
     "name": "stdout",
     "output_type": "stream",
     "text": [
      "+--------------------+------------------+------------------+---------+------------------+---------+---------+\n",
      "|Trip_Pickup_DateTime|     Trip_Distance|         Start_Lon|Start_Lat|           End_Lon|  End_Lat|Total_Amt|\n",
      "+--------------------+------------------+------------------+---------+------------------+---------+---------+\n",
      "| 2009-01-04 02:52:00|              2.63|        -73.991957|40.721567|        -73.993803|40.695922|      9.4|\n",
      "| 2009-01-04 03:31:00|              4.55|        -73.982102| 40.73629|         -73.95585| 40.76803|     14.6|\n",
      "| 2009-01-03 15:43:00|             10.35|        -74.002587|40.739748|        -73.869983|40.770225|    28.44|\n",
      "| 2009-01-01 20:52:58|               5.0|        -73.974267|40.790955|-73.99655799999998|40.731849|    18.45|\n",
      "| 2009-01-24 16:18:23|               0.4|         -74.00158|40.719382|-74.00837799999998| 40.72035|      3.7|\n",
      "| 2009-01-16 22:35:59|               1.2|        -73.989806|40.735006|        -73.985021|40.724494|      6.6|\n",
      "| 2009-01-21 08:55:57|               0.4|-73.98404999999998|40.743544|         -73.98026|40.748926|      6.7|\n",
      "| 2009-01-04 04:31:00|              1.72|        -73.992635|40.748362|        -73.995585|40.728307|      6.6|\n",
      "| 2009-01-05 16:29:02|               1.6|         -73.96969|40.749244|        -73.990413|40.751082|     10.0|\n",
      "| 2009-01-05 18:53:13|0.6999999999999998|        -73.955173|40.783044|-73.95859799999998|40.774822|      5.9|\n",
      "| 2009-01-05 08:15:38|0.2999999999999999|        -73.986824|40.750893|-73.98411799999998|40.751437|      2.9|\n",
      "| 2009-01-05 06:21:43|               2.3|          -74.0061|40.748432|        -73.978437|40.762481|      7.7|\n",
      "| 2009-01-20 13:44:02|               2.1|        -73.983339|40.744782|         -73.98116|40.720835|      7.3|\n",
      "| 2009-01-05 16:19:53|               1.2|         -73.97351| 40.76028|        -73.962933|40.775119|      6.7|\n",
      "| 2009-01-05 17:22:16|               0.8|        -73.984426| 40.75748|-73.98251899999998|40.767165|      5.9|\n",
      "| 2009-01-05 16:02:52|               4.5|-73.99106399999998|40.727654|-73.94577099999998| 40.77765|     13.9|\n",
      "| 2009-01-05 12:15:06|               1.7|        -74.001678|  40.7473|-73.97895699999998|40.750394|      8.5|\n",
      "| 2009-01-05 07:49:57|               1.0|-73.98245699999998|40.731475|        -73.973011|40.743387|      5.5|\n",
      "| 2009-01-23 23:57:34|               5.0|        -73.992554|40.724476|-73.95306499999998|40.777555|    17.25|\n",
      "| 2009-01-05 10:23:13|               1.3|        -73.990089|40.759027|        -73.983974|40.746938|      7.3|\n",
      "+--------------------+------------------+------------------+---------+------------------+---------+---------+\n",
      "only showing top 20 rows\n",
      "\n"
     ]
    }
   ],
   "source": [
    "#se leen los primeros parquet que se saben tienen la misma esrtuctura y solo las cols que importan\n",
    "\n",
    "df1 = spark.read.parquet(\"s3://taxisabd2023/yellow_tripdata_2009-01.parquet\").select('Trip_Pickup_DateTime', 'Trip_Distance',  'Start_Lon', 'Start_Lat', 'End_Lon', 'End_Lat','Total_Amt')\n",
    "df2 = spark.read.parquet(\"s3://taxisabd2023/yellow_tripdata_2009-02.parquet\").select('Trip_Pickup_DateTime', 'Trip_Distance',  'Start_Lon', 'Start_Lat', 'End_Lon', 'End_Lat','Total_Amt')\n",
    "df3 = spark.read.parquet(\"s3://taxisabd2023/yellow_tripdata_2009-03.parquet\").select('Trip_Pickup_DateTime', 'Trip_Distance',  'Start_Lon', 'Start_Lat', 'End_Lon', 'End_Lat','Total_Amt')\n",
    "df4 = spark.read.parquet(\"s3://taxisabd2023/yellow_tripdata_2009-04.parquet\").select('Trip_Pickup_DateTime', 'Trip_Distance',  'Start_Lon', 'Start_Lat', 'End_Lon', 'End_Lat','Total_Amt')\n",
    "df5 = spark.read.parquet(\"s3://taxisabd2023/yellow_tripdata_2009-05.parquet\").select('Trip_Pickup_DateTime', 'Trip_Distance',  'Start_Lon', 'Start_Lat', 'End_Lon', 'End_Lat','Total_Amt')\n",
    "df6 = spark.read.parquet(\"s3://taxisabd2023/yellow_tripdata_2009-06.parquet\").select('Trip_Pickup_DateTime', 'Trip_Distance',  'Start_Lon', 'Start_Lat', 'End_Lon', 'End_Lat','Total_Amt')\n",
    "df7 = spark.read.parquet(\"s3://taxisabd2023/yellow_tripdata_2009-07.parquet\").select('Trip_Pickup_DateTime', 'Trip_Distance',  'Start_Lon', 'Start_Lat', 'End_Lon', 'End_Lat','Total_Amt')\n",
    "df8 = spark.read.parquet(\"s3://taxisabd2023/yellow_tripdata_2009-08.parquet\").select('Trip_Pickup_DateTime', 'Trip_Distance',  'Start_Lon', 'Start_Lat', 'End_Lon', 'End_Lat','Total_Amt')\n",
    "df9 = spark.read.parquet(\"s3://taxisabd2023/yellow_tripdata_2009-09.parquet\").select('Trip_Pickup_DateTime', 'Trip_Distance',  'Start_Lon', 'Start_Lat', 'End_Lon', 'End_Lat','Total_Amt')\n",
    "df10 = spark.read.parquet(\"s3://taxisabd2023/yellow_tripdata_2009-10.parquet\").select('Trip_Pickup_DateTime', 'Trip_Distance',  'Start_Lon', 'Start_Lat', 'End_Lon', 'End_Lat','Total_Amt')\n",
    "df11 = spark.read.parquet(\"s3://taxisabd2023/yellow_tripdata_2009-11.parquet\").select('Trip_Pickup_DateTime', 'Trip_Distance',  'Start_Lon', 'Start_Lat', 'End_Lon', 'End_Lat','Total_Amt')\n",
    "df12 = spark.read.parquet(\"s3://taxisabd2023/yellow_tripdata_2009-12.parquet\").select('Trip_Pickup_DateTime', 'Trip_Distance',  'Start_Lon', 'Start_Lat', 'End_Lon', 'End_Lat','Total_Amt')\n",
    "\n",
    "df = df1.union(df2).union(df3).union(df4).union(df5).union(df6).union(df7).union(df8).union(df9).union(df10).union(df11).union(df12)\n",
    "\n",
    "df.show()"
   ]
  },
  {
   "cell_type": "code",
   "execution_count": 0,
   "metadata": {
    "application/vnd.databricks.v1+cell": {
     "cellMetadata": {
      "byteLimit": 2048000,
      "rowLimit": 10000
     },
     "inputWidgets": {},
     "nuid": "d4f67117-b313-4ae9-a811-498f46a0cf46",
     "showTitle": false,
     "title": ""
    }
   },
   "outputs": [],
   "source": [
    "#!pip install geopandas"
   ]
  },
  {
   "cell_type": "code",
   "execution_count": 0,
   "metadata": {
    "application/vnd.databricks.v1+cell": {
     "cellMetadata": {
      "byteLimit": 2048000,
      "rowLimit": 10000
     },
     "inputWidgets": {},
     "nuid": "7c45f378-240a-4345-842b-5c39912a6a8e",
     "showTitle": false,
     "title": ""
    }
   },
   "outputs": [
    {
     "name": "stdout",
     "output_type": "stream",
     "text": [
      "+--------------------+------------------+------------------+---------+------------------+---------+---------+---------+---------+\n",
      "|Trip_Pickup_DateTime|     Trip_Distance|         Start_Lon|Start_Lat|           End_Lon|  End_Lat|Total_Amt|  PU_zone|  DO_zone|\n",
      "+--------------------+------------------+------------------+---------+------------------+---------+---------+---------+---------+\n",
      "| 2009-01-04 02:52:00|              2.63|        -73.991957|40.721567|        -73.993803|40.695922|      9.4|Manhattan| Brooklyn|\n",
      "| 2009-01-04 03:31:00|              4.55|        -73.982102| 40.73629|         -73.95585| 40.76803|     14.6|Manhattan|Manhattan|\n",
      "| 2009-01-03 15:43:00|             10.35|        -74.002587|40.739748|        -73.869983|40.770225|    28.44|Manhattan|   Queens|\n",
      "| 2009-01-01 20:52:58|               5.0|        -73.974267|40.790955|-73.99655799999998|40.731849|    18.45|Manhattan|Manhattan|\n",
      "| 2009-01-24 16:18:23|               0.4|         -74.00158|40.719382|-74.00837799999998| 40.72035|      3.7|Manhattan|Manhattan|\n",
      "| 2009-01-16 22:35:59|               1.2|        -73.989806|40.735006|        -73.985021|40.724494|      6.6|Manhattan|Manhattan|\n",
      "| 2009-01-21 08:55:57|               0.4|-73.98404999999998|40.743544|         -73.98026|40.748926|      6.7|Manhattan|Manhattan|\n",
      "| 2009-01-04 04:31:00|              1.72|        -73.992635|40.748362|        -73.995585|40.728307|      6.6|Manhattan|Manhattan|\n",
      "| 2009-01-05 16:29:02|               1.6|         -73.96969|40.749244|        -73.990413|40.751082|     10.0|Manhattan|Manhattan|\n",
      "| 2009-01-05 18:53:13|0.6999999999999998|        -73.955173|40.783044|-73.95859799999998|40.774822|      5.9|Manhattan|Manhattan|\n",
      "| 2009-01-05 08:15:38|0.2999999999999999|        -73.986824|40.750893|-73.98411799999998|40.751437|      2.9|Manhattan|Manhattan|\n",
      "| 2009-01-05 06:21:43|               2.3|          -74.0061|40.748432|        -73.978437|40.762481|      7.7|Manhattan|Manhattan|\n",
      "| 2009-01-20 13:44:02|               2.1|        -73.983339|40.744782|         -73.98116|40.720835|      7.3|Manhattan|Manhattan|\n",
      "| 2009-01-05 16:19:53|               1.2|         -73.97351| 40.76028|        -73.962933|40.775119|      6.7|Manhattan|Manhattan|\n",
      "| 2009-01-05 17:22:16|               0.8|        -73.984426| 40.75748|-73.98251899999998|40.767165|      5.9|Manhattan|Manhattan|\n",
      "| 2009-01-05 16:02:52|               4.5|-73.99106399999998|40.727654|-73.94577099999998| 40.77765|     13.9|Manhattan|Manhattan|\n",
      "| 2009-01-05 12:15:06|               1.7|        -74.001678|  40.7473|-73.97895699999998|40.750394|      8.5|Manhattan|Manhattan|\n",
      "| 2009-01-05 07:49:57|               1.0|-73.98245699999998|40.731475|        -73.973011|40.743387|      5.5|Manhattan|Manhattan|\n",
      "| 2009-01-23 23:57:34|               5.0|        -73.992554|40.724476|-73.95306499999998|40.777555|    17.25|Manhattan|Manhattan|\n",
      "| 2009-01-05 10:23:13|               1.3|        -73.990089|40.759027|        -73.983974|40.746938|      7.3|Manhattan|Manhattan|\n",
      "+--------------------+------------------+------------------+---------+------------------+---------+---------+---------+---------+\n",
      "only showing top 20 rows\n",
      "\n"
     ]
    }
   ],
   "source": [
    "#df_subset = df.limit(50)\n",
    "df = df.withColumn('PU_zone',sjoin_udf(df.Start_Lon,df.Start_Lat ))\n",
    "df = df.withColumn('DO_zone',sjoin_udf(df.End_Lon,df.End_Lat))\n",
    "df.show()"
   ]
  },
  {
   "cell_type": "code",
   "execution_count": 0,
   "metadata": {
    "application/vnd.databricks.v1+cell": {
     "cellMetadata": {
      "byteLimit": 2048000,
      "rowLimit": 10000
     },
     "inputWidgets": {},
     "nuid": "8b4ee595-3d8d-4f38-9f1f-4bc46b0024e7",
     "showTitle": false,
     "title": ""
    }
   },
   "outputs": [
    {
     "name": "stdout",
     "output_type": "stream",
     "text": [
      "+--------------------+------------------+------------------+---------+------------------+---------+---------+---------+---------+-----------+------------+----------+\n",
      "|Trip_Pickup_DateTime|     Trip_Distance|         Start_Lon|Start_Lat|           End_Lon|  End_Lat|Total_Amt|  PU_zone|  DO_zone|pickup_year|pickup_month|pickup_day|\n",
      "+--------------------+------------------+------------------+---------+------------------+---------+---------+---------+---------+-----------+------------+----------+\n",
      "| 2009-01-04 02:52:00|              2.63|        -73.991957|40.721567|        -73.993803|40.695922|      9.4|Manhattan| Brooklyn|       2009|           1|         4|\n",
      "| 2009-01-04 03:31:00|              4.55|        -73.982102| 40.73629|         -73.95585| 40.76803|     14.6|Manhattan|Manhattan|       2009|           1|         4|\n",
      "| 2009-01-03 15:43:00|             10.35|        -74.002587|40.739748|        -73.869983|40.770225|    28.44|Manhattan|   Queens|       2009|           1|         3|\n",
      "| 2009-01-01 20:52:58|               5.0|        -73.974267|40.790955|-73.99655799999998|40.731849|    18.45|Manhattan|Manhattan|       2009|           1|         1|\n",
      "| 2009-01-24 16:18:23|               0.4|         -74.00158|40.719382|-74.00837799999998| 40.72035|      3.7|Manhattan|Manhattan|       2009|           1|        24|\n",
      "| 2009-01-16 22:35:59|               1.2|        -73.989806|40.735006|        -73.985021|40.724494|      6.6|Manhattan|Manhattan|       2009|           1|        16|\n",
      "| 2009-01-21 08:55:57|               0.4|-73.98404999999998|40.743544|         -73.98026|40.748926|      6.7|Manhattan|Manhattan|       2009|           1|        21|\n",
      "| 2009-01-04 04:31:00|              1.72|        -73.992635|40.748362|        -73.995585|40.728307|      6.6|Manhattan|Manhattan|       2009|           1|         4|\n",
      "| 2009-01-05 16:29:02|               1.6|         -73.96969|40.749244|        -73.990413|40.751082|     10.0|Manhattan|Manhattan|       2009|           1|         5|\n",
      "| 2009-01-05 18:53:13|0.6999999999999998|        -73.955173|40.783044|-73.95859799999998|40.774822|      5.9|Manhattan|Manhattan|       2009|           1|         5|\n",
      "| 2009-01-05 08:15:38|0.2999999999999999|        -73.986824|40.750893|-73.98411799999998|40.751437|      2.9|Manhattan|Manhattan|       2009|           1|         5|\n",
      "| 2009-01-05 06:21:43|               2.3|          -74.0061|40.748432|        -73.978437|40.762481|      7.7|Manhattan|Manhattan|       2009|           1|         5|\n",
      "| 2009-01-20 13:44:02|               2.1|        -73.983339|40.744782|         -73.98116|40.720835|      7.3|Manhattan|Manhattan|       2009|           1|        20|\n",
      "| 2009-01-05 16:19:53|               1.2|         -73.97351| 40.76028|        -73.962933|40.775119|      6.7|Manhattan|Manhattan|       2009|           1|         5|\n",
      "| 2009-01-05 17:22:16|               0.8|        -73.984426| 40.75748|-73.98251899999998|40.767165|      5.9|Manhattan|Manhattan|       2009|           1|         5|\n",
      "| 2009-01-05 16:02:52|               4.5|-73.99106399999998|40.727654|-73.94577099999998| 40.77765|     13.9|Manhattan|Manhattan|       2009|           1|         5|\n",
      "| 2009-01-05 12:15:06|               1.7|        -74.001678|  40.7473|-73.97895699999998|40.750394|      8.5|Manhattan|Manhattan|       2009|           1|         5|\n",
      "| 2009-01-05 07:49:57|               1.0|-73.98245699999998|40.731475|        -73.973011|40.743387|      5.5|Manhattan|Manhattan|       2009|           1|         5|\n",
      "| 2009-01-23 23:57:34|               5.0|        -73.992554|40.724476|-73.95306499999998|40.777555|    17.25|Manhattan|Manhattan|       2009|           1|        23|\n",
      "| 2009-01-05 10:23:13|               1.3|        -73.990089|40.759027|        -73.983974|40.746938|      7.3|Manhattan|Manhattan|       2009|           1|         5|\n",
      "+--------------------+------------------+------------------+---------+------------------+---------+---------+---------+---------+-----------+------------+----------+\n",
      "only showing top 20 rows\n",
      "\n"
     ]
    }
   ],
   "source": [
    "#crea la col \"pickup_date\" que contiene el año-mes-dia de \"tpep_pickup_datetime\"\n",
    "\n",
    "#se necesita independientemente cada una...\n",
    "df = df.withColumn(\"pickup_year\", year(df[\"Trip_Pickup_DateTime\"]))\n",
    "df = df.withColumn(\"pickup_month\", month(df[\"Trip_Pickup_DateTime\"]))\n",
    "df = df.withColumn(\"pickup_day\", dayofmonth(df[\"Trip_Pickup_DateTime\"]))\n",
    "\n",
    "\n",
    "# Muestra el DataFrame resultante con la nueva columna\n",
    "df.show()"
   ]
  },
  {
   "cell_type": "code",
   "execution_count": 0,
   "metadata": {
    "application/vnd.databricks.v1+cell": {
     "cellMetadata": {
      "byteLimit": 2048000,
      "rowLimit": 10000
     },
     "inputWidgets": {},
     "nuid": "34d9f73d-ea00-4fde-b948-0c9c42c673d3",
     "showTitle": false,
     "title": ""
    }
   },
   "outputs": [],
   "source": [
    "#Repartición para ver si mejora desempeño\n",
    "#df = df.repartition(30, 'pickup_day')\n"
   ]
  },
  {
   "cell_type": "markdown",
   "metadata": {},
   "source": []
  },
  {
   "cell_type": "code",
   "execution_count": 0,
   "metadata": {
    "application/vnd.databricks.v1+cell": {
     "cellMetadata": {
      "byteLimit": 2048000,
      "rowLimit": 10000
     },
     "inputWidgets": {},
     "nuid": "e535f18e-154c-4b82-9bfc-64828cd0418e",
     "showTitle": false,
     "title": ""
    }
   },
   "outputs": [],
   "source": [
    "from pyspark.sql.functions import count, sum\n",
    "\n",
    "agg_df = df.groupBy(\"pickup_year\", \"pickup_month\", \"PU_zone\", \"DO_zone\" ).agg(count(\"*\").alias(\"conteo\"), sum(\"Total_Amt\").alias(\"tot_amt\"), sum(\"Trip_Distance\").alias(\"distancia\"))\n",
    "\n",
    "#si quisiera redondear:\n",
    "#agg_df = agg_df.withColumn(\"tot_amt\", round(agg_df[\"tot_amt\"], 2))\n",
    "\n",
    "\n",
    "# Muestra el nuevo DataFrame\n",
    "#agg_df.show()"
   ]
  },
  {
   "cell_type": "code",
   "execution_count": 0,
   "metadata": {
    "application/vnd.databricks.v1+cell": {
     "cellMetadata": {
      "byteLimit": 2048000,
      "rowLimit": 10000
     },
     "inputWidgets": {},
     "nuid": "116e6be4-2a6d-4bee-b336-12c68dbf974f",
     "showTitle": false,
     "title": ""
    }
   },
   "outputs": [
    {
     "data": {
      "text/html": [
       "<style scoped>\n",
       "  .table-result-container {\n",
       "    max-height: 300px;\n",
       "    overflow: auto;\n",
       "  }\n",
       "  table, th, td {\n",
       "    border: 1px solid black;\n",
       "    border-collapse: collapse;\n",
       "  }\n",
       "  th, td {\n",
       "    padding: 5px;\n",
       "  }\n",
       "  th {\n",
       "    text-align: left;\n",
       "  }\n",
       "</style><div class='table-result-container'><table class='table-result'><thead style='background-color: white'><tr><th>pickup_year</th><th>pickup_month</th><th>PU_zone</th><th>DO_zone</th><th>conteo</th><th>tot_amt</th><th>distancia</th></tr></thead><tbody><tr><td>2009</td><td>10</td><td>Manhattan</td><td>Bronx</td><td>47426</td><td>1253392.169999991</td><td>461773.04000000004</td></tr><tr><td>2009</td><td>10</td><td>Bronx</td><td>Brooklyn</td><td>112</td><td>3684.4599999999987</td><td>1383.17</td></tr><tr><td>2009</td><td>10</td><td>Manhattan</td><td>Manhattan', 'Manhattan</td><td>1</td><td>10.2</td><td>1.8</td></tr><tr><td>2009</td><td>4</td><td>Queens</td><td>Manhattan</td><td>318718</td><td>1.0633461370008713E7</td><td>3590736.34999996</td></tr><tr><td>2009</td><td>4</td><td>Queens</td><td>EWR</td><td>341</td><td>33231.529999999984</td><td>9886.34</td></tr><tr><td>2009</td><td>4</td><td>Manhattan</td><td>EWR</td><td>14980</td><td>1015392.4599999976</td><td>262787.92999999993</td></tr><tr><td>2009</td><td>4</td><td>Brooklyn</td><td>Queens</td><td>11829</td><td>281128.3600000004</td><td>102700.9599999997</td></tr><tr><td>2009</td><td>4</td><td>EWR</td><td>nan</td><td>39</td><td>1345.2399999999998</td><td>103.96</td></tr><tr><td>2009</td><td>4</td><td>Bronx</td><td>nan</td><td>400</td><td>7055.010000000004</td><td>1818.8999999999996</td></tr><tr><td>2009</td><td>4</td><td>Staten Island</td><td>Bronx</td><td>1</td><td>83.2</td><td>31.25</td></tr><tr><td>2009</td><td>4</td><td>nan</td><td>Staten Island</td><td>79</td><td>1401.8100000000002</td><td>432.83000000000027</td></tr><tr><td>2009</td><td>4</td><td>nan</td><td>EWR</td><td>258</td><td>14771.320000000009</td><td>2879.7999999999997</td></tr><tr><td>2009</td><td>4</td><td>Staten Island</td><td>nan</td><td>74</td><td>1282.5799999999997</td><td>314.25000000000006</td></tr><tr><td>2009</td><td>4</td><td>Brooklyn</td><td>Brooklyn</td><td>124527</td><td>1153360.1499999994</td><td>273764.6100000013</td></tr><tr><td>2009</td><td>4</td><td>Brooklyn</td><td>Staten Island</td><td>103</td><td>3526.6100000000015</td><td>1136.94</td></tr><tr><td>2009</td><td>10</td><td>Queens</td><td>Brooklyn</td><td>62194</td><td>2059347.2700000347</td><td>803737.2400000006</td></tr><tr><td>2009</td><td>10</td><td>Brooklyn</td><td>nan</td><td>1752</td><td>27570.699999999953</td><td>7440.420000000009</td></tr><tr><td>2009</td><td>4</td><td>Queens</td><td>Bronx</td><td>9784</td><td>375882.0499999995</td><td>142748.03999999995</td></tr><tr><td>2009</td><td>4</td><td>Queens</td><td>nan</td><td>7768</td><td>343831.9999999995</td><td>102611.57000000011</td></tr><tr><td>2009</td><td>4</td><td>Brooklyn</td><td>nan</td><td>1024</td><td>17078.070000000007</td><td>4685.550000000002</td></tr><tr><td>2009</td><td>10</td><td>Bronx</td><td>Staten Island</td><td>1</td><td>10.7</td><td>1.26</td></tr><tr><td>2009</td><td>4</td><td>Brooklyn</td><td>Bronx</td><td>451</td><td>17528.94</td><td>7057.600000000004</td></tr><tr><td>2009</td><td>4</td><td>Staten Island</td><td>Staten Island</td><td>538</td><td>6970.2599999999975</td><td>1022.7600000000003</td></tr><tr><td>2009</td><td>10</td><td>Brooklyn</td><td>Bronx</td><td>404</td><td>16227.360000000002</td><td>6362.189999999992</td></tr><tr><td>2009</td><td>10</td><td>Bronx</td><td>nan</td><td>935</td><td>15371.300000000003</td><td>3844.110000000003</td></tr><tr><td>2009</td><td>10</td><td>EWR</td><td>Bronx</td><td>1</td><td>88.0</td><td>21.3</td></tr><tr><td>2009</td><td>4</td><td>Manhattan</td><td>Queens</td><td>426183</td><td>1.2153634790006306E7</td><td>4103445.2699998207</td></tr><tr><td>2009</td><td>4</td><td>nan</td><td>Queens</td><td>4435</td><td>104762.21999999987</td><td>34294.90999999993</td></tr><tr><td>2009</td><td>10</td><td>Manhattan</td><td>Brooklyn</td><td>436150</td><td>8274680.630000631</td><td>2595536.6699999548</td></tr><tr><td>2009</td><td>10</td><td>Queens</td><td>Queens</td><td>278182</td><td>4026037.2999997637</td><td>1002864.270000007</td></tr><tr><td>2009</td><td>4</td><td>nan</td><td>Manhattan</td><td>24317</td><td>308243.6899999998</td><td>80054.11000000019</td></tr><tr><td>2009</td><td>4</td><td>Brooklyn</td><td>EWR</td><td>112</td><td>7690.329999999999</td><td>2058.1700000000005</td></tr><tr><td>2009</td><td>4</td><td>Manhattan</td><td>nan</td><td>28193</td><td>635773.4199999978</td><td>146724.1900000009</td></tr><tr><td>2009</td><td>4</td><td>Bronx</td><td>Bronx</td><td>8357</td><td>82800.14999999989</td><td>15976.930000000064</td></tr><tr><td>2009</td><td>4</td><td>Queens</td><td>Staten Island</td><td>588</td><td>39310.81999999997</td><td>15478.109999999993</td></tr><tr><td>2009</td><td>10</td><td>EWR</td><td>EWR</td><td>1924</td><td>128929.83999999988</td><td>548.0399999999997</td></tr><tr><td>2009</td><td>10</td><td>Queens</td><td>Bronx</td><td>8493</td><td>331732.36</td><td>122696.04999999989</td></tr><tr><td>2009</td><td>10</td><td>nan</td><td>Bronx</td><td>1083</td><td>17837.07000000001</td><td>5394.49</td></tr><tr><td>2009</td><td>10</td><td>Staten Island</td><td>nan</td><td>125</td><td>1783.620000000001</td><td>496.05000000000007</td></tr><tr><td>2009</td><td>10</td><td>Manhattan</td><td>nan</td><td>37810</td><td>823743.9699999854</td><td>183243.2300000009</td></tr><tr><td>2009</td><td>10</td><td>Brooklyn</td><td>Staten Island</td><td>136</td><td>5344.519999999998</td><td>1671.72</td></tr><tr><td>2009</td><td>10</td><td>Staten Island</td><td>Brooklyn</td><td>28</td><td>566.1700000000001</td><td>182.71</td></tr><tr><td>2009</td><td>10</td><td>Bronx</td><td>Bronx</td><td>12504</td><td>125381.49000000028</td><td>25931.12000000016</td></tr><tr><td>2009</td><td>10</td><td>nan</td><td>Manhattan</td><td>34736</td><td>443939.1200000012</td><td>111733.34000000088</td></tr><tr><td>2009</td><td>10</td><td>Manhattan</td><td>EWR</td><td>16598</td><td>1136369.530000004</td><td>289105.3400000003</td></tr><tr><td>2009</td><td>10</td><td>nan</td><td>EWR</td><td>387</td><td>23199.799999999992</td><td>4120.570000000001</td></tr><tr><td>2009</td><td>10</td><td>Staten Island</td><td>Queens</td><td>17</td><td>603.15</td><td>220.88</td></tr><tr><td>2009</td><td>4</td><td>Bronx</td><td>Queens</td><td>419</td><td>11755.209999999983</td><td>3919.9599999999973</td></tr><tr><td>2009</td><td>10</td><td>nan</td><td>nan</td><td>250413</td><td>3208534.580000093</td><td>620091.0899999979</td></tr><tr><td>2009</td><td>10</td><td>EWR</td><td>Manhattan</td><td>26</td><td>1218.08</td><td>302.58</td></tr><tr><td>2009</td><td>4</td><td>Queens</td><td>Brooklyn</td><td>57467</td><td>1925436.2200000251</td><td>762721.809999996</td></tr><tr><td>2009</td><td>4</td><td>EWR</td><td>EWR</td><td>1336</td><td>85541.08000000003</td><td>224.2899999999999</td></tr><tr><td>2009</td><td>4</td><td>Manhattan</td><td>Staten Island</td><td>1957</td><td>110260.0</td><td>36772.10999999999</td></tr><tr><td>2009</td><td>4</td><td>Staten Island</td><td>Brooklyn</td><td>26</td><td>477.7000000000001</td><td>162.97000000000003</td></tr><tr><td>2009</td><td>4</td><td>Staten Island</td><td>Queens</td><td>22</td><td>795.6200000000001</td><td>298.87</td></tr><tr><td>2009</td><td>4</td><td>EWR</td><td>Brooklyn</td><td>1</td><td>45.7</td><td>0.0</td></tr><tr><td>2009</td><td>10</td><td>Manhattan</td><td>Queens</td><td>482952</td><td>1.4252637220003037E7</td><td>4714860.4899998475</td></tr><tr><td>2009</td><td>10</td><td>Queens</td><td>EWR</td><td>333</td><td>32260.219999999976</td><td>9579.78</td></tr><tr><td>2009</td><td>10</td><td>Staten Island</td><td>Manhattan</td><td>75</td><td>1417.79</td><td>466.0299999999998</td></tr><tr><td>2009</td><td>10</td><td>nan</td><td>Staten Island</td><td>158</td><td>3247.329999999998</td><td>978.4199999999998</td></tr><tr><td>2009</td><td>10</td><td>nan</td><td>Queens</td><td>8004</td><td>173919.7800000022</td><td>53208.8399999999</td></tr><tr><td>2009</td><td>10</td><td>Brooklyn</td><td>Queens</td><td>14454</td><td>346386.9400000002</td><td>125423.63999999987</td></tr><tr><td>2009</td><td>10</td><td>Bronx</td><td>Queens</td><td>469</td><td>13051.019999999993</td><td>4244.889999999996</td></tr><tr><td>2009</td><td>4</td><td>Manhattan</td><td>Manhattan</td><td>12218263</td><td>1.0682940298004165E8</td><td>2.3759478850004897E7</td></tr><tr><td>2009</td><td>4</td><td>Manhattan</td><td>Bronx</td><td>52441</td><td>1361775.319999998</td><td>506319.3600000005</td></tr><tr><td>2009</td><td>4</td><td>nan</td><td>Bronx</td><td>572</td><td>11739.429999999995</td><td>3813.530000000002</td></tr><tr><td>2009</td><td>4</td><td>EWR</td><td>Manhattan</td><td>20</td><td>821.56</td><td>244.4</td></tr><tr><td>2009</td><td>4</td><td>Staten Island</td><td>EWR</td><td>5</td><td>309.0</td><td>56.91000000000001</td></tr><tr><td>2009</td><td>10</td><td>nan</td><td>Brooklyn</td><td>3399</td><td>62022.78999999993</td><td>20158.260000000046</td></tr><tr><td>2009</td><td>10</td><td>Queens</td><td>Staten Island</td><td>562</td><td>38123.66000000001</td><td>14766.059999999989</td></tr><tr><td>2009</td><td>4</td><td>Manhattan</td><td>Brooklyn</td><td>406169</td><td>7726416.650000533</td><td>2446543.46999995</td></tr><tr><td>2009</td><td>4</td><td>nan</td><td>nan</td><td>256672</td><td>3084898.090000127</td><td>637575.8299999994</td></tr><tr><td>2009</td><td>4</td><td>EWR</td><td>Queens</td><td>7</td><td>599.87</td><td>190.48999999999998</td></tr><tr><td>2009</td><td>10</td><td>Manhattan</td><td>Manhattan</td><td>13237173</td><td>1.1813520562003735E8</td><td>2.576817473000342E7</td></tr><tr><td>2009</td><td>10</td><td>Queens</td><td>Manhattan</td><td>383166</td><td>1.332319237000643E7</td><td>4358812.1399999065</td></tr><tr><td>2009</td><td>10</td><td>Staten Island</td><td>Staten Island</td><td>683</td><td>8919.519999999993</td><td>1323.5399999999981</td></tr><tr><td>2009</td><td>10</td><td>EWR</td><td>nan</td><td>58</td><td>1674.5400000000002</td><td>217.05999999999995</td></tr><tr><td>2009</td><td>4</td><td>Queens</td><td>Queens</td><td>213495</td><td>3172210.099999794</td><td>841628.0100000168</td></tr><tr><td>2009</td><td>4</td><td>Brooklyn</td><td>Manhattan</td><td>96849</td><td>1563662.4800000128</td><td>480714.24000000436</td></tr><tr><td>2009</td><td>4</td><td>Bronx</td><td>Manhattan</td><td>3395</td><td>47282.620000000024</td><td>14377.040000000005</td></tr><tr><td>2009</td><td>10</td><td>Brooklyn</td><td>Brooklyn</td><td>154761</td><td>1455465.87</td><td>341556.5600000038</td></tr><tr><td>2009</td><td>10</td><td>Brooklyn</td><td>EWR</td><td>126</td><td>9327.390000000001</td><td>2334.0000000000005</td></tr><tr><td>2009</td><td>10</td><td>Bronx</td><td>EWR</td><td>4</td><td>278.35</td><td>74.43</td></tr><tr><td>2009</td><td>4</td><td>Bronx</td><td>EWR</td><td>3</td><td>224.32</td><td>62.47</td></tr><tr><td>2009</td><td>10</td><td>Brooklyn</td><td>Manhattan</td><td>111538</td><td>1841560.890000055</td><td>549423.1700000025</td></tr><tr><td>2009</td><td>10</td><td>Manhattan</td><td>Staten Island</td><td>1814</td><td>103275.28999999986</td><td>33645.88999999997</td></tr><tr><td>2009</td><td>10</td><td>Bronx</td><td>Manhattan</td><td>3227</td><td>46796.060000000136</td><td>13998.720000000023</td></tr><tr><td>2009</td><td>10</td><td>Queens</td><td>nan</td><td>10143</td><td>422748.64000000356</td><td>119491.2500000005</td></tr><tr><td>2009</td><td>4</td><td>Bronx</td><td>Staten Island</td><td>2</td><td>80.9</td><td>30.68</td></tr><tr><td>2009</td><td>10</td><td>Staten Island</td><td>EWR</td><td>3</td><td>160.5</td><td>51.870000000000005</td></tr><tr><td>2009</td><td>10</td><td>Staten Island</td><td>Bronx</td><td>2</td><td>46.4</td><td>17.28</td></tr><tr><td>2009</td><td>10</td><td>EWR</td><td>Queens</td><td>7</td><td>488.85999999999996</td><td>131.04</td></tr><tr><td>2009</td><td>10</td><td>EWR</td><td>Brooklyn</td><td>2</td><td>96.5</td><td>31.6</td></tr><tr><td>2009</td><td>4</td><td>nan</td><td>Brooklyn</td><td>2379</td><td>48373.60999999997</td><td>16507.809999999998</td></tr><tr><td>2009</td><td>4</td><td>Bronx</td><td>Brooklyn</td><td>91</td><td>3098.7399999999993</td><td>1194.9</td></tr><tr><td>2009</td><td>4</td><td>Staten Island</td><td>Manhattan</td><td>93</td><td>1386.0599999999995</td><td>406.65999999999997</td></tr><tr><td>2009</td><td>6</td><td>Brooklyn</td><td>Queens</td><td>13067</td><td>308740.56999999913</td><td>112579.2399999998</td></tr><tr><td>2009</td><td>6</td><td>Bronx</td><td>Manhattan</td><td>3035</td><td>42537.14000000001</td><td>12903.22999999998</td></tr><tr><td>2009</td><td>6</td><td>EWR</td><td>Manhattan</td><td>19</td><td>1119.0400000000002</td><td>294.18999999999994</td></tr><tr><td>2009</td><td>6</td><td>Manhattan</td><td>Manhattan</td><td>12109909</td><td>1.0642952079006854E8</td><td>2.36368433200015E7</td></tr><tr><td>2009</td><td>6</td><td>nan</td><td>nan</td><td>188650</td><td>2471757.189999979</td><td>474814.17999999295</td></tr><tr><td>2009</td><td>6</td><td>Manhattan</td><td>Staten Island</td><td>1825</td><td>100557.7600000001</td><td>33656.27000000006</td></tr><tr><td>2009</td><td>6</td><td>Bronx</td><td>Queens</td><td>405</td><td>10929.949999999986</td><td>3782.640000000002</td></tr><tr><td>2009</td><td>6</td><td>Queens</td><td>Manhattan</td><td>340352</td><td>1.1509615030009381E7</td><td>3841766.720000008</td></tr><tr><td>2009</td><td>6</td><td>Brooklyn</td><td>Manhattan</td><td>95473</td><td>1539049.770000032</td><td>473812.0100000051</td></tr><tr><td>2009</td><td>6</td><td>nan</td><td>Bronx</td><td>878</td><td>16995.82</td><td>5536.030000000002</td></tr><tr><td>2009</td><td>6</td><td>Staten Island</td><td>Brooklyn</td><td>30</td><td>811.48</td><td>268.45</td></tr><tr><td>2009</td><td>6</td><td>Bronx</td><td>Bronx</td><td>9568</td><td>94397.19999999982</td><td>19304.97999999986</td></tr><tr><td>2009</td><td>6</td><td>Manhattan</td><td>EWR</td><td>14193</td><td>970278.5200000007</td><td>248148.39000000106</td></tr><tr><td>2009</td><td>6</td><td>nan</td><td>EWR</td><td>272</td><td>15384.9</td><td>2824.3300000000013</td></tr><tr><td>2009</td><td>6</td><td>EWR</td><td>Brooklyn</td><td>2</td><td>150.22</td><td>36.510000000000005</td></tr><tr><td>2009</td><td>6</td><td>Queens</td><td>Queens</td><td>242287</td><td>3599545.2199997474</td><td>931575.2100000309</td></tr><tr><td>2009</td><td>6</td><td>Queens</td><td>Brooklyn</td><td>60459</td><td>2010834.5300000354</td><td>790058.3699999932</td></tr><tr><td>2009</td><td>6</td><td>Queens</td><td>nan</td><td>8459</td><td>369621.00000000047</td><td>107077.86000000019</td></tr><tr><td>2009</td><td>6</td><td>Bronx</td><td>Brooklyn</td><td>85</td><td>2809.4200000000005</td><td>1077.36</td></tr><tr><td>2009</td><td>6</td><td>nan</td><td>Staten Island</td><td>109</td><td>2350.7500000000005</td><td>744.2499999999998</td></tr><tr><td>2009</td><td>6</td><td>Brooklyn</td><td>EWR</td><td>113</td><td>8459.400000000003</td><td>2096.8799999999997</td></tr><tr><td>2009</td><td>6</td><td>Manhattan</td><td>Bronx</td><td>49389</td><td>1294538.5800000087</td><td>479656.9100000031</td></tr><tr><td>2009</td><td>6</td><td>nan</td><td>Brooklyn</td><td>2950</td><td>55026.81000000009</td><td>18196.56999999996</td></tr><tr><td>2009</td><td>6</td><td>Manhattan</td><td>Queens</td><td>439051</td><td>1.284897612000658E7</td><td>4297302.590000022</td></tr><tr><td>2009</td><td>6</td><td>EWR</td><td>Queens</td><td>8</td><td>785.35</td><td>241.61999999999998</td></tr><tr><td>2009</td><td>6</td><td>Staten Island</td><td>EWR</td><td>4</td><td>173.89</td><td>47.17</td></tr><tr><td>2009</td><td>6</td><td>Staten Island</td><td>Bronx</td><td>2</td><td>131.3</td><td>52.33</td></tr><tr><td>2009</td><td>6</td><td>Manhattan</td><td>Brooklyn</td><td>396904</td><td>7476551.800000504</td><td>2387514.600000008</td></tr><tr><td>2009</td><td>6</td><td>Brooklyn</td><td>Bronx</td><td>421</td><td>16673.810000000012</td><td>6614.509999999995</td></tr><tr><td>2009</td><td>6</td><td>Brooklyn</td><td>Staten Island</td><td>119</td><td>4324.450000000001</td><td>1394.71</td></tr><tr><td>2009</td><td>6</td><td>Staten Island</td><td>Manhattan</td><td>73</td><td>1390.8</td><td>413.3400000000001</td></tr><tr><td>2009</td><td>6</td><td>Bronx</td><td>EWR</td><td>3</td><td>218.10000000000002</td><td>59.07</td></tr><tr><td>2009</td><td>6</td><td>Staten Island</td><td>Staten Island</td><td>408</td><td>6294.790000000003</td><td>776.8199999999993</td></tr><tr><td>2009</td><td>6</td><td>Brooklyn</td><td>Brooklyn</td><td>129204</td><td>1204458.7199999928</td><td>291678.2900000033</td></tr><tr><td>2009</td><td>6</td><td>Manhattan</td><td>nan</td><td>30451</td><td>683596.900000001</td><td>157854.64999999985</td></tr><tr><td>2009</td><td>6</td><td>Queens</td><td>Staten Island</td><td>520</td><td>34935.40000000002</td><td>13601.830000000007</td></tr><tr><td>2009</td><td>6</td><td>EWR</td><td>Staten Island</td><td>1</td><td>33.75</td><td>11.03</td></tr><tr><td>2009</td><td>6</td><td>Queens</td><td>Bronx</td><td>9317</td><td>364431.82000000053</td><td>136503.6799999999</td></tr><tr><td>2009</td><td>6</td><td>Queens</td><td>EWR</td><td>370</td><td>35942.92999999999</td><td>10697.440000000002</td></tr><tr><td>2009</td><td>6</td><td>Bronx</td><td>nan</td><td>715</td><td>13115.010000000011</td><td>3311.0200000000027</td></tr><tr><td>2009</td><td>6</td><td>EWR</td><td>EWR</td><td>1480</td><td>101506.85999999997</td><td>504.17000000000024</td></tr><tr><td>2009</td><td>6</td><td>Brooklyn</td><td>nan</td><td>1411</td><td>24242.129999999994</td><td>6702.349999999995</td></tr><tr><td>2009</td><td>6</td><td>nan</td><td>Manhattan</td><td>25907</td><td>338798.65000000125</td><td>87214.08000000045</td></tr><tr><td>2009</td><td>6</td><td>nan</td><td>Queens</td><td>6191</td><td>136033.87999999948</td><td>42889.519999999866</td></tr><tr><td>2009</td><td>6</td><td>EWR</td><td>nan</td><td>55</td><td>1970.7</td><td>137.64999999999998</td></tr><tr><td>2009</td><td>6</td><td>Staten Island</td><td>nan</td><td>94</td><td>1383.8600000000004</td><td>384.0600000000002</td></tr><tr><td>2009</td><td>6</td><td>Staten Island</td><td>Queens</td><td>11</td><td>354.97</td><td>133.10000000000002</td></tr><tr><td>2009</td><td>7</td><td>Bronx</td><td>nan</td><td>629</td><td>11127.03000000001</td><td>2695.8600000000024</td></tr><tr><td>2009</td><td>7</td><td>EWR</td><td>Brooklyn</td><td>3</td><td>196.25</td><td>57.77</td></tr><tr><td>2009</td><td>7</td><td>Bronx</td><td>Staten Island</td><td>2</td><td>130.14</td><td>52.3</td></tr><tr><td>2009</td><td>7</td><td>Manhattan</td><td>Manhattan</td><td>11587694</td><td>1.0157188167005414E8</td><td>2.278481248000156E7</td></tr><tr><td>2009</td><td>7</td><td>Queens</td><td>nan</td><td>8921</td><td>395338.53000000166</td><td>113601.05999999978</td></tr><tr><td>2009</td><td>7</td><td>Queens</td><td>Manhattan</td><td>328727</td><td>1.1087174740005791E7</td><td>3691218.7300001145</td></tr><tr><td>2009</td><td>7</td><td>Manhattan</td><td>EWR</td><td>13625</td><td>932708.339999997</td><td>237802.82999999952</td></tr><tr><td>2009</td><td>7</td><td>EWR</td><td>EWR</td><td>1456</td><td>95495.99000000003</td><td>266.39</td></tr><tr><td>2009</td><td>7</td><td>Staten Island</td><td>Bronx</td><td>1</td><td>55.4</td><td>15.42</td></tr><tr><td>2009</td><td>7</td><td>Manhattan</td><td>Manhattan', 'Manhattan</td><td>1</td><td>7.599999999999999</td><td>1.4</td></tr><tr><td>2009</td><td>7</td><td>Queens</td><td>Brooklyn</td><td>63257</td><td>2069814.100000041</td><td>818173.0099999956</td></tr><tr><td>2009</td><td>7</td><td>nan</td><td>Manhattan</td><td>27715</td><td>357124.260000002</td><td>92342.38000000003</td></tr><tr><td>2009</td><td>7</td><td>Manhattan</td><td>Queens</td><td>431182</td><td>1.260778726000394E7</td><td>4199976.880000034</td></tr><tr><td>2009</td><td>7</td><td>Queens</td><td>EWR</td><td>416</td><td>41331.62999999998</td><td>12240.529999999993</td></tr><tr><td>2009</td><td>7</td><td>Staten Island</td><td>Queens</td><td>23</td><td>935.7200000000003</td><td>314.15</td></tr><tr><td>2009</td><td>7</td><td>Queens</td><td>Staten Island</td><td>623</td><td>41991.08999999998</td><td>16540.740000000013</td></tr><tr><td>2009</td><td>7</td><td>Staten Island</td><td>EWR</td><td>2</td><td>80.4</td><td>29.75</td></tr><tr><td>2009</td><td>7</td><td>Manhattan</td><td>Staten Island</td><td>1836</td><td>102969.77000000015</td><td>34119.06</td></tr><tr><td>2009</td><td>7</td><td>Staten Island</td><td>nan</td><td>84</td><td>1233.2300000000002</td><td>361.55</td></tr><tr><td>2009</td><td>7</td><td>Brooklyn</td><td>Staten Island</td><td>131</td><td>5234.100000000002</td><td>1682.6200000000006</td></tr><tr><td>2009</td><td>7</td><td>EWR</td><td>nan</td><td>59</td><td>1325.9799999999998</td><td>224.30999999999992</td></tr><tr><td>2009</td><td>7</td><td>Bronx</td><td>EWR</td><td>4</td><td>295.3</td><td>90.39999999999999</td></tr><tr><td>2009</td><td>12</td><td>Queens</td><td>Bronx</td><td>8760</td><td>347320.93999999756</td><td>126986.43000000012</td></tr><tr><td>2009</td><td>12</td><td>EWR</td><td>EWR</td><td>1802</td><td>125682.52000000008</td><td>447.6899999999998</td></tr><tr><td>2009</td><td>12</td><td>Staten Island</td><td>Manhattan</td><td>73</td><td>1284.86</td><td>349.99999999999994</td></tr><tr><td>2009</td><td>7</td><td>Manhattan</td><td>Bronx</td><td>48545</td><td>1258416.730000018</td><td>468183.9400000036</td></tr><tr><td>2009</td><td>7</td><td>Brooklyn</td><td>Manhattan</td><td>93310</td><td>1502862.4800000463</td><td>464395.6799999968</td></tr><tr><td>2009</td><td>7</td><td>nan</td><td>Queens</td><td>6291</td><td>137154.0500000006</td><td>43146.510000000286</td></tr><tr><td>2009</td><td>7</td><td>Bronx</td><td>Queens</td><td>476</td><td>12767.55</td><td>4240.0199999999995</td></tr><tr><td>2009</td><td>7</td><td>Staten Island</td><td>Brooklyn</td><td>36</td><td>914.0499999999998</td><td>319.13</td></tr><tr><td>2009</td><td>7</td><td>Brooklyn</td><td>Queens</td><td>13338</td><td>318955.37999999867</td><td>116620.95999999956</td></tr><tr><td>2009</td><td>7</td><td>Bronx</td><td>Manhattan</td><td>3021</td><td>43157.90999999984</td><td>13315.379999999986</td></tr><tr><td>2009</td><td>7</td><td>Staten Island</td><td>Staten Island</td><td>604</td><td>7721.759999999994</td><td>1292.2900000000004</td></tr><tr><td>2009</td><td>7</td><td>EWR</td><td>Manhattan</td><td>20</td><td>1049.19</td><td>226.81000000000003</td></tr><tr><td>2009</td><td>7</td><td>EWR</td><td>Staten Island</td><td>1</td><td>37.3</td><td>16.0</td></tr><tr><td>2009</td><td>7</td><td>Manhattan', 'Manhattan</td><td>Manhattan</td><td>1</td><td>6.1</td><td>1.52</td></tr><tr><td>2009</td><td>7</td><td>Staten Island</td><td>Manhattan</td><td>66</td><td>1181.0100000000004</td><td>354.65000000000003</td></tr><tr><td>2009</td><td>7</td><td>Brooklyn</td><td>Brooklyn</td><td>121894</td><td>1137375.9799999997</td><td>276530.81000000634</td></tr><tr><td>2009</td><td>7</td><td>Queens</td><td>Bronx</td><td>10475</td><td>412685.3099999966</td><td>153455.53000000055</td></tr><tr><td>2009</td><td>7</td><td>Brooklyn</td><td>EWR</td><td>105</td><td>7558.329999999996</td><td>1898.48</td></tr><tr><td>2009</td><td>7</td><td>EWR</td><td>Queens</td><td>8</td><td>535.99</td><td>205.52</td></tr><tr><td>2009</td><td>7</td><td>Brooklyn</td><td>nan</td><td>1506</td><td>25740.439999999977</td><td>7171.080000000009</td></tr><tr><td>2009</td><td>7</td><td>nan</td><td>nan</td><td>176489</td><td>2323451.3500000527</td><td>446762.08999999356</td></tr><tr><td>2009</td><td>7</td><td>Manhattan</td><td>nan</td><td>31872</td><td>689310.9100000013</td><td>160258.89999999915</td></tr><tr><td>2009</td><td>7</td><td>Bronx</td><td>Bronx</td><td>10369</td><td>100805.60999999978</td><td>20831.62999999997</td></tr><tr><td>2009</td><td>7</td><td>nan</td><td>Staten Island</td><td>136</td><td>3028.22</td><td>952.5400000000003</td></tr><tr><td>2009</td><td>7</td><td>Manhattan</td><td>Brooklyn</td><td>381556</td><td>7180874.050000389</td><td>2294272.830000051</td></tr><tr><td>2009</td><td>7</td><td>nan</td><td>Bronx</td><td>818</td><td>14937.339999999973</td><td>4876.02</td></tr><tr><td>2009</td><td>7</td><td>Bronx</td><td>Brooklyn</td><td>105</td><td>3393.0700000000015</td><td>1259.9700000000003</td></tr><tr><td>2009</td><td>7</td><td>nan</td><td>EWR</td><td>244</td><td>12999.369999999999</td><td>2621.5100000000007</td></tr><tr><td>2009</td><td>7</td><td>Brooklyn</td><td>Bronx</td><td>388</td><td>15422.559999999996</td><td>6154.7400000000025</td></tr><tr><td>2009</td><td>7</td><td>Queens</td><td>Queens</td><td>254891</td><td>3757600.3299997374</td><td>1001730.340000014</td></tr><tr><td>2009</td><td>7</td><td>nan</td><td>Brooklyn</td><td>3147</td><td>60237.26000000001</td><td>19938.88000000003</td></tr><tr><td>2009</td><td>8</td><td>Brooklyn</td><td>Queens</td><td>13828</td><td>325388.12999999995</td><td>119203.12000000024</td></tr><tr><td>2009</td><td>8</td><td>Bronx</td><td>Manhattan</td><td>3254</td><td>45980.93999999997</td><td>14146.469999999968</td></tr><tr><td>2009</td><td>8</td><td>EWR</td><td>Brooklyn</td><td>4</td><td>296.52</td><td>84.13</td></tr><tr><td>2009</td><td>9</td><td>nan</td><td>Manhattan</td><td>31211</td><td>405014.60000000417</td><td>102245.51999999993</td></tr><tr><td>2009</td><td>9</td><td>Staten Island</td><td>Staten Island</td><td>1084</td><td>12537.310000000014</td><td>2603.5300000000007</td></tr><tr><td>2009</td><td>8</td><td>Manhattan</td><td>nan</td><td>33629</td><td>726050.8999999944</td><td>168602.48000000019</td></tr><tr><td>2009</td><td>8</td><td>nan</td><td>EWR</td><td>313</td><td>17639.180000000015</td><td>3349.039999999998</td></tr><tr><td>2009</td><td>8</td><td>Staten Island</td><td>EWR</td><td>1</td><td>126.0</td><td>1.4</td></tr><tr><td>2009</td><td>8</td><td>EWR</td><td>Manhattan</td><td>32</td><td>1738.2099999999998</td><td>494.54999999999984</td></tr><tr><td>2009</td><td>8</td><td>Queens</td><td>Brooklyn</td><td>69656</td><td>2277096.890000042</td><td>901430.0699999916</td></tr><tr><td>2009</td><td>8</td><td>nan</td><td>Manhattan</td><td>29588</td><td>381054.42000000307</td><td>99506.29999999987</td></tr><tr><td>2009</td><td>8</td><td>Bronx</td><td>nan</td><td>764</td><td>14131.400000000012</td><td>3803.650000000001</td></tr><tr><td>2009</td><td>8</td><td>Staten Island</td><td>nan</td><td>101</td><td>1554.3199999999993</td><td>402.63</td></tr><tr><td>2009</td><td>8</td><td>Staten Island</td><td>Queens</td><td>11</td><td>405.75</td><td>126.46</td></tr><tr><td>2009</td><td>8</td><td>Queens</td><td>nan</td><td>10103</td><td>436164.74000000063</td><td>126254.95000000027</td></tr><tr><td>2009</td><td>8</td><td>Queens</td><td>Staten Island</td><td>741</td><td>49815.13999999999</td><td>19629.120000000014</td></tr><tr><td>2009</td><td>8</td><td>EWR</td><td>Queens</td><td>5</td><td>381.30999999999995</td><td>119.03</td></tr><tr><td>2009</td><td>8</td><td>Bronx</td><td>Staten Island</td><td>1</td><td>54.5</td><td>23.63</td></tr><tr><td>2009</td><td>8</td><td>Manhattan</td><td>Manhattan</td><td>11561660</td><td>1.0059974326005374E8</td><td>2.2796959710003123E7</td></tr><tr><td>2009</td><td>8</td><td>Brooklyn</td><td>Manhattan</td><td>95396</td><td>1535792.6300000488</td><td>471108.5499999996</td></tr><tr><td>2009</td><td>8</td><td>Staten Island</td><td>Staten Island</td><td>869</td><td>10769.189999999984</td><td>1702.1499999999992</td></tr><tr><td>2009</td><td>8</td><td>Manhattan</td><td>Bronx</td><td>50595</td><td>1304633.0600000012</td><td>488691.55000000057</td></tr><tr><td>2009</td><td>8</td><td>nan</td><td>Bronx</td><td>1028</td><td>18378.82000000001</td><td>5859.360000000002</td></tr><tr><td>2009</td><td>8</td><td>Bronx</td><td>EWR</td><td>6</td><td>461.87</td><td>134.76999999999998</td></tr><tr><td>2009</td><td>8</td><td>Staten Island</td><td>Brooklyn</td><td>37</td><td>736.91</td><td>256.28999999999996</td></tr><tr><td>2009</td><td>8</td><td>Queens</td><td>Queens</td><td>278497</td><td>4122045.1999997525</td><td>1107152.5500000229</td></tr><tr><td>2009</td><td>8</td><td>Queens</td><td>EWR</td><td>470</td><td>47550.799999999945</td><td>14304.949999999992</td></tr><tr><td>2009</td><td>8</td><td>Bronx</td><td>Queens</td><td>501</td><td>13500.800000000016</td><td>4626.580000000001</td></tr><tr><td>2009</td><td>12</td><td>Bronx</td><td>Bronx</td><td>10584</td><td>115535.74000000012</td><td>23237.470000000063</td></tr><tr><td>2009</td><td>12</td><td>Manhattan</td><td>nan</td><td>28545</td><td>750098.2899999967</td><td>157296.22000000082</td></tr><tr><td>2009</td><td>12</td><td>nan</td><td>Manhattan</td><td>28410</td><td>368568.1900000049</td><td>87907.75000000055</td></tr><tr><td>2009</td><td>12</td><td>Staten Island</td><td>EWR</td><td>4</td><td>157.12</td><td>35.64999999999999</td></tr><tr><td>2009</td><td>8</td><td>nan</td><td>Queens</td><td>7066</td><td>151050.8400000011</td><td>47684.50000000002</td></tr><tr><td>2009</td><td>12</td><td>Queens</td><td>Queens</td><td>235889</td><td>3680779.939999805</td><td>923993.1199999973</td></tr><tr><td>2009</td><td>12</td><td>Bronx</td><td>Brooklyn</td><td>88</td><td>2812.490000000001</td><td>1089.1299999999994</td></tr><tr><td>2009</td><td>12</td><td>Bronx</td><td>EWR</td><td>3</td><td>264.5</td><td>89.69</td></tr><tr><td>2009</td><td>8</td><td>Queens</td><td>Manhattan</td><td>337334</td><td>1.1497174980004946E7</td><td>3825395.820000043</td></tr><tr><td>2009</td><td>8</td><td>Brooklyn</td><td>nan</td><td>1498</td><td>25081.710000000003</td><td>6826.470000000006</td></tr><tr><td>2009</td><td>8</td><td>EWR</td><td>EWR</td><td>1713</td><td>115815.85999999996</td><td>341.76999999999975</td></tr><tr><td>2009</td><td>8</td><td>Brooklyn</td><td>Staten Island</td><td>126</td><td>4685.010000000001</td><td>1504.6099999999997</td></tr><tr><td>2009</td><td>12</td><td>Bronx</td><td>Manhattan</td><td>2825</td><td>40501.31000000009</td><td>11664.66999999997</td></tr><tr><td>2009</td><td>9</td><td>Queens</td><td>Manhattan</td><td>355541</td><td>1.2401088470005656E7</td><td>4069167.260000063</td></tr><tr><td>2009</td><td>9</td><td>nan</td><td>Queens</td><td>7399</td><td>160005.9900000012</td><td>49043.56999999991</td></tr><tr><td>2009</td><td>9</td><td>Manhattan</td><td>Staten Island</td><td>1906</td><td>107478.83000000006</td><td>35070.680000000044</td></tr><tr><td>2009</td><td>9</td><td>EWR</td><td>Staten Island</td><td>2</td><td>138.1</td><td>12.71</td></tr><tr><td>2009</td><td>12</td><td>nan</td><td>nan</td><td>283155</td><td>3721544.3200000464</td><td>711828.0399999932</td></tr><tr><td>2009</td><td>12</td><td>Queens</td><td>Staten Island</td><td>570</td><td>38686.61999999996</td><td>14738.999999999998</td></tr><tr><td>2009</td><td>12</td><td>Bronx</td><td>Queens</td><td>351</td><td>9913.95</td><td>3215.400000000001</td></tr><tr><td>2009</td><td>12</td><td>EWR</td><td>Brooklyn</td><td>3</td><td>182.33999999999997</td><td>54.78</td></tr><tr><td>2009</td><td>9</td><td>Brooklyn</td><td>Manhattan</td><td>97662</td><td>1585785.740000073</td><td>481183.9999999954</td></tr><tr><td>2009</td><td>9</td><td>Queens</td><td>Bronx</td><td>9222</td><td>359497.4199999973</td><td>134731.25000000015</td></tr><tr><td>2009</td><td>9</td><td>Brooklyn</td><td>nan</td><td>1608</td><td>26376.149999999958</td><td>7268.50999999999</td></tr><tr><td>2009</td><td>9</td><td>nan</td><td>Brooklyn</td><td>3221</td><td>61378.74000000006</td><td>19991.629999999986</td></tr><tr><td>2009</td><td>9</td><td>Brooklyn</td><td>Staten Island</td><td>123</td><td>4805.360000000001</td><td>1555.2</td></tr><tr><td>2009</td><td>9</td><td>Bronx</td><td>EWR</td><td>4</td><td>213.14000000000001</td><td>86.60000000000001</td></tr><tr><td>2009</td><td>12</td><td>Manhattan</td><td>Staten Island</td><td>2122</td><td>123265.40000000013</td><td>39630.020000000004</td></tr><tr><td>2009</td><td>12</td><td>Brooklyn</td><td>EWR</td><td>148</td><td>10732.439999999993</td><td>2581.85</td></tr><tr><td>2009</td><td>9</td><td>Manhattan</td><td>Manhattan</td><td>11822601</td><td>1.0517357948003824E8</td><td>2.314045428000268E7</td></tr><tr><td>2009</td><td>9</td><td>Queens</td><td>Queens</td><td>269545</td><td>3987351.3299996746</td><td>1022429.6299999956</td></tr><tr><td>2009</td><td>9</td><td>Queens</td><td>nan</td><td>9487</td><td>405719.9200000033</td><td>114742.45000000019</td></tr><tr><td>2009</td><td>9</td><td>EWR</td><td>Manhattan</td><td>22</td><td>1181.92</td><td>264.56000000000006</td></tr><tr><td>2009</td><td>9</td><td>Bronx</td><td>Brooklyn</td><td>105</td><td>3558.459999999999</td><td>1338.3500000000001</td></tr><tr><td>2009</td><td>9</td><td>nan</td><td>nan</td><td>202398</td><td>2686601.9300000533</td><td>507826.9299999938</td></tr><tr><td>2009</td><td>9</td><td>Manhattan</td><td>EWR</td><td>15617</td><td>1057563.1800000048</td><td>270141.5200000013</td></tr><tr><td>2009</td><td>9</td><td>Bronx</td><td>Manhattan</td><td>3319</td><td>48294.20999999994</td><td>14521.760000000044</td></tr><tr><td>2009</td><td>9</td><td>Manhattan</td><td>Brooklyn</td><td>391184</td><td>7473607.800000547</td><td>2346896.8000000175</td></tr><tr><td>2009</td><td>9</td><td>Bronx</td><td>Queens</td><td>498</td><td>12551.870000000015</td><td>4097.769999999999</td></tr><tr><td>2009</td><td>9</td><td>EWR</td><td>nan</td><td>91</td><td>2097.080000000001</td><td>348.33999999999986</td></tr><tr><td>2009</td><td>9</td><td>Bronx</td><td>Bronx</td><td>12421</td><td>125078.98000000027</td><td>26297.50999999999</td></tr><tr><td>2009</td><td>9</td><td>Queens</td><td>EWR</td><td>301</td><td>29313.639999999992</td><td>8739.749999999998</td></tr><tr><td>2009</td><td>9</td><td>Staten Island</td><td>Queens</td><td>9</td><td>468.46</td><td>130.97</td></tr><tr><td>2009</td><td>9</td><td>Manhattan</td><td>nan</td><td>35210</td><td>787238.1099999932</td><td>176690.80000000034</td></tr><tr><td>2009</td><td>9</td><td>Staten Island</td><td>Manhattan</td><td>62</td><td>1114.74</td><td>331.63</td></tr><tr><td>2009</td><td>9</td><td>EWR</td><td>EWR</td><td>1730</td><td>120628.99999999999</td><td>333.11</td></tr><tr><td>2009</td><td>9</td><td>Brooklyn</td><td>EWR</td><td>118</td><td>8439.02</td><td>2154.29</td></tr><tr><td>2009</td><td>9</td><td>Staten Island</td><td>Brooklyn</td><td>28</td><td>670.34</td><td>228.60000000000002</td></tr><tr><td>2009</td><td>9</td><td>Brooklyn</td><td>Brooklyn</td><td>130792</td><td>1228908.0599999803</td><td>293489.7399999985</td></tr><tr><td>2009</td><td>9</td><td>Brooklyn</td><td>Queens</td><td>13479</td><td>330793.1800000009</td><td>120947.61000000009</td></tr><tr><td>2009</td><td>9</td><td>nan</td><td>EWR</td><td>307</td><td>17589.96999999999</td><td>3376.2599999999998</td></tr><tr><td>2009</td><td>9</td><td>EWR</td><td>Queens</td><td>1</td><td>77.29999999999998</td><td>23.22</td></tr><tr><td>2009</td><td>9</td><td>Manhattan</td><td>Queens</td><td>454443</td><td>1.3555548290002832E7</td><td>4503203.220000048</td></tr><tr><td>2009</td><td>9</td><td>Staten Island</td><td>nan</td><td>116</td><td>1756.4100000000003</td><td>521.1399999999999</td></tr><tr><td>2009</td><td>9</td><td>Staten Island</td><td>EWR</td><td>1</td><td>7.5</td><td>1.69</td></tr><tr><td>2009</td><td>9</td><td>Manhattan</td><td>Bronx</td><td>46484</td><td>1209485.2099999832</td><td>447486.6099999999</td></tr><tr><td>2009</td><td>9</td><td>Queens</td><td>Staten Island</td><td>576</td><td>38915.490000000034</td><td>15135.69</td></tr><tr><td>2009</td><td>9</td><td>nan</td><td>Bronx</td><td>1051</td><td>17931.21999999999</td><td>5506.589999999995</td></tr><tr><td>2009</td><td>9</td><td>Staten Island</td><td>Bronx</td><td>1</td><td>44.27</td><td>18.49</td></tr><tr><td>2009</td><td>8</td><td>nan</td><td>nan</td><td>186341</td><td>2411677.080000079</td><td>469023.4900000033</td></tr><tr><td>2009</td><td>8</td><td>Queens</td><td>Bronx</td><td>11904</td><td>469076.5699999899</td><td>176169.6699999999</td></tr><tr><td>2009</td><td>8</td><td>nan</td><td>Staten Island</td><td>140</td><td>2811.4000000000015</td><td>914.8200000000002</td></tr><tr><td>2009</td><td>8</td><td>Brooklyn</td><td>Bronx</td><td>437</td><td>17215.73</td><td>6912.039999999997</td></tr><tr><td>2009</td><td>9</td><td>Queens</td><td>Brooklyn</td><td>62505</td><td>2065197.1800000465</td><td>811017.3199999997</td></tr><tr><td>2009</td><td>9</td><td>Bronx</td><td>nan</td><td>827</td><td>14973.799999999983</td><td>3772.7500000000005</td></tr><tr><td>2009</td><td>9</td><td>Brooklyn</td><td>Bronx</td><td>431</td><td>16761.129999999994</td><td>6632.419999999996</td></tr><tr><td>2009</td><td>9</td><td>nan</td><td>Staten Island</td><td>141</td><td>2872.5000000000005</td><td>883.4799999999996</td></tr><tr><td>2009</td><td>9</td><td>EWR</td><td>Brooklyn</td><td>3</td><td>215.39999999999998</td><td>40.900000000000006</td></tr><tr><td>2009</td><td>1</td><td>Bronx</td><td>nan</td><td>483</td><td>7733.599999999989</td><td>2057.071000000001</td></tr><tr><td>2009</td><td>1</td><td>Brooklyn</td><td>EWR</td><td>78</td><td>5064.360000000002</td><td>1386.9499999999996</td></tr><tr><td>2009</td><td>1</td><td>EWR</td><td>Queens</td><td>6</td><td>492.3</td><td>163.6</td></tr><tr><td>2009</td><td>1</td><td>Staten Island</td><td>Bronx</td><td>1</td><td>49.3</td><td>18.81</td></tr><tr><td>2009</td><td>12</td><td>Manhattan</td><td>Manhattan</td><td>12402508</td><td>1.1776718089997989E8</td><td>2.3669965119999472E7</td></tr><tr><td>2009</td><td>12</td><td>nan</td><td>Bronx</td><td>890</td><td>16577.229999999992</td><td>5043.619999999996</td></tr><tr><td>2009</td><td>1</td><td>nan</td><td>Queens</td><td>4131</td><td>86652.32999999981</td><td>27815.973000000075</td></tr><tr><td>2009</td><td>1</td><td>nan</td><td>Brooklyn</td><td>2158</td><td>41800.749999999935</td><td>14158.853999999996</td></tr><tr><td>2009</td><td>1</td><td>Bronx</td><td>Queens</td><td>350</td><td>9751.009999999995</td><td>3288.956</td></tr><tr><td>2009</td><td>1</td><td>Staten Island</td><td>nan</td><td>44</td><td>529.1699999999998</td><td>146.54000000000002</td></tr><tr><td>2009</td><td>1</td><td>Staten Island</td><td>Queens</td><td>11</td><td>333.39000000000004</td><td>108.11</td></tr><tr><td>2009</td><td>1</td><td>Manhattan</td><td>nan</td><td>24662</td><td>556024.9099999993</td><td>127066.65199999997</td></tr><tr><td>2009</td><td>1</td><td>Manhattan</td><td>Staten Island</td><td>1822</td><td>99555.93999999997</td><td>33426.413</td></tr><tr><td>2009</td><td>1</td><td>Queens</td><td>Staten Island</td><td>513</td><td>33177.620000000024</td><td>13069.971</td></tr><tr><td>2009</td><td>1</td><td>Bronx</td><td>Brooklyn</td><td>77</td><td>2684.9100000000008</td><td>1029.4099999999999</td></tr><tr><td>2009</td><td>1</td><td>Manhattan</td><td>EWR</td><td>11767</td><td>781675.790000003</td><td>206192.63499999983</td></tr><tr><td>2009</td><td>1</td><td>EWR</td><td>EWR</td><td>1135</td><td>77467.06000000001</td><td>142.46399999999994</td></tr><tr><td>2009</td><td>1</td><td>Manhattan</td><td>Queens</td><td>384141</td><td>1.0529444590004716E7</td><td>3574922.999999949</td></tr><tr><td>2009</td><td>1</td><td>nan</td><td>Bronx</td><td>614</td><td>10817.399999999987</td><td>3480.674000000003</td></tr><tr><td>2009</td><td>1</td><td>Staten Island</td><td>Staten Island</td><td>727</td><td>10262.299999999992</td><td>1703.1539999999995</td></tr><tr><td>2009</td><td>1</td><td>Manhattan</td><td>Bronx</td><td>46608</td><td>1202715.8100000045</td><td>451404.1710000023</td></tr><tr><td>2009</td><td>1</td><td>nan</td><td>EWR</td><td>180</td><td>10302.61</td><td>2078.3930000000005</td></tr><tr><td>2009</td><td>1</td><td>Queens</td><td>nan</td><td>6636</td><td>289231.9399999998</td><td>85064.55000000003</td></tr><tr><td>2009</td><td>1</td><td>nan</td><td>Staten Island</td><td>75</td><td>1951.6699999999998</td><td>643.69</td></tr><tr><td>2009</td><td>1</td><td>Brooklyn</td><td>Brooklyn</td><td>124078</td><td>1122412.5499999938</td><td>257380.405</td></tr><tr><td>2009</td><td>1</td><td>EWR</td><td>nan</td><td>22</td><td>709.4</td><td>95.47</td></tr><tr><td>2009</td><td>1</td><td>Staten Island</td><td>Manhattan</td><td>91</td><td>1432.93</td><td>451.54499999999996</td></tr><tr><td>2009</td><td>1</td><td>Bronx</td><td>Staten Island</td><td>1</td><td>45.0</td><td>20.9</td></tr><tr><td>2009</td><td>1</td><td>EWR</td><td>Staten Island</td><td>1</td><td>11.8</td><td>3.35</td></tr><tr><td>2009</td><td>1</td><td>Queens</td><td>Bronx</td><td>8464</td><td>328520.17999999877</td><td>126400.231</td></tr><tr><td>2009</td><td>1</td><td>Queens</td><td>EWR</td><td>247</td><td>23984.050000000007</td><td>6756.936999999996</td></tr><tr><td>2009</td><td>1</td><td>Staten Island</td><td>EWR</td><td>2</td><td>184.85</td><td>24.6</td></tr><tr><td>2009</td><td>1</td><td>nan</td><td>Manhattan</td><td>20961</td><td>255568.96999999805</td><td>66764.75099999984</td></tr><tr><td>2009</td><td>1</td><td>Queens</td><td>Brooklyn</td><td>53639</td><td>1798226.600000038</td><td>717544.5399999991</td></tr><tr><td>2009</td><td>1</td><td>EWR</td><td>Brooklyn</td><td>2</td><td>78.51</td><td>20.58</td></tr><tr><td>2009</td><td>1</td><td>EWR</td><td>Manhattan</td><td>15</td><td>598.6500000000001</td><td>139.50699999999998</td></tr><tr><td>2009</td><td>8</td><td>Manhattan</td><td>EWR</td><td>15598</td><td>1068210.519999994</td><td>272870.4899999998</td></tr><tr><td>2009</td><td>8</td><td>Manhattan</td><td>Staten Island</td><td>1887</td><td>106318.81000000017</td><td>35082.72999999995</td></tr><tr><td>2009</td><td>8</td><td>Bronx</td><td>Brooklyn</td><td>114</td><td>3761.120000000001</td><td>1473.0800000000008</td></tr><tr><td>2009</td><td>12</td><td>Brooklyn</td><td>Brooklyn</td><td>127444</td><td>1242999.0000000037</td><td>271711.29999999894</td></tr><tr><td>2009</td><td>1</td><td>Manhattan</td><td>Brooklyn</td><td>394187</td><td>7345992.940000329</td><td>2334610.115999961</td></tr><tr><td>2009</td><td>1</td><td>Queens</td><td>Queens</td><td>216847</td><td>3079551.1499997946</td><td>801847.1980000017</td></tr><tr><td>2009</td><td>1</td><td>Bronx</td><td>EWR</td><td>4</td><td>317.37</td><td>78.64</td></tr><tr><td>2009</td><td>8</td><td>Manhattan</td><td>Queens</td><td>444215</td><td>1.2941125150002966E7</td><td>4346387.929999951</td></tr><tr><td>2009</td><td>8</td><td>Brooklyn</td><td>Brooklyn</td><td>129026</td><td>1218671.1899999995</td><td>296034.96999999945</td></tr><tr><td>2009</td><td>8</td><td>nan</td><td>Brooklyn</td><td>3289</td><td>62683.47999999996</td><td>20909.559999999998</td></tr><tr><td>2009</td><td>8</td><td>Brooklyn</td><td>EWR</td><td>126</td><td>8988.800000000001</td><td>2246.51</td></tr><tr><td>2009</td><td>8</td><td>EWR</td><td>nan</td><td>63</td><td>2026.7499999999998</td><td>209.0300000000001</td></tr><tr><td>2009</td><td>8</td><td>Staten Island</td><td>Manhattan</td><td>83</td><td>1628.399999999999</td><td>475.7300000000001</td></tr><tr><td>2009</td><td>1</td><td>Manhattan</td><td>Manhattan</td><td>12127350</td><td>1.0301710569003008E8</td><td>2.29221054789977E7</td></tr><tr><td>2009</td><td>1</td><td>Bronx</td><td>Manhattan</td><td>2984</td><td>39214.160000000105</td><td>11779.239000000009</td></tr><tr><td>2009</td><td>1</td><td>Brooklyn</td><td>Bronx</td><td>313</td><td>11868.99000000002</td><td>4837.576000000001</td></tr><tr><td>2009</td><td>1</td><td>Staten Island</td><td>Brooklyn</td><td>19</td><td>493.6000000000001</td><td>167.952</td></tr><tr><td>2009</td><td>12</td><td>Staten Island</td><td>Brooklyn</td><td>27</td><td>635.4899999999999</td><td>222.31</td></tr><tr><td>2009</td><td>1</td><td>nan</td><td>nan</td><td>271602</td><td>3103599.5200000564</td><td>659181.665999994</td></tr><tr><td>2009</td><td>1</td><td>Brooklyn</td><td>Queens</td><td>9267</td><td>213267.61000000025</td><td>77714.66000000016</td></tr><tr><td>2009</td><td>1</td><td>Bronx</td><td>Bronx</td><td>10173</td><td>99284.45000000014</td><td>19366.388000000003</td></tr><tr><td>2009</td><td>8</td><td>Manhattan</td><td>Brooklyn</td><td>383501</td><td>7214444.290000354</td><td>2305155.6900000493</td></tr><tr><td>2009</td><td>8</td><td>Bronx</td><td>Bronx</td><td>10967</td><td>107458.72999999992</td><td>22344.889999999992</td></tr><tr><td>2009</td><td>8</td><td>EWR</td><td>Staten Island</td><td>2</td><td>36.5</td><td>14.79</td></tr><tr><td>2009</td><td>1</td><td>Brooklyn</td><td>Manhattan</td><td>85853</td><td>1369195.5400000094</td><td>423376.66099999915</td></tr><tr><td>2009</td><td>1</td><td>Brooklyn</td><td>nan</td><td>796</td><td>12648.600000000008</td><td>3293.124999999999</td></tr><tr><td>2009</td><td>12</td><td>EWR</td><td>nan</td><td>57</td><td>2495.5199999999995</td><td>333.22</td></tr><tr><td>2009</td><td>12</td><td>EWR</td><td>Staten Island</td><td>3</td><td>167.88</td><td>18.73</td></tr><tr><td>2009</td><td>12</td><td>Staten Island</td><td>Bronx</td><td>1</td><td>57.27</td><td>24.4</td></tr><tr><td>2009</td><td>1</td><td>Queens</td><td>Manhattan</td><td>279197</td><td>9050437.340005819</td><td>3060920.4559999728</td></tr><tr><td>2009</td><td>1</td><td>Brooklyn</td><td>Staten Island</td><td>78</td><td>2943.8799999999997</td><td>957.1600000000002</td></tr><tr><td>2009</td><td>12</td><td>nan</td><td>Staten Island</td><td>213</td><td>4082.939999999997</td><td>1165.0700000000002</td></tr><tr><td>2009</td><td>12</td><td>EWR</td><td>Manhattan</td><td>18</td><td>844.01</td><td>217.18</td></tr><tr><td>2009</td><td>1</td><td>EWR</td><td>Bronx</td><td>1</td><td>86.01999999999998</td><td>26.7</td></tr><tr><td>2009</td><td>12</td><td>nan</td><td>Queens</td><td>5629</td><td>122867.87000000082</td><td>37192.39999999998</td></tr><tr><td>2009</td><td>12</td><td>nan</td><td>Brooklyn</td><td>2902</td><td>60002.899999999965</td><td>19610.699999999975</td></tr><tr><td>2009</td><td>12</td><td>EWR</td><td>Queens</td><td>9</td><td>692.4699999999999</td><td>233.86</td></tr><tr><td>2009</td><td>12</td><td>Brooklyn</td><td>Bronx</td><td>375</td><td>15395.690000000004</td><td>5991.799999999999</td></tr><tr><td>2009</td><td>12</td><td>EWR</td><td>Bronx</td><td>2</td><td>147.0</td><td>49.5</td></tr><tr><td>2009</td><td>2</td><td>Manhattan</td><td>EWR</td><td>11243</td><td>754656.0999999932</td><td>195867.4699999997</td></tr><tr><td>2009</td><td>2</td><td>Manhattan</td><td>nan</td><td>24626</td><td>561236.7799999984</td><td>127870.02000000002</td></tr><tr><td>2009</td><td>2</td><td>Bronx</td><td>Brooklyn</td><td>87</td><td>2989.1</td><td>1162.6200000000001</td></tr><tr><td>2009</td><td>12</td><td>Brooklyn</td><td>Manhattan</td><td>88688</td><td>1500228.3300000406</td><td>440958.3900000068</td></tr><tr><td>2009</td><td>12</td><td>Queens</td><td>nan</td><td>7819</td><td>356855.8800000007</td><td>99487.94999999984</td></tr><tr><td>2009</td><td>12</td><td>Brooklyn</td><td>nan</td><td>1331</td><td>23834.140000000007</td><td>6415.5699999999915</td></tr><tr><td>2009</td><td>12</td><td>Staten Island</td><td>Staten Island</td><td>1210</td><td>14973.110000000019</td><td>2550.2799999999997</td></tr><tr><td>2009</td><td>12</td><td>Staten Island</td><td>nan</td><td>174</td><td>2783.3699999999994</td><td>628.8200000000003</td></tr><tr><td>2009</td><td>2</td><td>Brooklyn</td><td>Queens</td><td>9692</td><td>226487.14000000007</td><td>82524.89999999972</td></tr><tr><td>2009</td><td>2</td><td>nan</td><td>Brooklyn</td><td>2231</td><td>42783.579999999936</td><td>14401.839999999978</td></tr><tr><td>2009</td><td>2</td><td>Manhattan</td><td>Staten Island</td><td>1800</td><td>99729.68</td><td>33691.510000000024</td></tr><tr><td>2009</td><td>2</td><td>EWR</td><td>Queens</td><td>3</td><td>205.1</td><td>68.62</td></tr><tr><td>2009</td><td>2</td><td>Staten Island</td><td>Brooklyn</td><td>17</td><td>399.55</td><td>133.14</td></tr><tr><td>2009</td><td>2</td><td>EWR</td><td>Brooklyn</td><td>2</td><td>61.2</td><td>15.809999999999999</td></tr><tr><td>2009</td><td>12</td><td>Brooklyn</td><td>Queens</td><td>11624</td><td>294438.77999999933</td><td>104320.11000000013</td></tr><tr><td>2009</td><td>12</td><td>Queens</td><td>Manhattan</td><td>353619</td><td>1.2561241080005448E7</td><td>4050144.8000000534</td></tr><tr><td>2009</td><td>12</td><td>Manhattan</td><td>Queens</td><td>455698</td><td>1.3749821940002482E7</td><td>4450540.420000051</td></tr><tr><td>2009</td><td>12</td><td>Manhattan</td><td>Bronx</td><td>46440</td><td>1244258.4599999904</td><td>448660.14000000525</td></tr><tr><td>2009</td><td>12</td><td>Brooklyn</td><td>Staten Island</td><td>129</td><td>5183.679999999998</td><td>1644.7</td></tr><tr><td>2009</td><td>12</td><td>Queens</td><td>EWR</td><td>439</td><td>43749.04999999997</td><td>13093.169999999987</td></tr><tr><td>2009</td><td>12</td><td>Manhattan</td><td>Brooklyn</td><td>388829</td><td>7722261.2600004915</td><td>2355993.560000005</td></tr><tr><td>2009</td><td>12</td><td>Manhattan</td><td>EWR</td><td>17953</td><td>1245680.890000016</td><td>313241.3299999992</td></tr><tr><td>2009</td><td>12</td><td>Queens</td><td>Brooklyn</td><td>65057</td><td>2195740.240000052</td><td>842870.5899999944</td></tr><tr><td>2009</td><td>12</td><td>Bronx</td><td>nan</td><td>671</td><td>12288.15</td><td>3041.5999999999963</td></tr><tr><td>2009</td><td>12</td><td>Staten Island</td><td>Queens</td><td>13</td><td>380.13</td><td>133.7</td></tr><tr><td>2009</td><td>12</td><td>nan</td><td>EWR</td><td>300</td><td>18238.880000000005</td><td>2985.830000000001</td></tr><tr><td>2009</td><td>2</td><td>Queens</td><td>Queens</td><td>194850</td><td>2782878.5199998864</td><td>703351.6450000235</td></tr><tr><td>2009</td><td>2</td><td>Brooklyn</td><td>Brooklyn</td><td>117307</td><td>1081053.5900000022</td><td>250844.606000006</td></tr><tr><td>2009</td><td>2</td><td>nan</td><td>Manhattan</td><td>21502</td><td>265667.9399999979</td><td>69996.00999999966</td></tr><tr><td>2009</td><td>2</td><td>Queens</td><td>Bronx</td><td>7149</td><td>273653.36999999953</td><td>105029.20999999983</td></tr><tr><td>2009</td><td>2</td><td>Brooklyn</td><td>Manhattan</td><td>84654</td><td>1355419.2600000054</td><td>417543.04800000536</td></tr><tr><td>2009</td><td>2</td><td>Brooklyn</td><td>nan</td><td>975</td><td>15510.359999999999</td><td>4083.690000000001</td></tr><tr><td>2009</td><td>2</td><td>Brooklyn</td><td>EWR</td><td>84</td><td>5639.590000000001</td><td>1498.01</td></tr><tr><td>2009</td><td>2</td><td>Staten Island</td><td>nan</td><td>54</td><td>846.9899999999999</td><td>250.51</td></tr><tr><td>2009</td><td>2</td><td>Queens</td><td>Brooklyn</td><td>45773</td><td>1521865.7400000019</td><td>606573.9999999999</td></tr><tr><td>2009</td><td>2</td><td>nan</td><td>Queens</td><td>4252</td><td>90055.9199999998</td><td>28738.869999999948</td></tr><tr><td>2009</td><td>2</td><td>Brooklyn</td><td>Bronx</td><td>378</td><td>14544.189999999993</td><td>5818.009999999999</td></tr><tr><td>2009</td><td>2</td><td>Brooklyn</td><td>Staten Island</td><td>102</td><td>3909.04</td><td>1271.3700000000003</td></tr><tr><td>2009</td><td>2</td><td>Queens</td><td>Manhattan</td><td>269359</td><td>8777416.81000532</td><td>2969206.8609999917</td></tr><tr><td>2009</td><td>2</td><td>Manhattan</td><td>Brooklyn</td><td>386352</td><td>7329643.430000515</td><td>2330439.1419999856</td></tr><tr><td>2009</td><td>2</td><td>Queens</td><td>Staten Island</td><td>399</td><td>26416.100000000006</td><td>10604.870000000004</td></tr><tr><td>2009</td><td>2</td><td>EWR</td><td>nan</td><td>34</td><td>925.55</td><td>133.86</td></tr><tr><td>2009</td><td>2</td><td>Staten Island</td><td>Bronx</td><td>1</td><td>32.28</td><td>7.54</td></tr><tr><td>2009</td><td>2</td><td>nan</td><td>EWR</td><td>182</td><td>10129.35</td><td>2013.7000000000003</td></tr><tr><td>2009</td><td>2</td><td>Queens</td><td>nan</td><td>6180</td><td>263721.36999999825</td><td>79300.30000000015</td></tr><tr><td>2009</td><td>2</td><td>Queens</td><td>EWR</td><td>245</td><td>23611.280000000013</td><td>7194.07</td></tr><tr><td>2009</td><td>2</td><td>Staten Island</td><td>Manhattan</td><td>88</td><td>1446.3300000000002</td><td>445.1199999999999</td></tr><tr><td>2009</td><td>2</td><td>EWR</td><td>Manhattan</td><td>15</td><td>763.8</td><td>190.34000000000003</td></tr><tr><td>2009</td><td>2</td><td>Manhattan</td><td>Manhattan</td><td>11500363</td><td>9.933195123004201E7</td><td>2.2137588124997303E7</td></tr><tr><td>2009</td><td>2</td><td>nan</td><td>Staten Island</td><td>99</td><td>2008.1999999999996</td><td>616.1800000000003</td></tr><tr><td>2009</td><td>2</td><td>Manhattan</td><td>Queens</td><td>383057</td><td>1.0632561850004667E7</td><td>3606438.207999988</td></tr><tr><td>2009</td><td>2</td><td>EWR</td><td>EWR</td><td>1077</td><td>71621.68000000002</td><td>119.32000000000002</td></tr><tr><td>2009</td><td>2</td><td>Bronx</td><td>Manhattan</td><td>3020</td><td>39983.119999999995</td><td>12098.599999999997</td></tr><tr><td>2009</td><td>2</td><td>Staten Island</td><td>Staten Island</td><td>645</td><td>9222.829999999982</td><td>1606.279999999999</td></tr><tr><td>2009</td><td>2</td><td>Bronx</td><td>EWR</td><td>7</td><td>519.95</td><td>161.62</td></tr><tr><td>2009</td><td>2</td><td>Bronx</td><td>Bronx</td><td>7912</td><td>75326.34999999982</td><td>14617.900000000074</td></tr><tr><td>2009</td><td>2</td><td>Staten Island</td><td>Queens</td><td>10</td><td>313.4</td><td>114.26</td></tr><tr><td>2009</td><td>2</td><td>nan</td><td>nan</td><td>244088</td><td>2902613.440000093</td><td>609818.1339999946</td></tr><tr><td>2009</td><td>2</td><td>Manhattan</td><td>Bronx</td><td>48938</td><td>1272715.6400000115</td><td>477844.4699999939</td></tr><tr><td>2009</td><td>2</td><td>nan</td><td>Bronx</td><td>533</td><td>10237.55</td><td>3426.309999999996</td></tr><tr><td>2009</td><td>2</td><td>Bronx</td><td>nan</td><td>431</td><td>8171.2699999999995</td><td>1984.1499999999987</td></tr><tr><td>2009</td><td>2</td><td>Bronx</td><td>Queens</td><td>305</td><td>8392.869999999994</td><td>2891.0499999999965</td></tr><tr><td>2009</td><td>2</td><td>Staten Island</td><td>EWR</td><td>1</td><td>60.1</td><td>12.3</td></tr><tr><td>2009</td><td>3</td><td>Manhattan</td><td>Brooklyn</td><td>415856</td><td>7969034.730000828</td><td>2532558.0000000065</td></tr><tr><td>2009</td><td>3</td><td>nan</td><td>EWR</td><td>196</td><td>11564.739999999996</td><td>2360.1700000000005</td></tr><tr><td>2009</td><td>3</td><td>Bronx</td><td>Brooklyn</td><td>132</td><td>4547.370000000001</td><td>1768.1100000000006</td></tr><tr><td>2009</td><td>3</td><td>Brooklyn</td><td>Bronx</td><td>464</td><td>17334.02</td><td>7038.400000000003</td></tr><tr><td>2009</td><td>3</td><td>EWR</td><td>nan</td><td>37</td><td>1352.01</td><td>157.63000000000002</td></tr><tr><td>2009</td><td>3</td><td>Brooklyn</td><td>EWR</td><td>78</td><td>5390.1</td><td>1370.8900000000003</td></tr><tr><td>2009</td><td>3</td><td>Staten Island</td><td>Queens</td><td>13</td><td>622.0899999999999</td><td>216.62000000000003</td></tr><tr><td>2009</td><td>3</td><td>nan</td><td>Bronx</td><td>577</td><td>11370.00000000001</td><td>3674.310000000001</td></tr><tr><td>2009</td><td>3</td><td>nan</td><td>Brooklyn</td><td>2257</td><td>44840.66</td><td>15220.809999999989</td></tr><tr><td>2009</td><td>3</td><td>EWR</td><td>EWR</td><td>1353</td><td>84897.08000000003</td><td>364.0599999999998</td></tr><tr><td>2009</td><td>3</td><td>Queens</td><td>EWR</td><td>296</td><td>28761.51</td><td>8713.990000000009</td></tr><tr><td>2009</td><td>3</td><td>EWR</td><td>Queens</td><td>3</td><td>320.18</td><td>94.61</td></tr><tr><td>2009</td><td>3</td><td>Manhattan</td><td>Queens</td><td>455316</td><td>1.2838668190006573E7</td><td>4342716.3700000215</td></tr><tr><td>2009</td><td>3</td><td>Brooklyn</td><td>nan</td><td>1016</td><td>16101.28000000001</td><td>4479.710000000008</td></tr><tr><td>2009</td><td>3</td><td>EWR</td><td>Bronx</td><td>1</td><td>39.0</td><td>16.7</td></tr><tr><td>2009</td><td>3</td><td>Bronx</td><td>Staten Island</td><td>3</td><td>206.55</td><td>71.45</td></tr><tr><td>2009</td><td>3</td><td>EWR</td><td>Staten Island</td><td>1</td><td>39.1</td><td>13.3</td></tr><tr><td>2009</td><td>3</td><td>Manhattan</td><td>Manhattan</td><td>12260822</td><td>1.0688739992002669E8</td><td>2.378081332000188E7</td></tr><tr><td>2009</td><td>3</td><td>Manhattan</td><td>Staten Island</td><td>2167</td><td>121962.91000000003</td><td>40946.97</td></tr><tr><td>2009</td><td>3</td><td>Manhattan</td><td>Manhattan', 'Manhattan</td><td>2</td><td>19.0</td><td>3.12</td></tr><tr><td>2009</td><td>3</td><td>nan</td><td>nan</td><td>241524</td><td>2963240.690000094</td><td>602529.749999984</td></tr><tr><td>2009</td><td>3</td><td>Queens</td><td>Brooklyn</td><td>57834</td><td>1937309.440000032</td><td>767627.7099999841</td></tr><tr><td>2009</td><td>3</td><td>Queens</td><td>nan</td><td>7211</td><td>325595.36999999936</td><td>95212.92000000001</td></tr><tr><td>2009</td><td>3</td><td>Queens</td><td>Staten Island</td><td>493</td><td>32674.459999999974</td><td>13065.299999999992</td></tr><tr><td>2009</td><td>3</td><td>Bronx</td><td>Queens</td><td>387</td><td>10071.50999999999</td><td>3442.4100000000008</td></tr><tr><td>2009</td><td>3</td><td>Staten Island</td><td>Manhattan</td><td>79</td><td>1428.0600000000004</td><td>448.87000000000006</td></tr><tr><td>2009</td><td>3</td><td>Brooklyn</td><td>Staten Island</td><td>99</td><td>3385.680000000001</td><td>1096.6299999999999</td></tr><tr><td>2009</td><td>3</td><td>EWR</td><td>Manhattan</td><td>28</td><td>1148.9899999999998</td><td>261.75</td></tr><tr><td>2009</td><td>3</td><td>Staten Island</td><td>Brooklyn</td><td>27</td><td>571.4</td><td>188.64999999999995</td></tr><tr><td>2009</td><td>3</td><td>nan</td><td>Queens</td><td>4609</td><td>107371.66999999921</td><td>34614.500000000065</td></tr><tr><td>2009</td><td>3</td><td>Staten Island</td><td>Bronx</td><td>1</td><td>40.9</td><td>19.07</td></tr><tr><td>2009</td><td>3</td><td>EWR</td><td>Brooklyn</td><td>1</td><td>44.9</td><td>16.3</td></tr><tr><td>2009</td><td>3</td><td>Queens</td><td>Manhattan</td><td>335345</td><td>1.112605289000887E7</td><td>3751508.6500000875</td></tr><tr><td>2009</td><td>3</td><td>Brooklyn</td><td>Brooklyn</td><td>127464</td><td>1175499.3499999926</td><td>275306.640000004</td></tr><tr><td>2009</td><td>3</td><td>Queens</td><td>Bronx</td><td>9048</td><td>348063.92000000115</td><td>132919.26000000013</td></tr><tr><td>2009</td><td>3</td><td>nan</td><td>Manhattan</td><td>23762</td><td>302985.4300000013</td><td>79512.81999999938</td></tr><tr><td>2009</td><td>3</td><td>Staten Island</td><td>Staten Island</td><td>498</td><td>7714.069999999997</td><td>819.2099999999999</td></tr><tr><td>2009</td><td>3</td><td>Manhattan</td><td>Bronx</td><td>54466</td><td>1415561.9399999946</td><td>532741.6600000059</td></tr><tr><td>2009</td><td>3</td><td>Brooklyn</td><td>Queens</td><td>11790</td><td>286508.05999999965</td><td>104885.24000000038</td></tr><tr><td>2009</td><td>3</td><td>Manhattan</td><td>nan</td><td>28405</td><td>658733.1500000014</td><td>150818.72999999954</td></tr><tr><td>2009</td><td>3</td><td>Staten Island</td><td>nan</td><td>74</td><td>980.1399999999998</td><td>277.59000000000003</td></tr><tr><td>2009</td><td>3</td><td>Queens</td><td>Queens</td><td>223116</td><td>3288586.8999997955</td><td>846372.3300000111</td></tr><tr><td>2009</td><td>3</td><td>Brooklyn</td><td>Manhattan</td><td>92615</td><td>1494957.0600000378</td><td>460795.63000000594</td></tr><tr><td>2009</td><td>3</td><td>Bronx</td><td>Bronx</td><td>9955</td><td>97891.26000000017</td><td>19564.070000000083</td></tr><tr><td>2009</td><td>3</td><td>Manhattan</td><td>EWR</td><td>13997</td><td>935800.0400000007</td><td>244242.5099999992</td></tr><tr><td>2009</td><td>3</td><td>Bronx</td><td>nan</td><td>418</td><td>7564.810000000002</td><td>1950.1799999999994</td></tr><tr><td>2009</td><td>3</td><td>nan</td><td>Staten Island</td><td>102</td><td>2166.56</td><td>692.1400000000002</td></tr><tr><td>2009</td><td>3</td><td>Bronx</td><td>Manhattan</td><td>3427</td><td>45377.950000000004</td><td>13610.770000000002</td></tr><tr><td>2009</td><td>3</td><td>Bronx</td><td>EWR</td><td>6</td><td>540.5</td><td>161.04000000000002</td></tr><tr><td>2009</td><td>5</td><td>Queens</td><td>Queens</td><td>236643</td><td>3524106.9799997406</td><td>914008.3100000102</td></tr><tr><td>2009</td><td>5</td><td>EWR</td><td>nan</td><td>42</td><td>1511.9599999999998</td><td>156.81999999999996</td></tr><tr><td>2009</td><td>5</td><td>Queens</td><td>Brooklyn</td><td>62759</td><td>2077287.6900000281</td><td>821325.8099999995</td></tr><tr><td>2009</td><td>5</td><td>Manhattan</td><td>Staten Island</td><td>2013</td><td>110684.41000000015</td><td>37006.60000000006</td></tr><tr><td>2009</td><td>5</td><td>Queens</td><td>nan</td><td>7646</td><td>337355.3000000015</td><td>98988.09999999971</td></tr><tr><td>2009</td><td>5</td><td>Brooklyn</td><td>Manhattan</td><td>103601</td><td>1675059.4700000603</td><td>517181.6699999982</td></tr><tr><td>2009</td><td>5</td><td>Brooklyn</td><td>EWR</td><td>102</td><td>7126.579999999998</td><td>1845.29</td></tr><tr><td>2009</td><td>5</td><td>Brooklyn</td><td>nan</td><td>1290</td><td>20586.31000000004</td><td>5705.029999999995</td></tr><tr><td>2009</td><td>5</td><td>Brooklyn</td><td>Bronx</td><td>447</td><td>17269.82</td><td>6942.560000000005</td></tr><tr><td>2009</td><td>5</td><td>nan</td><td>Bronx</td><td>791</td><td>15532.730000000001</td><td>5203.759999999997</td></tr><tr><td>2009</td><td>5</td><td>Manhattan</td><td>Brooklyn</td><td>427353</td><td>8053556.49000073</td><td>2569450.1199999973</td></tr><tr><td>2009</td><td>5</td><td>Manhattan</td><td>Bronx</td><td>54781</td><td>1415928.9399999948</td><td>528215.920000003</td></tr><tr><td>2009</td><td>5</td><td>Staten Island</td><td>Bronx</td><td>2</td><td>76.85</td><td>30.919999999999998</td></tr><tr><td>2009</td><td>5</td><td>Manhattan', 'Manhattan</td><td>Manhattan</td><td>1</td><td>6.5</td><td>0.97</td></tr><tr><td>2009</td><td>5</td><td>Staten Island</td><td>Staten Island</td><td>595</td><td>8275.790000000006</td><td>1121.0300000000007</td></tr><tr><td>2009</td><td>5</td><td>Staten Island</td><td>Brooklyn</td><td>39</td><td>913.64</td><td>297.75999999999993</td></tr><tr><td>2009</td><td>5</td><td>Staten Island</td><td>EWR</td><td>1</td><td>163.3</td><td>10.54</td></tr><tr><td>2009</td><td>5</td><td>Queens</td><td>Bronx</td><td>9738</td><td>372423.19</td><td>141317.8300000006</td></tr><tr><td>2009</td><td>5</td><td>Bronx</td><td>Manhattan</td><td>3356</td><td>47515.12</td><td>14512.179999999991</td></tr><tr><td>2009</td><td>5</td><td>nan</td><td>EWR</td><td>291</td><td>17779.699999999993</td><td>3394.0399999999995</td></tr><tr><td>2009</td><td>5</td><td>Bronx</td><td>EWR</td><td>8</td><td>643.3999999999999</td><td>191.75</td></tr><tr><td>2009</td><td>5</td><td>nan</td><td>nan</td><td>272401</td><td>3286376.470000038</td><td>697613.0899999959</td></tr><tr><td>2009</td><td>5</td><td>Manhattan</td><td>nan</td><td>29259</td><td>659543.16</td><td>153625.7999999995</td></tr><tr><td>2009</td><td>5</td><td>Brooklyn</td><td>Queens</td><td>13367</td><td>324039.50999999867</td><td>118471.52999999975</td></tr><tr><td>2009</td><td>5</td><td>EWR</td><td>EWR</td><td>1512</td><td>99397.13999999996</td><td>323.3699999999999</td></tr><tr><td>2009</td><td>5</td><td>Bronx</td><td>Staten Island</td><td>1</td><td>6.1</td><td>0.8599999999999999</td></tr><tr><td>2009</td><td>5</td><td>nan</td><td>Manhattan</td><td>25381</td><td>332568.2599999998</td><td>86085.68999999971</td></tr><tr><td>2009</td><td>5</td><td>nan</td><td>Brooklyn</td><td>2826</td><td>56001.270000000164</td><td>19046.86999999999</td></tr><tr><td>2009</td><td>5</td><td>Bronx</td><td>Queens</td><td>446</td><td>12033.299999999983</td><td>4160.5599999999995</td></tr><tr><td>2009</td><td>5</td><td>Bronx</td><td>nan</td><td>509</td><td>8939.859999999997</td><td>2225.090000000001</td></tr><tr><td>2009</td><td>5</td><td>Staten Island</td><td>Queens</td><td>11</td><td>458.55</td><td>179.15</td></tr><tr><td>2009</td><td>5</td><td>Queens</td><td>EWR</td><td>300</td><td>29133.650000000023</td><td>8595.969999999998</td></tr><tr><td>2009</td><td>5</td><td>Queens</td><td>Manhattan</td><td>350480</td><td>1.1690124000009742E7</td><td>3918014.959999913</td></tr><tr><td>2009</td><td>5</td><td>Brooklyn</td><td>Staten Island</td><td>128</td><td>4768.249999999997</td><td>1472.97</td></tr><tr><td>2009</td><td>5</td><td>nan</td><td>Queens</td><td>5401</td><td>125370.65999999952</td><td>40276.709999999846</td></tr><tr><td>2009</td><td>5</td><td>Manhattan</td><td>Manhattan</td><td>12555297</td><td>1.1008495577005765E8</td><td>2.4715653259998247E7</td></tr><tr><td>2009</td><td>5</td><td>Manhattan</td><td>Queens</td><td>466647</td><td>1.3579248610007305E7</td><td>4561688.570000133</td></tr><tr><td>2009</td><td>5</td><td>Brooklyn</td><td>Brooklyn</td><td>134995</td><td>1252616.6100000092</td><td>302236.3499999986</td></tr><tr><td>2009</td><td>5</td><td>Manhattan</td><td>EWR</td><td>15917</td><td>1083214.6100000003</td><td>280136.10999999905</td></tr><tr><td>2009</td><td>5</td><td>EWR</td><td>Manhattan</td><td>25</td><td>1420.2299999999998</td><td>359.37</td></tr><tr><td>2009</td><td>5</td><td>Manhattan</td><td>Manhattan', 'Manhattan</td><td>1</td><td>5.5</td><td>0.7299999999999999</td></tr><tr><td>2009</td><td>5</td><td>Bronx</td><td>Bronx</td><td>8953</td><td>87300.81999999999</td><td>17465.730000000032</td></tr><tr><td>2009</td><td>5</td><td>Bronx</td><td>Brooklyn</td><td>101</td><td>3430.1100000000006</td><td>1326.9000000000003</td></tr><tr><td>2009</td><td>5</td><td>Queens</td><td>Staten Island</td><td>575</td><td>38065.209999999985</td><td>15038.96</td></tr><tr><td>2009</td><td>5</td><td>Staten Island</td><td>Manhattan</td><td>84</td><td>1685.7199999999998</td><td>500.1699999999999</td></tr><tr><td>2009</td><td>5</td><td>Staten Island</td><td>nan</td><td>95</td><td>1223.7700000000007</td><td>359.4700000000001</td></tr><tr><td>2009</td><td>5</td><td>EWR</td><td>Brooklyn</td><td>3</td><td>189.42000000000002</td><td>50.540000000000006</td></tr><tr><td>2009</td><td>5</td><td>nan</td><td>Staten Island</td><td>95</td><td>1948.2999999999993</td><td>619.3800000000002</td></tr><tr><td>2009</td><td>5</td><td>EWR</td><td>Queens</td><td>4</td><td>259.6499999999999</td><td>96.99999999999999</td></tr><tr><td>2009</td><td>11</td><td>EWR</td><td>nan</td><td>44</td><td>1241.1299999999999</td><td>209.69000000000003</td></tr><tr><td>2009</td><td>11</td><td>Brooklyn</td><td>Staten Island</td><td>90</td><td>3559.8399999999992</td><td>1134.5699999999997</td></tr><tr><td>2009</td><td>11</td><td>EWR</td><td>EWR</td><td>1562</td><td>106319.65999999999</td><td>525.5800000000004</td></tr><tr><td>2009</td><td>11</td><td>Manhattan</td><td>Brooklyn</td><td>393772</td><td>7690989.960000358</td><td>2357839.450000073</td></tr><tr><td>2009</td><td>11</td><td>Brooklyn</td><td>Manhattan</td><td>95730</td><td>1624436.1000000404</td><td>476945.8199999962</td></tr><tr><td>2009</td><td>11</td><td>Bronx</td><td>nan</td><td>942</td><td>17385.200000000026</td><td>4069.669999999997</td></tr><tr><td>2009</td><td>11</td><td>Brooklyn</td><td>Bronx</td><td>391</td><td>15480.839999999998</td><td>6051.269999999994</td></tr><tr><td>2009</td><td>11</td><td>EWR</td><td>Queens</td><td>4</td><td>296.29999999999995</td><td>101.14999999999999</td></tr><tr><td>2009</td><td>11</td><td>Staten Island</td><td>EWR</td><td>1</td><td>17.9</td><td>6.81</td></tr><tr><td>2009</td><td>11</td><td>Manhattan</td><td>nan</td><td>33659</td><td>768199.1499999929</td><td>166759.08999999988</td></tr><tr><td>2009</td><td>11</td><td>nan</td><td>Brooklyn</td><td>3257</td><td>60984.19999999994</td><td>19167.770000000004</td></tr><tr><td>2009</td><td>11</td><td>Staten Island</td><td>Manhattan</td><td>77</td><td>1285.51</td><td>368.0299999999999</td></tr><tr><td>2009</td><td>11</td><td>Bronx</td><td>Brooklyn</td><td>86</td><td>3212.5699999999997</td><td>1216.1399999999999</td></tr><tr><td>2009</td><td>11</td><td>Manhattan</td><td>Queens</td><td>454215</td><td>1.3766696610002184E7</td><td>4477422.8399998965</td></tr><tr><td>2009</td><td>11</td><td>Manhattan</td><td>Bronx</td><td>44339</td><td>1192613.49999998</td><td>431869.26999999746</td></tr><tr><td>2009</td><td>11</td><td>Staten Island</td><td>nan</td><td>145</td><td>2127.9999999999986</td><td>571.0</td></tr><tr><td>2009</td><td>11</td><td>Queens</td><td>EWR</td><td>295</td><td>28714.06000000001</td><td>8337.590000000004</td></tr><tr><td>2009</td><td>11</td><td>Manhattan', 'Manhattan</td><td>Manhattan</td><td>1</td><td>21.4</td><td>6.19</td></tr><tr><td>2009</td><td>11</td><td>Queens</td><td>Queens</td><td>243271</td><td>3649589.0699997703</td><td>900145.930000027</td></tr><tr><td>2009</td><td>11</td><td>Brooklyn</td><td>Queens</td><td>13048</td><td>320106.86000000057</td><td>112466.42000000006</td></tr><tr><td>2009</td><td>11</td><td>Queens</td><td>Bronx</td><td>8323</td><td>328104.27999999915</td><td>119759.81000000016</td></tr><tr><td>2009</td><td>11</td><td>Staten Island</td><td>Brooklyn</td><td>32</td><td>521.92</td><td>154.94999999999996</td></tr><tr><td>2009</td><td>11</td><td>Bronx</td><td>Staten Island</td><td>1</td><td>57.8</td><td>26.1</td></tr><tr><td>2009</td><td>11</td><td>Bronx</td><td>EWR</td><td>1</td><td>70.5</td><td>18.3</td></tr><tr><td>2009</td><td>11</td><td>Staten Island</td><td>Staten Island</td><td>1212</td><td>14398.890000000016</td><td>2402.0900000000015</td></tr><tr><td>2009</td><td>11</td><td>Queens</td><td>nan</td><td>9295</td><td>392636.6400000026</td><td>109222.17000000025</td></tr><tr><td>2009</td><td>11</td><td>Manhattan</td><td>EWR</td><td>16443</td><td>1132179.1100000036</td><td>286385.3199999987</td></tr><tr><td>2009</td><td>11</td><td>Manhattan</td><td>Staten Island</td><td>1915</td><td>108934.36999999972</td><td>35181.65000000001</td></tr><tr><td>2009</td><td>11</td><td>Queens</td><td>Brooklyn</td><td>59074</td><td>1981583.0200000526</td><td>759761.0900000021</td></tr><tr><td>2009</td><td>11</td><td>EWR</td><td>Staten Island</td><td>2</td><td>78.35</td><td>25.75</td></tr><tr><td>2009</td><td>11</td><td>Staten Island</td><td>Bronx</td><td>1</td><td>19.9</td><td>6.11</td></tr><tr><td>2009</td><td>11</td><td>Manhattan</td><td>Manhattan</td><td>12060086</td><td>1.1392086192998746E8</td><td>2.3504048800002348E7</td></tr><tr><td>2009</td><td>11</td><td>nan</td><td>EWR</td><td>350</td><td>22521.839999999993</td><td>4063.3300000000013</td></tr><tr><td>2009</td><td>11</td><td>Brooklyn</td><td>Brooklyn</td><td>131990</td><td>1319727.8900000062</td><td>297037.6300000006</td></tr><tr><td>2009</td><td>11</td><td>nan</td><td>Manhattan</td><td>31926</td><td>421771.0800000018</td><td>104058.9300000009</td></tr><tr><td>2009</td><td>11</td><td>Bronx</td><td>Manhattan</td><td>2796</td><td>40567.38999999999</td><td>11707.680000000002</td></tr><tr><td>2009</td><td>11</td><td>Bronx</td><td>Queens</td><td>457</td><td>12273.060000000001</td><td>3962.4100000000008</td></tr><tr><td>2009</td><td>11</td><td>nan</td><td>Staten Island</td><td>177</td><td>3598.7699999999977</td><td>1094.1899999999991</td></tr><tr><td>2009</td><td>11</td><td>Brooklyn</td><td>EWR</td><td>127</td><td>9396.700000000004</td><td>2323.4299999999985</td></tr><tr><td>2009</td><td>11</td><td>nan</td><td>Queens</td><td>7262</td><td>159868.94000000245</td><td>49132.949999999844</td></tr><tr><td>2009</td><td>11</td><td>nan</td><td>Bronx</td><td>1138</td><td>20020.74000000004</td><td>6024.77999999999</td></tr><tr><td>2009</td><td>11</td><td>EWR</td><td>Manhattan</td><td>17</td><td>932.0799999999999</td><td>258.37999999999994</td></tr><tr><td>2009</td><td>11</td><td>EWR</td><td>Bronx</td><td>1</td><td>62.0</td><td>24.6</td></tr><tr><td>2009</td><td>11</td><td>nan</td><td>nan</td><td>279574</td><td>3577635.970000062</td><td>708817.9100000118</td></tr><tr><td>2009</td><td>11</td><td>Brooklyn</td><td>nan</td><td>1705</td><td>28052.369999999977</td><td>7346.540000000006</td></tr><tr><td>2009</td><td>11</td><td>Staten Island</td><td>Queens</td><td>13</td><td>548.46</td><td>205.26</td></tr><tr><td>2009</td><td>11</td><td>EWR</td><td>Brooklyn</td><td>2</td><td>101.17999999999999</td><td>26.87</td></tr><tr><td>2009</td><td>11</td><td>Queens</td><td>Manhattan</td><td>363976</td><td>1.2965849490006065E7</td><td>4190840.8099998976</td></tr><tr><td>2009</td><td>11</td><td>Bronx</td><td>Bronx</td><td>11994</td><td>125473.7900000001</td><td>26151.520000000008</td></tr><tr><td>2009</td><td>11</td><td>Queens</td><td>Staten Island</td><td>520</td><td>35430.909999999996</td><td>13500.649999999994</td></tr></tbody></table></div>"
      ]
     },
     "metadata": {
      "application/vnd.databricks.v1+output": {
       "addedWidgets": {},
       "aggData": [],
       "aggError": "",
       "aggOverflow": false,
       "aggSchema": [],
       "aggSeriesLimitReached": false,
       "aggType": "",
       "arguments": {},
       "columnCustomDisplayInfos": {},
       "data": [
        [
         2009,
         10,
         "Manhattan",
         "Bronx",
         47426,
         1253392.169999991,
         461773.04000000004
        ],
        [
         2009,
         10,
         "Bronx",
         "Brooklyn",
         112,
         3684.4599999999987,
         1383.17
        ],
        [
         2009,
         10,
         "Manhattan",
         "Manhattan', 'Manhattan",
         1,
         10.2,
         1.8
        ],
        [
         2009,
         4,
         "Queens",
         "Manhattan",
         318718,
         10633461.370008713,
         3590736.34999996
        ],
        [
         2009,
         4,
         "Queens",
         "EWR",
         341,
         33231.529999999984,
         9886.34
        ],
        [
         2009,
         4,
         "Manhattan",
         "EWR",
         14980,
         1015392.4599999976,
         262787.92999999993
        ],
        [
         2009,
         4,
         "Brooklyn",
         "Queens",
         11829,
         281128.3600000004,
         102700.9599999997
        ],
        [
         2009,
         4,
         "EWR",
         "nan",
         39,
         1345.2399999999998,
         103.96
        ],
        [
         2009,
         4,
         "Bronx",
         "nan",
         400,
         7055.010000000004,
         1818.8999999999996
        ],
        [
         2009,
         4,
         "Staten Island",
         "Bronx",
         1,
         83.2,
         31.25
        ],
        [
         2009,
         4,
         "nan",
         "Staten Island",
         79,
         1401.8100000000002,
         432.83000000000027
        ],
        [
         2009,
         4,
         "nan",
         "EWR",
         258,
         14771.320000000009,
         2879.7999999999997
        ],
        [
         2009,
         4,
         "Staten Island",
         "nan",
         74,
         1282.5799999999997,
         314.25000000000006
        ],
        [
         2009,
         4,
         "Brooklyn",
         "Brooklyn",
         124527,
         1153360.1499999994,
         273764.6100000013
        ],
        [
         2009,
         4,
         "Brooklyn",
         "Staten Island",
         103,
         3526.6100000000015,
         1136.94
        ],
        [
         2009,
         10,
         "Queens",
         "Brooklyn",
         62194,
         2059347.2700000347,
         803737.2400000006
        ],
        [
         2009,
         10,
         "Brooklyn",
         "nan",
         1752,
         27570.699999999953,
         7440.420000000009
        ],
        [
         2009,
         4,
         "Queens",
         "Bronx",
         9784,
         375882.0499999995,
         142748.03999999995
        ],
        [
         2009,
         4,
         "Queens",
         "nan",
         7768,
         343831.9999999995,
         102611.57000000011
        ],
        [
         2009,
         4,
         "Brooklyn",
         "nan",
         1024,
         17078.070000000007,
         4685.550000000002
        ],
        [
         2009,
         10,
         "Bronx",
         "Staten Island",
         1,
         10.7,
         1.26
        ],
        [
         2009,
         4,
         "Brooklyn",
         "Bronx",
         451,
         17528.94,
         7057.600000000004
        ],
        [
         2009,
         4,
         "Staten Island",
         "Staten Island",
         538,
         6970.2599999999975,
         1022.7600000000003
        ],
        [
         2009,
         10,
         "Brooklyn",
         "Bronx",
         404,
         16227.360000000002,
         6362.189999999992
        ],
        [
         2009,
         10,
         "Bronx",
         "nan",
         935,
         15371.300000000003,
         3844.110000000003
        ],
        [
         2009,
         10,
         "EWR",
         "Bronx",
         1,
         88,
         21.3
        ],
        [
         2009,
         4,
         "Manhattan",
         "Queens",
         426183,
         12153634.790006306,
         4103445.2699998207
        ],
        [
         2009,
         4,
         "nan",
         "Queens",
         4435,
         104762.21999999987,
         34294.90999999993
        ],
        [
         2009,
         10,
         "Manhattan",
         "Brooklyn",
         436150,
         8274680.630000631,
         2595536.6699999548
        ],
        [
         2009,
         10,
         "Queens",
         "Queens",
         278182,
         4026037.2999997637,
         1002864.270000007
        ],
        [
         2009,
         4,
         "nan",
         "Manhattan",
         24317,
         308243.6899999998,
         80054.11000000019
        ],
        [
         2009,
         4,
         "Brooklyn",
         "EWR",
         112,
         7690.329999999999,
         2058.1700000000005
        ],
        [
         2009,
         4,
         "Manhattan",
         "nan",
         28193,
         635773.4199999978,
         146724.1900000009
        ],
        [
         2009,
         4,
         "Bronx",
         "Bronx",
         8357,
         82800.14999999989,
         15976.930000000064
        ],
        [
         2009,
         4,
         "Queens",
         "Staten Island",
         588,
         39310.81999999997,
         15478.109999999993
        ],
        [
         2009,
         10,
         "EWR",
         "EWR",
         1924,
         128929.83999999988,
         548.0399999999997
        ],
        [
         2009,
         10,
         "Queens",
         "Bronx",
         8493,
         331732.36,
         122696.04999999989
        ],
        [
         2009,
         10,
         "nan",
         "Bronx",
         1083,
         17837.07000000001,
         5394.49
        ],
        [
         2009,
         10,
         "Staten Island",
         "nan",
         125,
         1783.620000000001,
         496.05000000000007
        ],
        [
         2009,
         10,
         "Manhattan",
         "nan",
         37810,
         823743.9699999854,
         183243.2300000009
        ],
        [
         2009,
         10,
         "Brooklyn",
         "Staten Island",
         136,
         5344.519999999998,
         1671.72
        ],
        [
         2009,
         10,
         "Staten Island",
         "Brooklyn",
         28,
         566.1700000000001,
         182.71
        ],
        [
         2009,
         10,
         "Bronx",
         "Bronx",
         12504,
         125381.49000000028,
         25931.12000000016
        ],
        [
         2009,
         10,
         "nan",
         "Manhattan",
         34736,
         443939.1200000012,
         111733.34000000088
        ],
        [
         2009,
         10,
         "Manhattan",
         "EWR",
         16598,
         1136369.530000004,
         289105.3400000003
        ],
        [
         2009,
         10,
         "nan",
         "EWR",
         387,
         23199.799999999992,
         4120.570000000001
        ],
        [
         2009,
         10,
         "Staten Island",
         "Queens",
         17,
         603.15,
         220.88
        ],
        [
         2009,
         4,
         "Bronx",
         "Queens",
         419,
         11755.209999999983,
         3919.9599999999973
        ],
        [
         2009,
         10,
         "nan",
         "nan",
         250413,
         3208534.580000093,
         620091.0899999979
        ],
        [
         2009,
         10,
         "EWR",
         "Manhattan",
         26,
         1218.08,
         302.58
        ],
        [
         2009,
         4,
         "Queens",
         "Brooklyn",
         57467,
         1925436.2200000251,
         762721.809999996
        ],
        [
         2009,
         4,
         "EWR",
         "EWR",
         1336,
         85541.08000000003,
         224.2899999999999
        ],
        [
         2009,
         4,
         "Manhattan",
         "Staten Island",
         1957,
         110260,
         36772.10999999999
        ],
        [
         2009,
         4,
         "Staten Island",
         "Brooklyn",
         26,
         477.7000000000001,
         162.97000000000003
        ],
        [
         2009,
         4,
         "Staten Island",
         "Queens",
         22,
         795.6200000000001,
         298.87
        ],
        [
         2009,
         4,
         "EWR",
         "Brooklyn",
         1,
         45.7,
         0
        ],
        [
         2009,
         10,
         "Manhattan",
         "Queens",
         482952,
         14252637.220003037,
         4714860.4899998475
        ],
        [
         2009,
         10,
         "Queens",
         "EWR",
         333,
         32260.219999999976,
         9579.78
        ],
        [
         2009,
         10,
         "Staten Island",
         "Manhattan",
         75,
         1417.79,
         466.0299999999998
        ],
        [
         2009,
         10,
         "nan",
         "Staten Island",
         158,
         3247.329999999998,
         978.4199999999998
        ],
        [
         2009,
         10,
         "nan",
         "Queens",
         8004,
         173919.7800000022,
         53208.8399999999
        ],
        [
         2009,
         10,
         "Brooklyn",
         "Queens",
         14454,
         346386.9400000002,
         125423.63999999987
        ],
        [
         2009,
         10,
         "Bronx",
         "Queens",
         469,
         13051.019999999993,
         4244.889999999996
        ],
        [
         2009,
         4,
         "Manhattan",
         "Manhattan",
         12218263,
         106829402.98004165,
         23759478.850004897
        ],
        [
         2009,
         4,
         "Manhattan",
         "Bronx",
         52441,
         1361775.319999998,
         506319.3600000005
        ],
        [
         2009,
         4,
         "nan",
         "Bronx",
         572,
         11739.429999999995,
         3813.530000000002
        ],
        [
         2009,
         4,
         "EWR",
         "Manhattan",
         20,
         821.56,
         244.4
        ],
        [
         2009,
         4,
         "Staten Island",
         "EWR",
         5,
         309,
         56.91000000000001
        ],
        [
         2009,
         10,
         "nan",
         "Brooklyn",
         3399,
         62022.78999999993,
         20158.260000000046
        ],
        [
         2009,
         10,
         "Queens",
         "Staten Island",
         562,
         38123.66000000001,
         14766.059999999989
        ],
        [
         2009,
         4,
         "Manhattan",
         "Brooklyn",
         406169,
         7726416.650000533,
         2446543.46999995
        ],
        [
         2009,
         4,
         "nan",
         "nan",
         256672,
         3084898.090000127,
         637575.8299999994
        ],
        [
         2009,
         4,
         "EWR",
         "Queens",
         7,
         599.87,
         190.48999999999998
        ],
        [
         2009,
         10,
         "Manhattan",
         "Manhattan",
         13237173,
         118135205.62003735,
         25768174.73000342
        ],
        [
         2009,
         10,
         "Queens",
         "Manhattan",
         383166,
         13323192.37000643,
         4358812.1399999065
        ],
        [
         2009,
         10,
         "Staten Island",
         "Staten Island",
         683,
         8919.519999999993,
         1323.5399999999981
        ],
        [
         2009,
         10,
         "EWR",
         "nan",
         58,
         1674.5400000000002,
         217.05999999999995
        ],
        [
         2009,
         4,
         "Queens",
         "Queens",
         213495,
         3172210.099999794,
         841628.0100000168
        ],
        [
         2009,
         4,
         "Brooklyn",
         "Manhattan",
         96849,
         1563662.4800000128,
         480714.24000000436
        ],
        [
         2009,
         4,
         "Bronx",
         "Manhattan",
         3395,
         47282.620000000024,
         14377.040000000005
        ],
        [
         2009,
         10,
         "Brooklyn",
         "Brooklyn",
         154761,
         1455465.87,
         341556.5600000038
        ],
        [
         2009,
         10,
         "Brooklyn",
         "EWR",
         126,
         9327.390000000001,
         2334.0000000000005
        ],
        [
         2009,
         10,
         "Bronx",
         "EWR",
         4,
         278.35,
         74.43
        ],
        [
         2009,
         4,
         "Bronx",
         "EWR",
         3,
         224.32,
         62.47
        ],
        [
         2009,
         10,
         "Brooklyn",
         "Manhattan",
         111538,
         1841560.890000055,
         549423.1700000025
        ],
        [
         2009,
         10,
         "Manhattan",
         "Staten Island",
         1814,
         103275.28999999986,
         33645.88999999997
        ],
        [
         2009,
         10,
         "Bronx",
         "Manhattan",
         3227,
         46796.060000000136,
         13998.720000000023
        ],
        [
         2009,
         10,
         "Queens",
         "nan",
         10143,
         422748.64000000356,
         119491.2500000005
        ],
        [
         2009,
         4,
         "Bronx",
         "Staten Island",
         2,
         80.9,
         30.68
        ],
        [
         2009,
         10,
         "Staten Island",
         "EWR",
         3,
         160.5,
         51.870000000000005
        ],
        [
         2009,
         10,
         "Staten Island",
         "Bronx",
         2,
         46.4,
         17.28
        ],
        [
         2009,
         10,
         "EWR",
         "Queens",
         7,
         488.85999999999996,
         131.04
        ],
        [
         2009,
         10,
         "EWR",
         "Brooklyn",
         2,
         96.5,
         31.6
        ],
        [
         2009,
         4,
         "nan",
         "Brooklyn",
         2379,
         48373.60999999997,
         16507.809999999998
        ],
        [
         2009,
         4,
         "Bronx",
         "Brooklyn",
         91,
         3098.7399999999993,
         1194.9
        ],
        [
         2009,
         4,
         "Staten Island",
         "Manhattan",
         93,
         1386.0599999999995,
         406.65999999999997
        ],
        [
         2009,
         6,
         "Brooklyn",
         "Queens",
         13067,
         308740.56999999913,
         112579.2399999998
        ],
        [
         2009,
         6,
         "Bronx",
         "Manhattan",
         3035,
         42537.14000000001,
         12903.22999999998
        ],
        [
         2009,
         6,
         "EWR",
         "Manhattan",
         19,
         1119.0400000000002,
         294.18999999999994
        ],
        [
         2009,
         6,
         "Manhattan",
         "Manhattan",
         12109909,
         106429520.79006854,
         23636843.3200015
        ],
        [
         2009,
         6,
         "nan",
         "nan",
         188650,
         2471757.189999979,
         474814.17999999295
        ],
        [
         2009,
         6,
         "Manhattan",
         "Staten Island",
         1825,
         100557.7600000001,
         33656.27000000006
        ],
        [
         2009,
         6,
         "Bronx",
         "Queens",
         405,
         10929.949999999986,
         3782.640000000002
        ],
        [
         2009,
         6,
         "Queens",
         "Manhattan",
         340352,
         11509615.030009381,
         3841766.720000008
        ],
        [
         2009,
         6,
         "Brooklyn",
         "Manhattan",
         95473,
         1539049.770000032,
         473812.0100000051
        ],
        [
         2009,
         6,
         "nan",
         "Bronx",
         878,
         16995.82,
         5536.030000000002
        ],
        [
         2009,
         6,
         "Staten Island",
         "Brooklyn",
         30,
         811.48,
         268.45
        ],
        [
         2009,
         6,
         "Bronx",
         "Bronx",
         9568,
         94397.19999999982,
         19304.97999999986
        ],
        [
         2009,
         6,
         "Manhattan",
         "EWR",
         14193,
         970278.5200000007,
         248148.39000000106
        ],
        [
         2009,
         6,
         "nan",
         "EWR",
         272,
         15384.9,
         2824.3300000000013
        ],
        [
         2009,
         6,
         "EWR",
         "Brooklyn",
         2,
         150.22,
         36.510000000000005
        ],
        [
         2009,
         6,
         "Queens",
         "Queens",
         242287,
         3599545.2199997474,
         931575.2100000309
        ],
        [
         2009,
         6,
         "Queens",
         "Brooklyn",
         60459,
         2010834.5300000354,
         790058.3699999932
        ],
        [
         2009,
         6,
         "Queens",
         "nan",
         8459,
         369621.00000000047,
         107077.86000000019
        ],
        [
         2009,
         6,
         "Bronx",
         "Brooklyn",
         85,
         2809.4200000000005,
         1077.36
        ],
        [
         2009,
         6,
         "nan",
         "Staten Island",
         109,
         2350.7500000000005,
         744.2499999999998
        ],
        [
         2009,
         6,
         "Brooklyn",
         "EWR",
         113,
         8459.400000000003,
         2096.8799999999997
        ],
        [
         2009,
         6,
         "Manhattan",
         "Bronx",
         49389,
         1294538.5800000087,
         479656.9100000031
        ],
        [
         2009,
         6,
         "nan",
         "Brooklyn",
         2950,
         55026.81000000009,
         18196.56999999996
        ],
        [
         2009,
         6,
         "Manhattan",
         "Queens",
         439051,
         12848976.12000658,
         4297302.590000022
        ],
        [
         2009,
         6,
         "EWR",
         "Queens",
         8,
         785.35,
         241.61999999999998
        ],
        [
         2009,
         6,
         "Staten Island",
         "EWR",
         4,
         173.89,
         47.17
        ],
        [
         2009,
         6,
         "Staten Island",
         "Bronx",
         2,
         131.3,
         52.33
        ],
        [
         2009,
         6,
         "Manhattan",
         "Brooklyn",
         396904,
         7476551.800000504,
         2387514.600000008
        ],
        [
         2009,
         6,
         "Brooklyn",
         "Bronx",
         421,
         16673.810000000012,
         6614.509999999995
        ],
        [
         2009,
         6,
         "Brooklyn",
         "Staten Island",
         119,
         4324.450000000001,
         1394.71
        ],
        [
         2009,
         6,
         "Staten Island",
         "Manhattan",
         73,
         1390.8,
         413.3400000000001
        ],
        [
         2009,
         6,
         "Bronx",
         "EWR",
         3,
         218.10000000000002,
         59.07
        ],
        [
         2009,
         6,
         "Staten Island",
         "Staten Island",
         408,
         6294.790000000003,
         776.8199999999993
        ],
        [
         2009,
         6,
         "Brooklyn",
         "Brooklyn",
         129204,
         1204458.7199999928,
         291678.2900000033
        ],
        [
         2009,
         6,
         "Manhattan",
         "nan",
         30451,
         683596.900000001,
         157854.64999999985
        ],
        [
         2009,
         6,
         "Queens",
         "Staten Island",
         520,
         34935.40000000002,
         13601.830000000007
        ],
        [
         2009,
         6,
         "EWR",
         "Staten Island",
         1,
         33.75,
         11.03
        ],
        [
         2009,
         6,
         "Queens",
         "Bronx",
         9317,
         364431.82000000053,
         136503.6799999999
        ],
        [
         2009,
         6,
         "Queens",
         "EWR",
         370,
         35942.92999999999,
         10697.440000000002
        ],
        [
         2009,
         6,
         "Bronx",
         "nan",
         715,
         13115.010000000011,
         3311.0200000000027
        ],
        [
         2009,
         6,
         "EWR",
         "EWR",
         1480,
         101506.85999999997,
         504.17000000000024
        ],
        [
         2009,
         6,
         "Brooklyn",
         "nan",
         1411,
         24242.129999999994,
         6702.349999999995
        ],
        [
         2009,
         6,
         "nan",
         "Manhattan",
         25907,
         338798.65000000125,
         87214.08000000045
        ],
        [
         2009,
         6,
         "nan",
         "Queens",
         6191,
         136033.87999999948,
         42889.519999999866
        ],
        [
         2009,
         6,
         "EWR",
         "nan",
         55,
         1970.7,
         137.64999999999998
        ],
        [
         2009,
         6,
         "Staten Island",
         "nan",
         94,
         1383.8600000000004,
         384.0600000000002
        ],
        [
         2009,
         6,
         "Staten Island",
         "Queens",
         11,
         354.97,
         133.10000000000002
        ],
        [
         2009,
         7,
         "Bronx",
         "nan",
         629,
         11127.03000000001,
         2695.8600000000024
        ],
        [
         2009,
         7,
         "EWR",
         "Brooklyn",
         3,
         196.25,
         57.77
        ],
        [
         2009,
         7,
         "Bronx",
         "Staten Island",
         2,
         130.14,
         52.3
        ],
        [
         2009,
         7,
         "Manhattan",
         "Manhattan",
         11587694,
         101571881.67005414,
         22784812.48000156
        ],
        [
         2009,
         7,
         "Queens",
         "nan",
         8921,
         395338.53000000166,
         113601.05999999978
        ],
        [
         2009,
         7,
         "Queens",
         "Manhattan",
         328727,
         11087174.740005791,
         3691218.7300001145
        ],
        [
         2009,
         7,
         "Manhattan",
         "EWR",
         13625,
         932708.339999997,
         237802.82999999952
        ],
        [
         2009,
         7,
         "EWR",
         "EWR",
         1456,
         95495.99000000003,
         266.39
        ],
        [
         2009,
         7,
         "Staten Island",
         "Bronx",
         1,
         55.4,
         15.42
        ],
        [
         2009,
         7,
         "Manhattan",
         "Manhattan', 'Manhattan",
         1,
         7.599999999999999,
         1.4
        ],
        [
         2009,
         7,
         "Queens",
         "Brooklyn",
         63257,
         2069814.100000041,
         818173.0099999956
        ],
        [
         2009,
         7,
         "nan",
         "Manhattan",
         27715,
         357124.260000002,
         92342.38000000003
        ],
        [
         2009,
         7,
         "Manhattan",
         "Queens",
         431182,
         12607787.26000394,
         4199976.880000034
        ],
        [
         2009,
         7,
         "Queens",
         "EWR",
         416,
         41331.62999999998,
         12240.529999999993
        ],
        [
         2009,
         7,
         "Staten Island",
         "Queens",
         23,
         935.7200000000003,
         314.15
        ],
        [
         2009,
         7,
         "Queens",
         "Staten Island",
         623,
         41991.08999999998,
         16540.740000000013
        ],
        [
         2009,
         7,
         "Staten Island",
         "EWR",
         2,
         80.4,
         29.75
        ],
        [
         2009,
         7,
         "Manhattan",
         "Staten Island",
         1836,
         102969.77000000015,
         34119.06
        ],
        [
         2009,
         7,
         "Staten Island",
         "nan",
         84,
         1233.2300000000002,
         361.55
        ],
        [
         2009,
         7,
         "Brooklyn",
         "Staten Island",
         131,
         5234.100000000002,
         1682.6200000000006
        ],
        [
         2009,
         7,
         "EWR",
         "nan",
         59,
         1325.9799999999998,
         224.30999999999992
        ],
        [
         2009,
         7,
         "Bronx",
         "EWR",
         4,
         295.3,
         90.39999999999999
        ],
        [
         2009,
         12,
         "Queens",
         "Bronx",
         8760,
         347320.93999999756,
         126986.43000000012
        ],
        [
         2009,
         12,
         "EWR",
         "EWR",
         1802,
         125682.52000000008,
         447.6899999999998
        ],
        [
         2009,
         12,
         "Staten Island",
         "Manhattan",
         73,
         1284.86,
         349.99999999999994
        ],
        [
         2009,
         7,
         "Manhattan",
         "Bronx",
         48545,
         1258416.730000018,
         468183.9400000036
        ],
        [
         2009,
         7,
         "Brooklyn",
         "Manhattan",
         93310,
         1502862.4800000463,
         464395.6799999968
        ],
        [
         2009,
         7,
         "nan",
         "Queens",
         6291,
         137154.0500000006,
         43146.510000000286
        ],
        [
         2009,
         7,
         "Bronx",
         "Queens",
         476,
         12767.55,
         4240.0199999999995
        ],
        [
         2009,
         7,
         "Staten Island",
         "Brooklyn",
         36,
         914.0499999999998,
         319.13
        ],
        [
         2009,
         7,
         "Brooklyn",
         "Queens",
         13338,
         318955.37999999867,
         116620.95999999956
        ],
        [
         2009,
         7,
         "Bronx",
         "Manhattan",
         3021,
         43157.90999999984,
         13315.379999999986
        ],
        [
         2009,
         7,
         "Staten Island",
         "Staten Island",
         604,
         7721.759999999994,
         1292.2900000000004
        ],
        [
         2009,
         7,
         "EWR",
         "Manhattan",
         20,
         1049.19,
         226.81000000000003
        ],
        [
         2009,
         7,
         "EWR",
         "Staten Island",
         1,
         37.3,
         16
        ],
        [
         2009,
         7,
         "Manhattan', 'Manhattan",
         "Manhattan",
         1,
         6.1,
         1.52
        ],
        [
         2009,
         7,
         "Staten Island",
         "Manhattan",
         66,
         1181.0100000000004,
         354.65000000000003
        ],
        [
         2009,
         7,
         "Brooklyn",
         "Brooklyn",
         121894,
         1137375.9799999997,
         276530.81000000634
        ],
        [
         2009,
         7,
         "Queens",
         "Bronx",
         10475,
         412685.3099999966,
         153455.53000000055
        ],
        [
         2009,
         7,
         "Brooklyn",
         "EWR",
         105,
         7558.329999999996,
         1898.48
        ],
        [
         2009,
         7,
         "EWR",
         "Queens",
         8,
         535.99,
         205.52
        ],
        [
         2009,
         7,
         "Brooklyn",
         "nan",
         1506,
         25740.439999999977,
         7171.080000000009
        ],
        [
         2009,
         7,
         "nan",
         "nan",
         176489,
         2323451.3500000527,
         446762.08999999356
        ],
        [
         2009,
         7,
         "Manhattan",
         "nan",
         31872,
         689310.9100000013,
         160258.89999999915
        ],
        [
         2009,
         7,
         "Bronx",
         "Bronx",
         10369,
         100805.60999999978,
         20831.62999999997
        ],
        [
         2009,
         7,
         "nan",
         "Staten Island",
         136,
         3028.22,
         952.5400000000003
        ],
        [
         2009,
         7,
         "Manhattan",
         "Brooklyn",
         381556,
         7180874.050000389,
         2294272.830000051
        ],
        [
         2009,
         7,
         "nan",
         "Bronx",
         818,
         14937.339999999973,
         4876.02
        ],
        [
         2009,
         7,
         "Bronx",
         "Brooklyn",
         105,
         3393.0700000000015,
         1259.9700000000003
        ],
        [
         2009,
         7,
         "nan",
         "EWR",
         244,
         12999.369999999999,
         2621.5100000000007
        ],
        [
         2009,
         7,
         "Brooklyn",
         "Bronx",
         388,
         15422.559999999996,
         6154.7400000000025
        ],
        [
         2009,
         7,
         "Queens",
         "Queens",
         254891,
         3757600.3299997374,
         1001730.340000014
        ],
        [
         2009,
         7,
         "nan",
         "Brooklyn",
         3147,
         60237.26000000001,
         19938.88000000003
        ],
        [
         2009,
         8,
         "Brooklyn",
         "Queens",
         13828,
         325388.12999999995,
         119203.12000000024
        ],
        [
         2009,
         8,
         "Bronx",
         "Manhattan",
         3254,
         45980.93999999997,
         14146.469999999968
        ],
        [
         2009,
         8,
         "EWR",
         "Brooklyn",
         4,
         296.52,
         84.13
        ],
        [
         2009,
         9,
         "nan",
         "Manhattan",
         31211,
         405014.60000000417,
         102245.51999999993
        ],
        [
         2009,
         9,
         "Staten Island",
         "Staten Island",
         1084,
         12537.310000000014,
         2603.5300000000007
        ],
        [
         2009,
         8,
         "Manhattan",
         "nan",
         33629,
         726050.8999999944,
         168602.48000000019
        ],
        [
         2009,
         8,
         "nan",
         "EWR",
         313,
         17639.180000000015,
         3349.039999999998
        ],
        [
         2009,
         8,
         "Staten Island",
         "EWR",
         1,
         126,
         1.4
        ],
        [
         2009,
         8,
         "EWR",
         "Manhattan",
         32,
         1738.2099999999998,
         494.54999999999984
        ],
        [
         2009,
         8,
         "Queens",
         "Brooklyn",
         69656,
         2277096.890000042,
         901430.0699999916
        ],
        [
         2009,
         8,
         "nan",
         "Manhattan",
         29588,
         381054.42000000307,
         99506.29999999987
        ],
        [
         2009,
         8,
         "Bronx",
         "nan",
         764,
         14131.400000000012,
         3803.650000000001
        ],
        [
         2009,
         8,
         "Staten Island",
         "nan",
         101,
         1554.3199999999993,
         402.63
        ],
        [
         2009,
         8,
         "Staten Island",
         "Queens",
         11,
         405.75,
         126.46
        ],
        [
         2009,
         8,
         "Queens",
         "nan",
         10103,
         436164.74000000063,
         126254.95000000027
        ],
        [
         2009,
         8,
         "Queens",
         "Staten Island",
         741,
         49815.13999999999,
         19629.120000000014
        ],
        [
         2009,
         8,
         "EWR",
         "Queens",
         5,
         381.30999999999995,
         119.03
        ],
        [
         2009,
         8,
         "Bronx",
         "Staten Island",
         1,
         54.5,
         23.63
        ],
        [
         2009,
         8,
         "Manhattan",
         "Manhattan",
         11561660,
         100599743.26005374,
         22796959.710003123
        ],
        [
         2009,
         8,
         "Brooklyn",
         "Manhattan",
         95396,
         1535792.6300000488,
         471108.5499999996
        ],
        [
         2009,
         8,
         "Staten Island",
         "Staten Island",
         869,
         10769.189999999984,
         1702.1499999999992
        ],
        [
         2009,
         8,
         "Manhattan",
         "Bronx",
         50595,
         1304633.0600000012,
         488691.55000000057
        ],
        [
         2009,
         8,
         "nan",
         "Bronx",
         1028,
         18378.82000000001,
         5859.360000000002
        ],
        [
         2009,
         8,
         "Bronx",
         "EWR",
         6,
         461.87,
         134.76999999999998
        ],
        [
         2009,
         8,
         "Staten Island",
         "Brooklyn",
         37,
         736.91,
         256.28999999999996
        ],
        [
         2009,
         8,
         "Queens",
         "Queens",
         278497,
         4122045.1999997525,
         1107152.5500000229
        ],
        [
         2009,
         8,
         "Queens",
         "EWR",
         470,
         47550.799999999945,
         14304.949999999992
        ],
        [
         2009,
         8,
         "Bronx",
         "Queens",
         501,
         13500.800000000016,
         4626.580000000001
        ],
        [
         2009,
         12,
         "Bronx",
         "Bronx",
         10584,
         115535.74000000012,
         23237.470000000063
        ],
        [
         2009,
         12,
         "Manhattan",
         "nan",
         28545,
         750098.2899999967,
         157296.22000000082
        ],
        [
         2009,
         12,
         "nan",
         "Manhattan",
         28410,
         368568.1900000049,
         87907.75000000055
        ],
        [
         2009,
         12,
         "Staten Island",
         "EWR",
         4,
         157.12,
         35.64999999999999
        ],
        [
         2009,
         8,
         "nan",
         "Queens",
         7066,
         151050.8400000011,
         47684.50000000002
        ],
        [
         2009,
         12,
         "Queens",
         "Queens",
         235889,
         3680779.939999805,
         923993.1199999973
        ],
        [
         2009,
         12,
         "Bronx",
         "Brooklyn",
         88,
         2812.490000000001,
         1089.1299999999994
        ],
        [
         2009,
         12,
         "Bronx",
         "EWR",
         3,
         264.5,
         89.69
        ],
        [
         2009,
         8,
         "Queens",
         "Manhattan",
         337334,
         11497174.980004946,
         3825395.820000043
        ],
        [
         2009,
         8,
         "Brooklyn",
         "nan",
         1498,
         25081.710000000003,
         6826.470000000006
        ],
        [
         2009,
         8,
         "EWR",
         "EWR",
         1713,
         115815.85999999996,
         341.76999999999975
        ],
        [
         2009,
         8,
         "Brooklyn",
         "Staten Island",
         126,
         4685.010000000001,
         1504.6099999999997
        ],
        [
         2009,
         12,
         "Bronx",
         "Manhattan",
         2825,
         40501.31000000009,
         11664.66999999997
        ],
        [
         2009,
         9,
         "Queens",
         "Manhattan",
         355541,
         12401088.470005656,
         4069167.260000063
        ],
        [
         2009,
         9,
         "nan",
         "Queens",
         7399,
         160005.9900000012,
         49043.56999999991
        ],
        [
         2009,
         9,
         "Manhattan",
         "Staten Island",
         1906,
         107478.83000000006,
         35070.680000000044
        ],
        [
         2009,
         9,
         "EWR",
         "Staten Island",
         2,
         138.1,
         12.71
        ],
        [
         2009,
         12,
         "nan",
         "nan",
         283155,
         3721544.3200000464,
         711828.0399999932
        ],
        [
         2009,
         12,
         "Queens",
         "Staten Island",
         570,
         38686.61999999996,
         14738.999999999998
        ],
        [
         2009,
         12,
         "Bronx",
         "Queens",
         351,
         9913.95,
         3215.400000000001
        ],
        [
         2009,
         12,
         "EWR",
         "Brooklyn",
         3,
         182.33999999999997,
         54.78
        ],
        [
         2009,
         9,
         "Brooklyn",
         "Manhattan",
         97662,
         1585785.740000073,
         481183.9999999954
        ],
        [
         2009,
         9,
         "Queens",
         "Bronx",
         9222,
         359497.4199999973,
         134731.25000000015
        ],
        [
         2009,
         9,
         "Brooklyn",
         "nan",
         1608,
         26376.149999999958,
         7268.50999999999
        ],
        [
         2009,
         9,
         "nan",
         "Brooklyn",
         3221,
         61378.74000000006,
         19991.629999999986
        ],
        [
         2009,
         9,
         "Brooklyn",
         "Staten Island",
         123,
         4805.360000000001,
         1555.2
        ],
        [
         2009,
         9,
         "Bronx",
         "EWR",
         4,
         213.14000000000001,
         86.60000000000001
        ],
        [
         2009,
         12,
         "Manhattan",
         "Staten Island",
         2122,
         123265.40000000013,
         39630.020000000004
        ],
        [
         2009,
         12,
         "Brooklyn",
         "EWR",
         148,
         10732.439999999993,
         2581.85
        ],
        [
         2009,
         9,
         "Manhattan",
         "Manhattan",
         11822601,
         105173579.48003824,
         23140454.28000268
        ],
        [
         2009,
         9,
         "Queens",
         "Queens",
         269545,
         3987351.3299996746,
         1022429.6299999956
        ],
        [
         2009,
         9,
         "Queens",
         "nan",
         9487,
         405719.9200000033,
         114742.45000000019
        ],
        [
         2009,
         9,
         "EWR",
         "Manhattan",
         22,
         1181.92,
         264.56000000000006
        ],
        [
         2009,
         9,
         "Bronx",
         "Brooklyn",
         105,
         3558.459999999999,
         1338.3500000000001
        ],
        [
         2009,
         9,
         "nan",
         "nan",
         202398,
         2686601.9300000533,
         507826.9299999938
        ],
        [
         2009,
         9,
         "Manhattan",
         "EWR",
         15617,
         1057563.1800000048,
         270141.5200000013
        ],
        [
         2009,
         9,
         "Bronx",
         "Manhattan",
         3319,
         48294.20999999994,
         14521.760000000044
        ],
        [
         2009,
         9,
         "Manhattan",
         "Brooklyn",
         391184,
         7473607.800000547,
         2346896.8000000175
        ],
        [
         2009,
         9,
         "Bronx",
         "Queens",
         498,
         12551.870000000015,
         4097.769999999999
        ],
        [
         2009,
         9,
         "EWR",
         "nan",
         91,
         2097.080000000001,
         348.33999999999986
        ],
        [
         2009,
         9,
         "Bronx",
         "Bronx",
         12421,
         125078.98000000027,
         26297.50999999999
        ],
        [
         2009,
         9,
         "Queens",
         "EWR",
         301,
         29313.639999999992,
         8739.749999999998
        ],
        [
         2009,
         9,
         "Staten Island",
         "Queens",
         9,
         468.46,
         130.97
        ],
        [
         2009,
         9,
         "Manhattan",
         "nan",
         35210,
         787238.1099999932,
         176690.80000000034
        ],
        [
         2009,
         9,
         "Staten Island",
         "Manhattan",
         62,
         1114.74,
         331.63
        ],
        [
         2009,
         9,
         "EWR",
         "EWR",
         1730,
         120628.99999999999,
         333.11
        ],
        [
         2009,
         9,
         "Brooklyn",
         "EWR",
         118,
         8439.02,
         2154.29
        ],
        [
         2009,
         9,
         "Staten Island",
         "Brooklyn",
         28,
         670.34,
         228.60000000000002
        ],
        [
         2009,
         9,
         "Brooklyn",
         "Brooklyn",
         130792,
         1228908.0599999803,
         293489.7399999985
        ],
        [
         2009,
         9,
         "Brooklyn",
         "Queens",
         13479,
         330793.1800000009,
         120947.61000000009
        ],
        [
         2009,
         9,
         "nan",
         "EWR",
         307,
         17589.96999999999,
         3376.2599999999998
        ],
        [
         2009,
         9,
         "EWR",
         "Queens",
         1,
         77.29999999999998,
         23.22
        ],
        [
         2009,
         9,
         "Manhattan",
         "Queens",
         454443,
         13555548.290002832,
         4503203.220000048
        ],
        [
         2009,
         9,
         "Staten Island",
         "nan",
         116,
         1756.4100000000003,
         521.1399999999999
        ],
        [
         2009,
         9,
         "Staten Island",
         "EWR",
         1,
         7.5,
         1.69
        ],
        [
         2009,
         9,
         "Manhattan",
         "Bronx",
         46484,
         1209485.2099999832,
         447486.6099999999
        ],
        [
         2009,
         9,
         "Queens",
         "Staten Island",
         576,
         38915.490000000034,
         15135.69
        ],
        [
         2009,
         9,
         "nan",
         "Bronx",
         1051,
         17931.21999999999,
         5506.589999999995
        ],
        [
         2009,
         9,
         "Staten Island",
         "Bronx",
         1,
         44.27,
         18.49
        ],
        [
         2009,
         8,
         "nan",
         "nan",
         186341,
         2411677.080000079,
         469023.4900000033
        ],
        [
         2009,
         8,
         "Queens",
         "Bronx",
         11904,
         469076.5699999899,
         176169.6699999999
        ],
        [
         2009,
         8,
         "nan",
         "Staten Island",
         140,
         2811.4000000000015,
         914.8200000000002
        ],
        [
         2009,
         8,
         "Brooklyn",
         "Bronx",
         437,
         17215.73,
         6912.039999999997
        ],
        [
         2009,
         9,
         "Queens",
         "Brooklyn",
         62505,
         2065197.1800000465,
         811017.3199999997
        ],
        [
         2009,
         9,
         "Bronx",
         "nan",
         827,
         14973.799999999983,
         3772.7500000000005
        ],
        [
         2009,
         9,
         "Brooklyn",
         "Bronx",
         431,
         16761.129999999994,
         6632.419999999996
        ],
        [
         2009,
         9,
         "nan",
         "Staten Island",
         141,
         2872.5000000000005,
         883.4799999999996
        ],
        [
         2009,
         9,
         "EWR",
         "Brooklyn",
         3,
         215.39999999999998,
         40.900000000000006
        ],
        [
         2009,
         1,
         "Bronx",
         "nan",
         483,
         7733.599999999989,
         2057.071000000001
        ],
        [
         2009,
         1,
         "Brooklyn",
         "EWR",
         78,
         5064.360000000002,
         1386.9499999999996
        ],
        [
         2009,
         1,
         "EWR",
         "Queens",
         6,
         492.3,
         163.6
        ],
        [
         2009,
         1,
         "Staten Island",
         "Bronx",
         1,
         49.3,
         18.81
        ],
        [
         2009,
         12,
         "Manhattan",
         "Manhattan",
         12402508,
         117767180.89997989,
         23669965.119999472
        ],
        [
         2009,
         12,
         "nan",
         "Bronx",
         890,
         16577.229999999992,
         5043.619999999996
        ],
        [
         2009,
         1,
         "nan",
         "Queens",
         4131,
         86652.32999999981,
         27815.973000000075
        ],
        [
         2009,
         1,
         "nan",
         "Brooklyn",
         2158,
         41800.749999999935,
         14158.853999999996
        ],
        [
         2009,
         1,
         "Bronx",
         "Queens",
         350,
         9751.009999999995,
         3288.956
        ],
        [
         2009,
         1,
         "Staten Island",
         "nan",
         44,
         529.1699999999998,
         146.54000000000002
        ],
        [
         2009,
         1,
         "Staten Island",
         "Queens",
         11,
         333.39000000000004,
         108.11
        ],
        [
         2009,
         1,
         "Manhattan",
         "nan",
         24662,
         556024.9099999993,
         127066.65199999997
        ],
        [
         2009,
         1,
         "Manhattan",
         "Staten Island",
         1822,
         99555.93999999997,
         33426.413
        ],
        [
         2009,
         1,
         "Queens",
         "Staten Island",
         513,
         33177.620000000024,
         13069.971
        ],
        [
         2009,
         1,
         "Bronx",
         "Brooklyn",
         77,
         2684.9100000000008,
         1029.4099999999999
        ],
        [
         2009,
         1,
         "Manhattan",
         "EWR",
         11767,
         781675.790000003,
         206192.63499999983
        ],
        [
         2009,
         1,
         "EWR",
         "EWR",
         1135,
         77467.06000000001,
         142.46399999999994
        ],
        [
         2009,
         1,
         "Manhattan",
         "Queens",
         384141,
         10529444.590004716,
         3574922.999999949
        ],
        [
         2009,
         1,
         "nan",
         "Bronx",
         614,
         10817.399999999987,
         3480.674000000003
        ],
        [
         2009,
         1,
         "Staten Island",
         "Staten Island",
         727,
         10262.299999999992,
         1703.1539999999995
        ],
        [
         2009,
         1,
         "Manhattan",
         "Bronx",
         46608,
         1202715.8100000045,
         451404.1710000023
        ],
        [
         2009,
         1,
         "nan",
         "EWR",
         180,
         10302.61,
         2078.3930000000005
        ],
        [
         2009,
         1,
         "Queens",
         "nan",
         6636,
         289231.9399999998,
         85064.55000000003
        ],
        [
         2009,
         1,
         "nan",
         "Staten Island",
         75,
         1951.6699999999998,
         643.69
        ],
        [
         2009,
         1,
         "Brooklyn",
         "Brooklyn",
         124078,
         1122412.5499999938,
         257380.405
        ],
        [
         2009,
         1,
         "EWR",
         "nan",
         22,
         709.4,
         95.47
        ],
        [
         2009,
         1,
         "Staten Island",
         "Manhattan",
         91,
         1432.93,
         451.54499999999996
        ],
        [
         2009,
         1,
         "Bronx",
         "Staten Island",
         1,
         45,
         20.9
        ],
        [
         2009,
         1,
         "EWR",
         "Staten Island",
         1,
         11.8,
         3.35
        ],
        [
         2009,
         1,
         "Queens",
         "Bronx",
         8464,
         328520.17999999877,
         126400.231
        ],
        [
         2009,
         1,
         "Queens",
         "EWR",
         247,
         23984.050000000007,
         6756.936999999996
        ],
        [
         2009,
         1,
         "Staten Island",
         "EWR",
         2,
         184.85,
         24.6
        ],
        [
         2009,
         1,
         "nan",
         "Manhattan",
         20961,
         255568.96999999805,
         66764.75099999984
        ],
        [
         2009,
         1,
         "Queens",
         "Brooklyn",
         53639,
         1798226.600000038,
         717544.5399999991
        ],
        [
         2009,
         1,
         "EWR",
         "Brooklyn",
         2,
         78.51,
         20.58
        ],
        [
         2009,
         1,
         "EWR",
         "Manhattan",
         15,
         598.6500000000001,
         139.50699999999998
        ],
        [
         2009,
         8,
         "Manhattan",
         "EWR",
         15598,
         1068210.519999994,
         272870.4899999998
        ],
        [
         2009,
         8,
         "Manhattan",
         "Staten Island",
         1887,
         106318.81000000017,
         35082.72999999995
        ],
        [
         2009,
         8,
         "Bronx",
         "Brooklyn",
         114,
         3761.120000000001,
         1473.0800000000008
        ],
        [
         2009,
         12,
         "Brooklyn",
         "Brooklyn",
         127444,
         1242999.0000000037,
         271711.29999999894
        ],
        [
         2009,
         1,
         "Manhattan",
         "Brooklyn",
         394187,
         7345992.940000329,
         2334610.115999961
        ],
        [
         2009,
         1,
         "Queens",
         "Queens",
         216847,
         3079551.1499997946,
         801847.1980000017
        ],
        [
         2009,
         1,
         "Bronx",
         "EWR",
         4,
         317.37,
         78.64
        ],
        [
         2009,
         8,
         "Manhattan",
         "Queens",
         444215,
         12941125.150002966,
         4346387.929999951
        ],
        [
         2009,
         8,
         "Brooklyn",
         "Brooklyn",
         129026,
         1218671.1899999995,
         296034.96999999945
        ],
        [
         2009,
         8,
         "nan",
         "Brooklyn",
         3289,
         62683.47999999996,
         20909.559999999998
        ],
        [
         2009,
         8,
         "Brooklyn",
         "EWR",
         126,
         8988.800000000001,
         2246.51
        ],
        [
         2009,
         8,
         "EWR",
         "nan",
         63,
         2026.7499999999998,
         209.0300000000001
        ],
        [
         2009,
         8,
         "Staten Island",
         "Manhattan",
         83,
         1628.399999999999,
         475.7300000000001
        ],
        [
         2009,
         1,
         "Manhattan",
         "Manhattan",
         12127350,
         103017105.69003008,
         22922105.4789977
        ],
        [
         2009,
         1,
         "Bronx",
         "Manhattan",
         2984,
         39214.160000000105,
         11779.239000000009
        ],
        [
         2009,
         1,
         "Brooklyn",
         "Bronx",
         313,
         11868.99000000002,
         4837.576000000001
        ],
        [
         2009,
         1,
         "Staten Island",
         "Brooklyn",
         19,
         493.6000000000001,
         167.952
        ],
        [
         2009,
         12,
         "Staten Island",
         "Brooklyn",
         27,
         635.4899999999999,
         222.31
        ],
        [
         2009,
         1,
         "nan",
         "nan",
         271602,
         3103599.5200000564,
         659181.665999994
        ],
        [
         2009,
         1,
         "Brooklyn",
         "Queens",
         9267,
         213267.61000000025,
         77714.66000000016
        ],
        [
         2009,
         1,
         "Bronx",
         "Bronx",
         10173,
         99284.45000000014,
         19366.388000000003
        ],
        [
         2009,
         8,
         "Manhattan",
         "Brooklyn",
         383501,
         7214444.290000354,
         2305155.6900000493
        ],
        [
         2009,
         8,
         "Bronx",
         "Bronx",
         10967,
         107458.72999999992,
         22344.889999999992
        ],
        [
         2009,
         8,
         "EWR",
         "Staten Island",
         2,
         36.5,
         14.79
        ],
        [
         2009,
         1,
         "Brooklyn",
         "Manhattan",
         85853,
         1369195.5400000094,
         423376.66099999915
        ],
        [
         2009,
         1,
         "Brooklyn",
         "nan",
         796,
         12648.600000000008,
         3293.124999999999
        ],
        [
         2009,
         12,
         "EWR",
         "nan",
         57,
         2495.5199999999995,
         333.22
        ],
        [
         2009,
         12,
         "EWR",
         "Staten Island",
         3,
         167.88,
         18.73
        ],
        [
         2009,
         12,
         "Staten Island",
         "Bronx",
         1,
         57.27,
         24.4
        ],
        [
         2009,
         1,
         "Queens",
         "Manhattan",
         279197,
         9050437.340005819,
         3060920.4559999728
        ],
        [
         2009,
         1,
         "Brooklyn",
         "Staten Island",
         78,
         2943.8799999999997,
         957.1600000000002
        ],
        [
         2009,
         12,
         "nan",
         "Staten Island",
         213,
         4082.939999999997,
         1165.0700000000002
        ],
        [
         2009,
         12,
         "EWR",
         "Manhattan",
         18,
         844.01,
         217.18
        ],
        [
         2009,
         1,
         "EWR",
         "Bronx",
         1,
         86.01999999999998,
         26.7
        ],
        [
         2009,
         12,
         "nan",
         "Queens",
         5629,
         122867.87000000082,
         37192.39999999998
        ],
        [
         2009,
         12,
         "nan",
         "Brooklyn",
         2902,
         60002.899999999965,
         19610.699999999975
        ],
        [
         2009,
         12,
         "EWR",
         "Queens",
         9,
         692.4699999999999,
         233.86
        ],
        [
         2009,
         12,
         "Brooklyn",
         "Bronx",
         375,
         15395.690000000004,
         5991.799999999999
        ],
        [
         2009,
         12,
         "EWR",
         "Bronx",
         2,
         147,
         49.5
        ],
        [
         2009,
         2,
         "Manhattan",
         "EWR",
         11243,
         754656.0999999932,
         195867.4699999997
        ],
        [
         2009,
         2,
         "Manhattan",
         "nan",
         24626,
         561236.7799999984,
         127870.02000000002
        ],
        [
         2009,
         2,
         "Bronx",
         "Brooklyn",
         87,
         2989.1,
         1162.6200000000001
        ],
        [
         2009,
         12,
         "Brooklyn",
         "Manhattan",
         88688,
         1500228.3300000406,
         440958.3900000068
        ],
        [
         2009,
         12,
         "Queens",
         "nan",
         7819,
         356855.8800000007,
         99487.94999999984
        ],
        [
         2009,
         12,
         "Brooklyn",
         "nan",
         1331,
         23834.140000000007,
         6415.5699999999915
        ],
        [
         2009,
         12,
         "Staten Island",
         "Staten Island",
         1210,
         14973.110000000019,
         2550.2799999999997
        ],
        [
         2009,
         12,
         "Staten Island",
         "nan",
         174,
         2783.3699999999994,
         628.8200000000003
        ],
        [
         2009,
         2,
         "Brooklyn",
         "Queens",
         9692,
         226487.14000000007,
         82524.89999999972
        ],
        [
         2009,
         2,
         "nan",
         "Brooklyn",
         2231,
         42783.579999999936,
         14401.839999999978
        ],
        [
         2009,
         2,
         "Manhattan",
         "Staten Island",
         1800,
         99729.68,
         33691.510000000024
        ],
        [
         2009,
         2,
         "EWR",
         "Queens",
         3,
         205.1,
         68.62
        ],
        [
         2009,
         2,
         "Staten Island",
         "Brooklyn",
         17,
         399.55,
         133.14
        ],
        [
         2009,
         2,
         "EWR",
         "Brooklyn",
         2,
         61.2,
         15.809999999999999
        ],
        [
         2009,
         12,
         "Brooklyn",
         "Queens",
         11624,
         294438.77999999933,
         104320.11000000013
        ],
        [
         2009,
         12,
         "Queens",
         "Manhattan",
         353619,
         12561241.080005448,
         4050144.8000000534
        ],
        [
         2009,
         12,
         "Manhattan",
         "Queens",
         455698,
         13749821.940002482,
         4450540.420000051
        ],
        [
         2009,
         12,
         "Manhattan",
         "Bronx",
         46440,
         1244258.4599999904,
         448660.14000000525
        ],
        [
         2009,
         12,
         "Brooklyn",
         "Staten Island",
         129,
         5183.679999999998,
         1644.7
        ],
        [
         2009,
         12,
         "Queens",
         "EWR",
         439,
         43749.04999999997,
         13093.169999999987
        ],
        [
         2009,
         12,
         "Manhattan",
         "Brooklyn",
         388829,
         7722261.2600004915,
         2355993.560000005
        ],
        [
         2009,
         12,
         "Manhattan",
         "EWR",
         17953,
         1245680.890000016,
         313241.3299999992
        ],
        [
         2009,
         12,
         "Queens",
         "Brooklyn",
         65057,
         2195740.240000052,
         842870.5899999944
        ],
        [
         2009,
         12,
         "Bronx",
         "nan",
         671,
         12288.15,
         3041.5999999999963
        ],
        [
         2009,
         12,
         "Staten Island",
         "Queens",
         13,
         380.13,
         133.7
        ],
        [
         2009,
         12,
         "nan",
         "EWR",
         300,
         18238.880000000005,
         2985.830000000001
        ],
        [
         2009,
         2,
         "Queens",
         "Queens",
         194850,
         2782878.5199998864,
         703351.6450000235
        ],
        [
         2009,
         2,
         "Brooklyn",
         "Brooklyn",
         117307,
         1081053.5900000022,
         250844.606000006
        ],
        [
         2009,
         2,
         "nan",
         "Manhattan",
         21502,
         265667.9399999979,
         69996.00999999966
        ],
        [
         2009,
         2,
         "Queens",
         "Bronx",
         7149,
         273653.36999999953,
         105029.20999999983
        ],
        [
         2009,
         2,
         "Brooklyn",
         "Manhattan",
         84654,
         1355419.2600000054,
         417543.04800000536
        ],
        [
         2009,
         2,
         "Brooklyn",
         "nan",
         975,
         15510.359999999999,
         4083.690000000001
        ],
        [
         2009,
         2,
         "Brooklyn",
         "EWR",
         84,
         5639.590000000001,
         1498.01
        ],
        [
         2009,
         2,
         "Staten Island",
         "nan",
         54,
         846.9899999999999,
         250.51
        ],
        [
         2009,
         2,
         "Queens",
         "Brooklyn",
         45773,
         1521865.7400000019,
         606573.9999999999
        ],
        [
         2009,
         2,
         "nan",
         "Queens",
         4252,
         90055.9199999998,
         28738.869999999948
        ],
        [
         2009,
         2,
         "Brooklyn",
         "Bronx",
         378,
         14544.189999999993,
         5818.009999999999
        ],
        [
         2009,
         2,
         "Brooklyn",
         "Staten Island",
         102,
         3909.04,
         1271.3700000000003
        ],
        [
         2009,
         2,
         "Queens",
         "Manhattan",
         269359,
         8777416.81000532,
         2969206.8609999917
        ],
        [
         2009,
         2,
         "Manhattan",
         "Brooklyn",
         386352,
         7329643.430000515,
         2330439.1419999856
        ],
        [
         2009,
         2,
         "Queens",
         "Staten Island",
         399,
         26416.100000000006,
         10604.870000000004
        ],
        [
         2009,
         2,
         "EWR",
         "nan",
         34,
         925.55,
         133.86
        ],
        [
         2009,
         2,
         "Staten Island",
         "Bronx",
         1,
         32.28,
         7.54
        ],
        [
         2009,
         2,
         "nan",
         "EWR",
         182,
         10129.35,
         2013.7000000000003
        ],
        [
         2009,
         2,
         "Queens",
         "nan",
         6180,
         263721.36999999825,
         79300.30000000015
        ],
        [
         2009,
         2,
         "Queens",
         "EWR",
         245,
         23611.280000000013,
         7194.07
        ],
        [
         2009,
         2,
         "Staten Island",
         "Manhattan",
         88,
         1446.3300000000002,
         445.1199999999999
        ],
        [
         2009,
         2,
         "EWR",
         "Manhattan",
         15,
         763.8,
         190.34000000000003
        ],
        [
         2009,
         2,
         "Manhattan",
         "Manhattan",
         11500363,
         99331951.23004201,
         22137588.124997303
        ],
        [
         2009,
         2,
         "nan",
         "Staten Island",
         99,
         2008.1999999999996,
         616.1800000000003
        ],
        [
         2009,
         2,
         "Manhattan",
         "Queens",
         383057,
         10632561.850004667,
         3606438.207999988
        ],
        [
         2009,
         2,
         "EWR",
         "EWR",
         1077,
         71621.68000000002,
         119.32000000000002
        ],
        [
         2009,
         2,
         "Bronx",
         "Manhattan",
         3020,
         39983.119999999995,
         12098.599999999997
        ],
        [
         2009,
         2,
         "Staten Island",
         "Staten Island",
         645,
         9222.829999999982,
         1606.279999999999
        ],
        [
         2009,
         2,
         "Bronx",
         "EWR",
         7,
         519.95,
         161.62
        ],
        [
         2009,
         2,
         "Bronx",
         "Bronx",
         7912,
         75326.34999999982,
         14617.900000000074
        ],
        [
         2009,
         2,
         "Staten Island",
         "Queens",
         10,
         313.4,
         114.26
        ],
        [
         2009,
         2,
         "nan",
         "nan",
         244088,
         2902613.440000093,
         609818.1339999946
        ],
        [
         2009,
         2,
         "Manhattan",
         "Bronx",
         48938,
         1272715.6400000115,
         477844.4699999939
        ],
        [
         2009,
         2,
         "nan",
         "Bronx",
         533,
         10237.55,
         3426.309999999996
        ],
        [
         2009,
         2,
         "Bronx",
         "nan",
         431,
         8171.2699999999995,
         1984.1499999999987
        ],
        [
         2009,
         2,
         "Bronx",
         "Queens",
         305,
         8392.869999999994,
         2891.0499999999965
        ],
        [
         2009,
         2,
         "Staten Island",
         "EWR",
         1,
         60.1,
         12.3
        ],
        [
         2009,
         3,
         "Manhattan",
         "Brooklyn",
         415856,
         7969034.730000828,
         2532558.0000000065
        ],
        [
         2009,
         3,
         "nan",
         "EWR",
         196,
         11564.739999999996,
         2360.1700000000005
        ],
        [
         2009,
         3,
         "Bronx",
         "Brooklyn",
         132,
         4547.370000000001,
         1768.1100000000006
        ],
        [
         2009,
         3,
         "Brooklyn",
         "Bronx",
         464,
         17334.02,
         7038.400000000003
        ],
        [
         2009,
         3,
         "EWR",
         "nan",
         37,
         1352.01,
         157.63000000000002
        ],
        [
         2009,
         3,
         "Brooklyn",
         "EWR",
         78,
         5390.1,
         1370.8900000000003
        ],
        [
         2009,
         3,
         "Staten Island",
         "Queens",
         13,
         622.0899999999999,
         216.62000000000003
        ],
        [
         2009,
         3,
         "nan",
         "Bronx",
         577,
         11370.00000000001,
         3674.310000000001
        ],
        [
         2009,
         3,
         "nan",
         "Brooklyn",
         2257,
         44840.66,
         15220.809999999989
        ],
        [
         2009,
         3,
         "EWR",
         "EWR",
         1353,
         84897.08000000003,
         364.0599999999998
        ],
        [
         2009,
         3,
         "Queens",
         "EWR",
         296,
         28761.51,
         8713.990000000009
        ],
        [
         2009,
         3,
         "EWR",
         "Queens",
         3,
         320.18,
         94.61
        ],
        [
         2009,
         3,
         "Manhattan",
         "Queens",
         455316,
         12838668.190006573,
         4342716.3700000215
        ],
        [
         2009,
         3,
         "Brooklyn",
         "nan",
         1016,
         16101.28000000001,
         4479.710000000008
        ],
        [
         2009,
         3,
         "EWR",
         "Bronx",
         1,
         39,
         16.7
        ],
        [
         2009,
         3,
         "Bronx",
         "Staten Island",
         3,
         206.55,
         71.45
        ],
        [
         2009,
         3,
         "EWR",
         "Staten Island",
         1,
         39.1,
         13.3
        ],
        [
         2009,
         3,
         "Manhattan",
         "Manhattan",
         12260822,
         106887399.92002669,
         23780813.32000188
        ],
        [
         2009,
         3,
         "Manhattan",
         "Staten Island",
         2167,
         121962.91000000003,
         40946.97
        ],
        [
         2009,
         3,
         "Manhattan",
         "Manhattan', 'Manhattan",
         2,
         19,
         3.12
        ],
        [
         2009,
         3,
         "nan",
         "nan",
         241524,
         2963240.690000094,
         602529.749999984
        ],
        [
         2009,
         3,
         "Queens",
         "Brooklyn",
         57834,
         1937309.440000032,
         767627.7099999841
        ],
        [
         2009,
         3,
         "Queens",
         "nan",
         7211,
         325595.36999999936,
         95212.92000000001
        ],
        [
         2009,
         3,
         "Queens",
         "Staten Island",
         493,
         32674.459999999974,
         13065.299999999992
        ],
        [
         2009,
         3,
         "Bronx",
         "Queens",
         387,
         10071.50999999999,
         3442.4100000000008
        ],
        [
         2009,
         3,
         "Staten Island",
         "Manhattan",
         79,
         1428.0600000000004,
         448.87000000000006
        ],
        [
         2009,
         3,
         "Brooklyn",
         "Staten Island",
         99,
         3385.680000000001,
         1096.6299999999999
        ],
        [
         2009,
         3,
         "EWR",
         "Manhattan",
         28,
         1148.9899999999998,
         261.75
        ],
        [
         2009,
         3,
         "Staten Island",
         "Brooklyn",
         27,
         571.4,
         188.64999999999995
        ],
        [
         2009,
         3,
         "nan",
         "Queens",
         4609,
         107371.66999999921,
         34614.500000000065
        ],
        [
         2009,
         3,
         "Staten Island",
         "Bronx",
         1,
         40.9,
         19.07
        ],
        [
         2009,
         3,
         "EWR",
         "Brooklyn",
         1,
         44.9,
         16.3
        ],
        [
         2009,
         3,
         "Queens",
         "Manhattan",
         335345,
         11126052.89000887,
         3751508.6500000875
        ],
        [
         2009,
         3,
         "Brooklyn",
         "Brooklyn",
         127464,
         1175499.3499999926,
         275306.640000004
        ],
        [
         2009,
         3,
         "Queens",
         "Bronx",
         9048,
         348063.92000000115,
         132919.26000000013
        ],
        [
         2009,
         3,
         "nan",
         "Manhattan",
         23762,
         302985.4300000013,
         79512.81999999938
        ],
        [
         2009,
         3,
         "Staten Island",
         "Staten Island",
         498,
         7714.069999999997,
         819.2099999999999
        ],
        [
         2009,
         3,
         "Manhattan",
         "Bronx",
         54466,
         1415561.9399999946,
         532741.6600000059
        ],
        [
         2009,
         3,
         "Brooklyn",
         "Queens",
         11790,
         286508.05999999965,
         104885.24000000038
        ],
        [
         2009,
         3,
         "Manhattan",
         "nan",
         28405,
         658733.1500000014,
         150818.72999999954
        ],
        [
         2009,
         3,
         "Staten Island",
         "nan",
         74,
         980.1399999999998,
         277.59000000000003
        ],
        [
         2009,
         3,
         "Queens",
         "Queens",
         223116,
         3288586.8999997955,
         846372.3300000111
        ],
        [
         2009,
         3,
         "Brooklyn",
         "Manhattan",
         92615,
         1494957.0600000378,
         460795.63000000594
        ],
        [
         2009,
         3,
         "Bronx",
         "Bronx",
         9955,
         97891.26000000017,
         19564.070000000083
        ],
        [
         2009,
         3,
         "Manhattan",
         "EWR",
         13997,
         935800.0400000007,
         244242.5099999992
        ],
        [
         2009,
         3,
         "Bronx",
         "nan",
         418,
         7564.810000000002,
         1950.1799999999994
        ],
        [
         2009,
         3,
         "nan",
         "Staten Island",
         102,
         2166.56,
         692.1400000000002
        ],
        [
         2009,
         3,
         "Bronx",
         "Manhattan",
         3427,
         45377.950000000004,
         13610.770000000002
        ],
        [
         2009,
         3,
         "Bronx",
         "EWR",
         6,
         540.5,
         161.04000000000002
        ],
        [
         2009,
         5,
         "Queens",
         "Queens",
         236643,
         3524106.9799997406,
         914008.3100000102
        ],
        [
         2009,
         5,
         "EWR",
         "nan",
         42,
         1511.9599999999998,
         156.81999999999996
        ],
        [
         2009,
         5,
         "Queens",
         "Brooklyn",
         62759,
         2077287.6900000281,
         821325.8099999995
        ],
        [
         2009,
         5,
         "Manhattan",
         "Staten Island",
         2013,
         110684.41000000015,
         37006.60000000006
        ],
        [
         2009,
         5,
         "Queens",
         "nan",
         7646,
         337355.3000000015,
         98988.09999999971
        ],
        [
         2009,
         5,
         "Brooklyn",
         "Manhattan",
         103601,
         1675059.4700000603,
         517181.6699999982
        ],
        [
         2009,
         5,
         "Brooklyn",
         "EWR",
         102,
         7126.579999999998,
         1845.29
        ],
        [
         2009,
         5,
         "Brooklyn",
         "nan",
         1290,
         20586.31000000004,
         5705.029999999995
        ],
        [
         2009,
         5,
         "Brooklyn",
         "Bronx",
         447,
         17269.82,
         6942.560000000005
        ],
        [
         2009,
         5,
         "nan",
         "Bronx",
         791,
         15532.730000000001,
         5203.759999999997
        ],
        [
         2009,
         5,
         "Manhattan",
         "Brooklyn",
         427353,
         8053556.49000073,
         2569450.1199999973
        ],
        [
         2009,
         5,
         "Manhattan",
         "Bronx",
         54781,
         1415928.9399999948,
         528215.920000003
        ],
        [
         2009,
         5,
         "Staten Island",
         "Bronx",
         2,
         76.85,
         30.919999999999998
        ],
        [
         2009,
         5,
         "Manhattan', 'Manhattan",
         "Manhattan",
         1,
         6.5,
         0.97
        ],
        [
         2009,
         5,
         "Staten Island",
         "Staten Island",
         595,
         8275.790000000006,
         1121.0300000000007
        ],
        [
         2009,
         5,
         "Staten Island",
         "Brooklyn",
         39,
         913.64,
         297.75999999999993
        ],
        [
         2009,
         5,
         "Staten Island",
         "EWR",
         1,
         163.3,
         10.54
        ],
        [
         2009,
         5,
         "Queens",
         "Bronx",
         9738,
         372423.19,
         141317.8300000006
        ],
        [
         2009,
         5,
         "Bronx",
         "Manhattan",
         3356,
         47515.12,
         14512.179999999991
        ],
        [
         2009,
         5,
         "nan",
         "EWR",
         291,
         17779.699999999993,
         3394.0399999999995
        ],
        [
         2009,
         5,
         "Bronx",
         "EWR",
         8,
         643.3999999999999,
         191.75
        ],
        [
         2009,
         5,
         "nan",
         "nan",
         272401,
         3286376.470000038,
         697613.0899999959
        ],
        [
         2009,
         5,
         "Manhattan",
         "nan",
         29259,
         659543.16,
         153625.7999999995
        ],
        [
         2009,
         5,
         "Brooklyn",
         "Queens",
         13367,
         324039.50999999867,
         118471.52999999975
        ],
        [
         2009,
         5,
         "EWR",
         "EWR",
         1512,
         99397.13999999996,
         323.3699999999999
        ],
        [
         2009,
         5,
         "Bronx",
         "Staten Island",
         1,
         6.1,
         0.8599999999999999
        ],
        [
         2009,
         5,
         "nan",
         "Manhattan",
         25381,
         332568.2599999998,
         86085.68999999971
        ],
        [
         2009,
         5,
         "nan",
         "Brooklyn",
         2826,
         56001.270000000164,
         19046.86999999999
        ],
        [
         2009,
         5,
         "Bronx",
         "Queens",
         446,
         12033.299999999983,
         4160.5599999999995
        ],
        [
         2009,
         5,
         "Bronx",
         "nan",
         509,
         8939.859999999997,
         2225.090000000001
        ],
        [
         2009,
         5,
         "Staten Island",
         "Queens",
         11,
         458.55,
         179.15
        ],
        [
         2009,
         5,
         "Queens",
         "EWR",
         300,
         29133.650000000023,
         8595.969999999998
        ],
        [
         2009,
         5,
         "Queens",
         "Manhattan",
         350480,
         11690124.000009742,
         3918014.959999913
        ],
        [
         2009,
         5,
         "Brooklyn",
         "Staten Island",
         128,
         4768.249999999997,
         1472.97
        ],
        [
         2009,
         5,
         "nan",
         "Queens",
         5401,
         125370.65999999952,
         40276.709999999846
        ],
        [
         2009,
         5,
         "Manhattan",
         "Manhattan",
         12555297,
         110084955.77005765,
         24715653.259998247
        ],
        [
         2009,
         5,
         "Manhattan",
         "Queens",
         466647,
         13579248.610007305,
         4561688.570000133
        ],
        [
         2009,
         5,
         "Brooklyn",
         "Brooklyn",
         134995,
         1252616.6100000092,
         302236.3499999986
        ],
        [
         2009,
         5,
         "Manhattan",
         "EWR",
         15917,
         1083214.6100000003,
         280136.10999999905
        ],
        [
         2009,
         5,
         "EWR",
         "Manhattan",
         25,
         1420.2299999999998,
         359.37
        ],
        [
         2009,
         5,
         "Manhattan",
         "Manhattan', 'Manhattan",
         1,
         5.5,
         0.7299999999999999
        ],
        [
         2009,
         5,
         "Bronx",
         "Bronx",
         8953,
         87300.81999999999,
         17465.730000000032
        ],
        [
         2009,
         5,
         "Bronx",
         "Brooklyn",
         101,
         3430.1100000000006,
         1326.9000000000003
        ],
        [
         2009,
         5,
         "Queens",
         "Staten Island",
         575,
         38065.209999999985,
         15038.96
        ],
        [
         2009,
         5,
         "Staten Island",
         "Manhattan",
         84,
         1685.7199999999998,
         500.1699999999999
        ],
        [
         2009,
         5,
         "Staten Island",
         "nan",
         95,
         1223.7700000000007,
         359.4700000000001
        ],
        [
         2009,
         5,
         "EWR",
         "Brooklyn",
         3,
         189.42000000000002,
         50.540000000000006
        ],
        [
         2009,
         5,
         "nan",
         "Staten Island",
         95,
         1948.2999999999993,
         619.3800000000002
        ],
        [
         2009,
         5,
         "EWR",
         "Queens",
         4,
         259.6499999999999,
         96.99999999999999
        ],
        [
         2009,
         11,
         "EWR",
         "nan",
         44,
         1241.1299999999999,
         209.69000000000003
        ],
        [
         2009,
         11,
         "Brooklyn",
         "Staten Island",
         90,
         3559.8399999999992,
         1134.5699999999997
        ],
        [
         2009,
         11,
         "EWR",
         "EWR",
         1562,
         106319.65999999999,
         525.5800000000004
        ],
        [
         2009,
         11,
         "Manhattan",
         "Brooklyn",
         393772,
         7690989.960000358,
         2357839.450000073
        ],
        [
         2009,
         11,
         "Brooklyn",
         "Manhattan",
         95730,
         1624436.1000000404,
         476945.8199999962
        ],
        [
         2009,
         11,
         "Bronx",
         "nan",
         942,
         17385.200000000026,
         4069.669999999997
        ],
        [
         2009,
         11,
         "Brooklyn",
         "Bronx",
         391,
         15480.839999999998,
         6051.269999999994
        ],
        [
         2009,
         11,
         "EWR",
         "Queens",
         4,
         296.29999999999995,
         101.14999999999999
        ],
        [
         2009,
         11,
         "Staten Island",
         "EWR",
         1,
         17.9,
         6.81
        ],
        [
         2009,
         11,
         "Manhattan",
         "nan",
         33659,
         768199.1499999929,
         166759.08999999988
        ],
        [
         2009,
         11,
         "nan",
         "Brooklyn",
         3257,
         60984.19999999994,
         19167.770000000004
        ],
        [
         2009,
         11,
         "Staten Island",
         "Manhattan",
         77,
         1285.51,
         368.0299999999999
        ],
        [
         2009,
         11,
         "Bronx",
         "Brooklyn",
         86,
         3212.5699999999997,
         1216.1399999999999
        ],
        [
         2009,
         11,
         "Manhattan",
         "Queens",
         454215,
         13766696.610002184,
         4477422.8399998965
        ],
        [
         2009,
         11,
         "Manhattan",
         "Bronx",
         44339,
         1192613.49999998,
         431869.26999999746
        ],
        [
         2009,
         11,
         "Staten Island",
         "nan",
         145,
         2127.9999999999986,
         571
        ],
        [
         2009,
         11,
         "Queens",
         "EWR",
         295,
         28714.06000000001,
         8337.590000000004
        ],
        [
         2009,
         11,
         "Manhattan', 'Manhattan",
         "Manhattan",
         1,
         21.4,
         6.19
        ],
        [
         2009,
         11,
         "Queens",
         "Queens",
         243271,
         3649589.0699997703,
         900145.930000027
        ],
        [
         2009,
         11,
         "Brooklyn",
         "Queens",
         13048,
         320106.86000000057,
         112466.42000000006
        ],
        [
         2009,
         11,
         "Queens",
         "Bronx",
         8323,
         328104.27999999915,
         119759.81000000016
        ],
        [
         2009,
         11,
         "Staten Island",
         "Brooklyn",
         32,
         521.92,
         154.94999999999996
        ],
        [
         2009,
         11,
         "Bronx",
         "Staten Island",
         1,
         57.8,
         26.1
        ],
        [
         2009,
         11,
         "Bronx",
         "EWR",
         1,
         70.5,
         18.3
        ],
        [
         2009,
         11,
         "Staten Island",
         "Staten Island",
         1212,
         14398.890000000016,
         2402.0900000000015
        ],
        [
         2009,
         11,
         "Queens",
         "nan",
         9295,
         392636.6400000026,
         109222.17000000025
        ],
        [
         2009,
         11,
         "Manhattan",
         "EWR",
         16443,
         1132179.1100000036,
         286385.3199999987
        ],
        [
         2009,
         11,
         "Manhattan",
         "Staten Island",
         1915,
         108934.36999999972,
         35181.65000000001
        ],
        [
         2009,
         11,
         "Queens",
         "Brooklyn",
         59074,
         1981583.0200000526,
         759761.0900000021
        ],
        [
         2009,
         11,
         "EWR",
         "Staten Island",
         2,
         78.35,
         25.75
        ],
        [
         2009,
         11,
         "Staten Island",
         "Bronx",
         1,
         19.9,
         6.11
        ],
        [
         2009,
         11,
         "Manhattan",
         "Manhattan",
         12060086,
         113920861.92998746,
         23504048.800002348
        ],
        [
         2009,
         11,
         "nan",
         "EWR",
         350,
         22521.839999999993,
         4063.3300000000013
        ],
        [
         2009,
         11,
         "Brooklyn",
         "Brooklyn",
         131990,
         1319727.8900000062,
         297037.6300000006
        ],
        [
         2009,
         11,
         "nan",
         "Manhattan",
         31926,
         421771.0800000018,
         104058.9300000009
        ],
        [
         2009,
         11,
         "Bronx",
         "Manhattan",
         2796,
         40567.38999999999,
         11707.680000000002
        ],
        [
         2009,
         11,
         "Bronx",
         "Queens",
         457,
         12273.060000000001,
         3962.4100000000008
        ],
        [
         2009,
         11,
         "nan",
         "Staten Island",
         177,
         3598.7699999999977,
         1094.1899999999991
        ],
        [
         2009,
         11,
         "Brooklyn",
         "EWR",
         127,
         9396.700000000004,
         2323.4299999999985
        ],
        [
         2009,
         11,
         "nan",
         "Queens",
         7262,
         159868.94000000245,
         49132.949999999844
        ],
        [
         2009,
         11,
         "nan",
         "Bronx",
         1138,
         20020.74000000004,
         6024.77999999999
        ],
        [
         2009,
         11,
         "EWR",
         "Manhattan",
         17,
         932.0799999999999,
         258.37999999999994
        ],
        [
         2009,
         11,
         "EWR",
         "Bronx",
         1,
         62,
         24.6
        ],
        [
         2009,
         11,
         "nan",
         "nan",
         279574,
         3577635.970000062,
         708817.9100000118
        ],
        [
         2009,
         11,
         "Brooklyn",
         "nan",
         1705,
         28052.369999999977,
         7346.540000000006
        ],
        [
         2009,
         11,
         "Staten Island",
         "Queens",
         13,
         548.46,
         205.26
        ],
        [
         2009,
         11,
         "EWR",
         "Brooklyn",
         2,
         101.17999999999999,
         26.87
        ],
        [
         2009,
         11,
         "Queens",
         "Manhattan",
         363976,
         12965849.490006065,
         4190840.8099998976
        ],
        [
         2009,
         11,
         "Bronx",
         "Bronx",
         11994,
         125473.7900000001,
         26151.520000000008
        ],
        [
         2009,
         11,
         "Queens",
         "Staten Island",
         520,
         35430.909999999996,
         13500.649999999994
        ]
       ],
       "datasetInfos": [],
       "dbfsResultPath": null,
       "isJsonSchema": true,
       "metadata": {},
       "overflow": false,
       "plotOptions": {
        "customPlotOptions": {},
        "displayType": "table",
        "pivotAggregation": null,
        "pivotColumns": null,
        "xColumns": null,
        "yColumns": null
       },
       "removedWidgets": [],
       "schema": [
        {
         "metadata": "{}",
         "name": "pickup_year",
         "type": "\"long\""
        },
        {
         "metadata": "{}",
         "name": "pickup_month",
         "type": "\"long\""
        },
        {
         "metadata": "{}",
         "name": "PU_zone",
         "type": "\"string\""
        },
        {
         "metadata": "{}",
         "name": "DO_zone",
         "type": "\"string\""
        },
        {
         "metadata": "{}",
         "name": "conteo",
         "type": "\"long\""
        },
        {
         "metadata": "{}",
         "name": "tot_amt",
         "type": "\"double\""
        },
        {
         "metadata": "{}",
         "name": "distancia",
         "type": "\"double\""
        }
       ],
       "type": "table"
      }
     },
     "output_type": "display_data"
    }
   ],
   "source": [
    "display(agg_df)"
   ]
  },
  {
   "cell_type": "code",
   "execution_count": null,
   "metadata": {},
   "outputs": [],
   "source": [
    "agg_df.write.parquet(\"/FileStore/2009.parquet\")"
   ]
  }
 ],
 "metadata": {
  "application/vnd.databricks.v1+notebook": {
   "dashboards": [],
   "language": "python",
   "notebookMetadata": {
    "mostRecentlyExecutedCommandWithImplicitDF": {
     "commandId": 1596321158309973,
     "dataframes": [
      "_sqldf"
     ]
    },
    "pythonIndentUnit": 4
   },
   "notebookName": "Notebook taxis",
   "widgets": {}
  },
  "kernelspec": {
   "display_name": "Python 3 (ipykernel)",
   "language": "python",
   "name": "python3"
  },
  "language_info": {
   "codemirror_mode": {
    "name": "ipython",
    "version": 3
   },
   "file_extension": ".py",
   "mimetype": "text/x-python",
   "name": "python",
   "nbconvert_exporter": "python",
   "pygments_lexer": "ipython3",
   "version": "3.11.4"
  }
 },
 "nbformat": 4,
 "nbformat_minor": 1
}
